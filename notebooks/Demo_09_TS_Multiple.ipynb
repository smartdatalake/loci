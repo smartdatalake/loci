{
 "cells": [
  {
   "cell_type": "code",
   "execution_count": 15,
   "id": "d9fb4d2c",
   "metadata": {},
   "outputs": [
    {
     "data": {
      "application/javascript": [
       "\n",
       "(function(root) {\n",
       "  function now() {\n",
       "    return new Date();\n",
       "  }\n",
       "\n",
       "  var force = true;\n",
       "\n",
       "  if (typeof root._bokeh_onload_callbacks === \"undefined\" || force === true) {\n",
       "    root._bokeh_onload_callbacks = [];\n",
       "    root._bokeh_is_loading = undefined;\n",
       "  }\n",
       "\n",
       "  if (typeof (root._bokeh_timeout) === \"undefined\" || force === true) {\n",
       "    root._bokeh_timeout = Date.now() + 5000;\n",
       "    root._bokeh_failed_load = false;\n",
       "  }\n",
       "\n",
       "  function run_callbacks() {\n",
       "    try {\n",
       "      root._bokeh_onload_callbacks.forEach(function(callback) {\n",
       "        if (callback != null)\n",
       "          callback();\n",
       "      });\n",
       "    } finally {\n",
       "      delete root._bokeh_onload_callbacks\n",
       "    }\n",
       "    console.debug(\"Bokeh: all callbacks have finished\");\n",
       "  }\n",
       "\n",
       "  function load_libs(css_urls, js_urls, js_modules, callback) {\n",
       "    if (css_urls == null) css_urls = [];\n",
       "    if (js_urls == null) js_urls = [];\n",
       "    if (js_modules == null) js_modules = [];\n",
       "\n",
       "    root._bokeh_onload_callbacks.push(callback);\n",
       "    if (root._bokeh_is_loading > 0) {\n",
       "      console.debug(\"Bokeh: BokehJS is being loaded, scheduling callback at\", now());\n",
       "      return null;\n",
       "    }\n",
       "    if (js_urls.length === 0 && js_modules.length === 0) {\n",
       "      run_callbacks();\n",
       "      return null;\n",
       "    }\n",
       "    console.debug(\"Bokeh: BokehJS not loaded, scheduling load and callback at\", now());\n",
       "    root._bokeh_is_loading = css_urls.length + js_urls.length + js_modules.length;\n",
       "\n",
       "    function on_load() {\n",
       "      root._bokeh_is_loading--;\n",
       "      if (root._bokeh_is_loading === 0) {\n",
       "        console.debug(\"Bokeh: all BokehJS libraries/stylesheets loaded\");\n",
       "        run_callbacks()\n",
       "      }\n",
       "    }\n",
       "\n",
       "    function on_error() {\n",
       "      console.error(\"failed to load \" + url);\n",
       "    }\n",
       "\n",
       "    for (var i = 0; i < css_urls.length; i++) {\n",
       "      var url = css_urls[i];\n",
       "      const element = document.createElement(\"link\");\n",
       "      element.onload = on_load;\n",
       "      element.onerror = on_error;\n",
       "      element.rel = \"stylesheet\";\n",
       "      element.type = \"text/css\";\n",
       "      element.href = url;\n",
       "      console.debug(\"Bokeh: injecting link tag for BokehJS stylesheet: \", url);\n",
       "      document.body.appendChild(element);\n",
       "    }\n",
       "\n",
       "    var skip = [];\n",
       "    if (window.requirejs) {\n",
       "      window.requirejs.config({'paths': {'tabulator': 'https://unpkg.com/tabulator-tables@4.9.3/dist/js/tabulator'}});\n",
       "      require([\"tabulator\"], function(Tabulator,) {\n",
       "        window.Tabulator = Tabulator;\n",
       "      })\n",
       "    }\n",
       "    if (((window['tabulator'] !== undefined) && (!(window['tabulator'] instanceof HTMLElement))) || window.requirejs) {\n",
       "      var urls = ['https://unpkg.com/tabulator-tables@4.9.3/dist/js/tabulator.js', 'https://unpkg.com/moment@2.27.0/moment.js'];\n",
       "      for (var i = 0; i < urls.length; i++) {\n",
       "        skip.push(urls[i])\n",
       "      }\n",
       "    }\n",
       "    for (var i = 0; i < js_urls.length; i++) {\n",
       "      var url = js_urls[i];\n",
       "      if (skip.indexOf(url) >= 0) { on_load(); continue; }\n",
       "      var element = document.createElement('script');\n",
       "      element.onload = on_load;\n",
       "      element.onerror = on_error;\n",
       "      element.async = false;\n",
       "      element.src = url;\n",
       "      console.debug(\"Bokeh: injecting script tag for BokehJS library: \", url);\n",
       "      document.head.appendChild(element);\n",
       "    }\n",
       "    for (var i = 0; i < js_modules.length; i++) {\n",
       "      var url = js_modules[i];\n",
       "      if (skip.indexOf(url) >= 0) { on_load(); continue; }\n",
       "      var element = document.createElement('script');\n",
       "      element.onload = on_load;\n",
       "      element.onerror = on_error;\n",
       "      element.async = false;\n",
       "      element.src = url;\n",
       "      element.type = \"module\";\n",
       "      console.debug(\"Bokeh: injecting script tag for BokehJS library: \", url);\n",
       "      document.head.appendChild(element);\n",
       "    }\n",
       "    if (!js_urls.length && !js_modules.length) {\n",
       "      on_load()\n",
       "    }\n",
       "  };\n",
       "\n",
       "  function inject_raw_css(css) {\n",
       "    const element = document.createElement(\"style\");\n",
       "    element.appendChild(document.createTextNode(css));\n",
       "    document.body.appendChild(element);\n",
       "  }\n",
       "\n",
       "  var js_urls = [\"https://unpkg.com/tabulator-tables@4.9.3/dist/js/tabulator.js\", \"https://unpkg.com/moment@2.27.0/moment.js\", \"https://cdn.bokeh.org/bokeh/release/bokeh-2.3.3.min.js\", \"https://cdn.bokeh.org/bokeh/release/bokeh-widgets-2.3.3.min.js\", \"https://cdn.bokeh.org/bokeh/release/bokeh-tables-2.3.3.min.js\", \"https://unpkg.com/@holoviz/panel@0.11.3/dist/panel.min.js\"];\n",
       "  var js_modules = [];\n",
       "  var css_urls = [\"https://unpkg.com/tabulator-tables@4.9.3/dist/css/tabulator_simple.min.css\", \"https://unpkg.com/@holoviz/panel@0.11.3/dist/css/json.css\", \"https://unpkg.com/@holoviz/panel@0.11.3/dist/css/loading.css\", \"https://unpkg.com/@holoviz/panel@0.11.3/dist/css/widgets.css\", \"https://unpkg.com/@holoviz/panel@0.11.3/dist/css/markdown.css\", \"https://unpkg.com/@holoviz/panel@0.11.3/dist/css/alerts.css\", \"https://unpkg.com/@holoviz/panel@0.11.3/dist/css/card.css\", \"https://unpkg.com/@holoviz/panel@0.11.3/dist/css/dataframe.css\"];\n",
       "  var inline_js = [\n",
       "    function(Bokeh) {\n",
       "      inject_raw_css(\"\\n    .bk.pn-loading.arcs:before {\\n      background-image: url(\\\"data:image/svg+xml;base64,PHN2ZyB4bWxucz0iaHR0cDovL3d3dy53My5vcmcvMjAwMC9zdmciIHhtbG5zOnhsaW5rPSJodHRwOi8vd3d3LnczLm9yZy8xOTk5L3hsaW5rIiBzdHlsZT0ibWFyZ2luOiBhdXRvOyBiYWNrZ3JvdW5kOiBub25lOyBkaXNwbGF5OiBibG9jazsgc2hhcGUtcmVuZGVyaW5nOiBhdXRvOyIgdmlld0JveD0iMCAwIDEwMCAxMDAiIHByZXNlcnZlQXNwZWN0UmF0aW89InhNaWRZTWlkIj4gIDxjaXJjbGUgY3g9IjUwIiBjeT0iNTAiIHI9IjMyIiBzdHJva2Utd2lkdGg9IjgiIHN0cm9rZT0iI2MzYzNjMyIgc3Ryb2tlLWRhc2hhcnJheT0iNTAuMjY1NDgyNDU3NDM2NjkgNTAuMjY1NDgyNDU3NDM2NjkiIGZpbGw9Im5vbmUiIHN0cm9rZS1saW5lY2FwPSJyb3VuZCI+ICAgIDxhbmltYXRlVHJhbnNmb3JtIGF0dHJpYnV0ZU5hbWU9InRyYW5zZm9ybSIgdHlwZT0icm90YXRlIiByZXBlYXRDb3VudD0iaW5kZWZpbml0ZSIgZHVyPSIxcyIga2V5VGltZXM9IjA7MSIgdmFsdWVzPSIwIDUwIDUwOzM2MCA1MCA1MCI+PC9hbmltYXRlVHJhbnNmb3JtPiAgPC9jaXJjbGU+PC9zdmc+\\\")\\n    }\\n    \");\n",
       "    },\n",
       "    function(Bokeh) {\n",
       "      Bokeh.set_log_level(\"info\");\n",
       "    },\n",
       "    function(Bokeh) {} // ensure no trailing comma for IE\n",
       "  ];\n",
       "\n",
       "  function run_inline_js() {\n",
       "    if ((root.Bokeh !== undefined) || (force === true)) {\n",
       "      for (var i = 0; i < inline_js.length; i++) {\n",
       "        inline_js[i].call(root, root.Bokeh);\n",
       "      }} else if (Date.now() < root._bokeh_timeout) {\n",
       "      setTimeout(run_inline_js, 100);\n",
       "    } else if (!root._bokeh_failed_load) {\n",
       "      console.log(\"Bokeh: BokehJS failed to load within specified timeout.\");\n",
       "      root._bokeh_failed_load = true;\n",
       "    }\n",
       "  }\n",
       "\n",
       "  if (root._bokeh_is_loading === 0) {\n",
       "    console.debug(\"Bokeh: BokehJS loaded, going straight to plotting\");\n",
       "    run_inline_js();\n",
       "  } else {\n",
       "    load_libs(css_urls, js_urls, js_modules, function() {\n",
       "      console.debug(\"Bokeh: BokehJS plotting callback run at\", now());\n",
       "      run_inline_js();\n",
       "    });\n",
       "  }\n",
       "}(window));"
      ],
      "application/vnd.holoviews_load.v0+json": "\n(function(root) {\n  function now() {\n    return new Date();\n  }\n\n  var force = true;\n\n  if (typeof root._bokeh_onload_callbacks === \"undefined\" || force === true) {\n    root._bokeh_onload_callbacks = [];\n    root._bokeh_is_loading = undefined;\n  }\n\n  if (typeof (root._bokeh_timeout) === \"undefined\" || force === true) {\n    root._bokeh_timeout = Date.now() + 5000;\n    root._bokeh_failed_load = false;\n  }\n\n  function run_callbacks() {\n    try {\n      root._bokeh_onload_callbacks.forEach(function(callback) {\n        if (callback != null)\n          callback();\n      });\n    } finally {\n      delete root._bokeh_onload_callbacks\n    }\n    console.debug(\"Bokeh: all callbacks have finished\");\n  }\n\n  function load_libs(css_urls, js_urls, js_modules, callback) {\n    if (css_urls == null) css_urls = [];\n    if (js_urls == null) js_urls = [];\n    if (js_modules == null) js_modules = [];\n\n    root._bokeh_onload_callbacks.push(callback);\n    if (root._bokeh_is_loading > 0) {\n      console.debug(\"Bokeh: BokehJS is being loaded, scheduling callback at\", now());\n      return null;\n    }\n    if (js_urls.length === 0 && js_modules.length === 0) {\n      run_callbacks();\n      return null;\n    }\n    console.debug(\"Bokeh: BokehJS not loaded, scheduling load and callback at\", now());\n    root._bokeh_is_loading = css_urls.length + js_urls.length + js_modules.length;\n\n    function on_load() {\n      root._bokeh_is_loading--;\n      if (root._bokeh_is_loading === 0) {\n        console.debug(\"Bokeh: all BokehJS libraries/stylesheets loaded\");\n        run_callbacks()\n      }\n    }\n\n    function on_error() {\n      console.error(\"failed to load \" + url);\n    }\n\n    for (var i = 0; i < css_urls.length; i++) {\n      var url = css_urls[i];\n      const element = document.createElement(\"link\");\n      element.onload = on_load;\n      element.onerror = on_error;\n      element.rel = \"stylesheet\";\n      element.type = \"text/css\";\n      element.href = url;\n      console.debug(\"Bokeh: injecting link tag for BokehJS stylesheet: \", url);\n      document.body.appendChild(element);\n    }\n\n    var skip = [];\n    if (window.requirejs) {\n      window.requirejs.config({'paths': {'tabulator': 'https://unpkg.com/tabulator-tables@4.9.3/dist/js/tabulator'}});\n      require([\"tabulator\"], function(Tabulator,) {\n        window.Tabulator = Tabulator;\n      })\n    }\n    if (((window['tabulator'] !== undefined) && (!(window['tabulator'] instanceof HTMLElement))) || window.requirejs) {\n      var urls = ['https://unpkg.com/tabulator-tables@4.9.3/dist/js/tabulator.js', 'https://unpkg.com/moment@2.27.0/moment.js'];\n      for (var i = 0; i < urls.length; i++) {\n        skip.push(urls[i])\n      }\n    }\n    for (var i = 0; i < js_urls.length; i++) {\n      var url = js_urls[i];\n      if (skip.indexOf(url) >= 0) { on_load(); continue; }\n      var element = document.createElement('script');\n      element.onload = on_load;\n      element.onerror = on_error;\n      element.async = false;\n      element.src = url;\n      console.debug(\"Bokeh: injecting script tag for BokehJS library: \", url);\n      document.head.appendChild(element);\n    }\n    for (var i = 0; i < js_modules.length; i++) {\n      var url = js_modules[i];\n      if (skip.indexOf(url) >= 0) { on_load(); continue; }\n      var element = document.createElement('script');\n      element.onload = on_load;\n      element.onerror = on_error;\n      element.async = false;\n      element.src = url;\n      element.type = \"module\";\n      console.debug(\"Bokeh: injecting script tag for BokehJS library: \", url);\n      document.head.appendChild(element);\n    }\n    if (!js_urls.length && !js_modules.length) {\n      on_load()\n    }\n  };\n\n  function inject_raw_css(css) {\n    const element = document.createElement(\"style\");\n    element.appendChild(document.createTextNode(css));\n    document.body.appendChild(element);\n  }\n\n  var js_urls = [\"https://unpkg.com/tabulator-tables@4.9.3/dist/js/tabulator.js\", \"https://unpkg.com/moment@2.27.0/moment.js\", \"https://cdn.bokeh.org/bokeh/release/bokeh-2.3.3.min.js\", \"https://cdn.bokeh.org/bokeh/release/bokeh-widgets-2.3.3.min.js\", \"https://cdn.bokeh.org/bokeh/release/bokeh-tables-2.3.3.min.js\", \"https://unpkg.com/@holoviz/panel@0.11.3/dist/panel.min.js\"];\n  var js_modules = [];\n  var css_urls = [\"https://unpkg.com/tabulator-tables@4.9.3/dist/css/tabulator_simple.min.css\", \"https://unpkg.com/@holoviz/panel@0.11.3/dist/css/json.css\", \"https://unpkg.com/@holoviz/panel@0.11.3/dist/css/loading.css\", \"https://unpkg.com/@holoviz/panel@0.11.3/dist/css/widgets.css\", \"https://unpkg.com/@holoviz/panel@0.11.3/dist/css/markdown.css\", \"https://unpkg.com/@holoviz/panel@0.11.3/dist/css/alerts.css\", \"https://unpkg.com/@holoviz/panel@0.11.3/dist/css/card.css\", \"https://unpkg.com/@holoviz/panel@0.11.3/dist/css/dataframe.css\"];\n  var inline_js = [\n    function(Bokeh) {\n      inject_raw_css(\"\\n    .bk.pn-loading.arcs:before {\\n      background-image: url(\\\"data:image/svg+xml;base64,PHN2ZyB4bWxucz0iaHR0cDovL3d3dy53My5vcmcvMjAwMC9zdmciIHhtbG5zOnhsaW5rPSJodHRwOi8vd3d3LnczLm9yZy8xOTk5L3hsaW5rIiBzdHlsZT0ibWFyZ2luOiBhdXRvOyBiYWNrZ3JvdW5kOiBub25lOyBkaXNwbGF5OiBibG9jazsgc2hhcGUtcmVuZGVyaW5nOiBhdXRvOyIgdmlld0JveD0iMCAwIDEwMCAxMDAiIHByZXNlcnZlQXNwZWN0UmF0aW89InhNaWRZTWlkIj4gIDxjaXJjbGUgY3g9IjUwIiBjeT0iNTAiIHI9IjMyIiBzdHJva2Utd2lkdGg9IjgiIHN0cm9rZT0iI2MzYzNjMyIgc3Ryb2tlLWRhc2hhcnJheT0iNTAuMjY1NDgyNDU3NDM2NjkgNTAuMjY1NDgyNDU3NDM2NjkiIGZpbGw9Im5vbmUiIHN0cm9rZS1saW5lY2FwPSJyb3VuZCI+ICAgIDxhbmltYXRlVHJhbnNmb3JtIGF0dHJpYnV0ZU5hbWU9InRyYW5zZm9ybSIgdHlwZT0icm90YXRlIiByZXBlYXRDb3VudD0iaW5kZWZpbml0ZSIgZHVyPSIxcyIga2V5VGltZXM9IjA7MSIgdmFsdWVzPSIwIDUwIDUwOzM2MCA1MCA1MCI+PC9hbmltYXRlVHJhbnNmb3JtPiAgPC9jaXJjbGU+PC9zdmc+\\\")\\n    }\\n    \");\n    },\n    function(Bokeh) {\n      Bokeh.set_log_level(\"info\");\n    },\n    function(Bokeh) {} // ensure no trailing comma for IE\n  ];\n\n  function run_inline_js() {\n    if ((root.Bokeh !== undefined) || (force === true)) {\n      for (var i = 0; i < inline_js.length; i++) {\n        inline_js[i].call(root, root.Bokeh);\n      }} else if (Date.now() < root._bokeh_timeout) {\n      setTimeout(run_inline_js, 100);\n    } else if (!root._bokeh_failed_load) {\n      console.log(\"Bokeh: BokehJS failed to load within specified timeout.\");\n      root._bokeh_failed_load = true;\n    }\n  }\n\n  if (root._bokeh_is_loading === 0) {\n    console.debug(\"Bokeh: BokehJS loaded, going straight to plotting\");\n    run_inline_js();\n  } else {\n    load_libs(css_urls, js_urls, js_modules, function() {\n      console.debug(\"Bokeh: BokehJS plotting callback run at\", now());\n      run_inline_js();\n    });\n  }\n}(window));"
     },
     "metadata": {},
     "output_type": "display_data"
    },
    {
     "data": {
      "application/javascript": [
       "\n",
       "if ((window.PyViz === undefined) || (window.PyViz instanceof HTMLElement)) {\n",
       "  window.PyViz = {comms: {}, comm_status:{}, kernels:{}, receivers: {}, plot_index: []}\n",
       "}\n",
       "\n",
       "\n",
       "    function JupyterCommManager() {\n",
       "    }\n",
       "\n",
       "    JupyterCommManager.prototype.register_target = function(plot_id, comm_id, msg_handler) {\n",
       "      if (window.comm_manager || ((window.Jupyter !== undefined) && (Jupyter.notebook.kernel != null))) {\n",
       "        var comm_manager = window.comm_manager || Jupyter.notebook.kernel.comm_manager;\n",
       "        comm_manager.register_target(comm_id, function(comm) {\n",
       "          comm.on_msg(msg_handler);\n",
       "        });\n",
       "      } else if ((plot_id in window.PyViz.kernels) && (window.PyViz.kernels[plot_id])) {\n",
       "        window.PyViz.kernels[plot_id].registerCommTarget(comm_id, function(comm) {\n",
       "          comm.onMsg = msg_handler;\n",
       "        });\n",
       "      } else if (typeof google != 'undefined' && google.colab.kernel != null) {\n",
       "        google.colab.kernel.comms.registerTarget(comm_id, (comm) => {\n",
       "          var messages = comm.messages[Symbol.asyncIterator]();\n",
       "          function processIteratorResult(result) {\n",
       "            var message = result.value;\n",
       "            console.log(message)\n",
       "            var content = {data: message.data, comm_id};\n",
       "            var buffers = []\n",
       "            for (var buffer of message.buffers || []) {\n",
       "              buffers.push(new DataView(buffer))\n",
       "            }\n",
       "            var metadata = message.metadata || {};\n",
       "            var msg = {content, buffers, metadata}\n",
       "            msg_handler(msg);\n",
       "            return messages.next().then(processIteratorResult);\n",
       "          }\n",
       "          return messages.next().then(processIteratorResult);\n",
       "        })\n",
       "      }\n",
       "    }\n",
       "\n",
       "    JupyterCommManager.prototype.get_client_comm = function(plot_id, comm_id, msg_handler) {\n",
       "      if (comm_id in window.PyViz.comms) {\n",
       "        return window.PyViz.comms[comm_id];\n",
       "      } else if (window.comm_manager || ((window.Jupyter !== undefined) && (Jupyter.notebook.kernel != null))) {\n",
       "        var comm_manager = window.comm_manager || Jupyter.notebook.kernel.comm_manager;\n",
       "        var comm = comm_manager.new_comm(comm_id, {}, {}, {}, comm_id);\n",
       "        if (msg_handler) {\n",
       "          comm.on_msg(msg_handler);\n",
       "        }\n",
       "      } else if ((plot_id in window.PyViz.kernels) && (window.PyViz.kernels[plot_id])) {\n",
       "        var comm = window.PyViz.kernels[plot_id].connectToComm(comm_id);\n",
       "        comm.open();\n",
       "        if (msg_handler) {\n",
       "          comm.onMsg = msg_handler;\n",
       "        }\n",
       "      } else if (typeof google != 'undefined' && google.colab.kernel != null) {\n",
       "        var comm_promise = google.colab.kernel.comms.open(comm_id)\n",
       "        comm_promise.then((comm) => {\n",
       "          window.PyViz.comms[comm_id] = comm;\n",
       "          if (msg_handler) {\n",
       "            var messages = comm.messages[Symbol.asyncIterator]();\n",
       "            function processIteratorResult(result) {\n",
       "              var message = result.value;\n",
       "              var content = {data: message.data};\n",
       "              var metadata = message.metadata || {comm_id};\n",
       "              var msg = {content, metadata}\n",
       "              msg_handler(msg);\n",
       "              return messages.next().then(processIteratorResult);\n",
       "            }\n",
       "            return messages.next().then(processIteratorResult);\n",
       "          }\n",
       "        }) \n",
       "        var sendClosure = (data, metadata, buffers, disposeOnDone) => {\n",
       "          return comm_promise.then((comm) => {\n",
       "            comm.send(data, metadata, buffers, disposeOnDone);\n",
       "          });\n",
       "        };\n",
       "        var comm = {\n",
       "          send: sendClosure\n",
       "        };\n",
       "      }\n",
       "      window.PyViz.comms[comm_id] = comm;\n",
       "      return comm;\n",
       "    }\n",
       "    window.PyViz.comm_manager = new JupyterCommManager();\n",
       "    \n",
       "\n",
       "\n",
       "var JS_MIME_TYPE = 'application/javascript';\n",
       "var HTML_MIME_TYPE = 'text/html';\n",
       "var EXEC_MIME_TYPE = 'application/vnd.holoviews_exec.v0+json';\n",
       "var CLASS_NAME = 'output';\n",
       "\n",
       "/**\n",
       " * Render data to the DOM node\n",
       " */\n",
       "function render(props, node) {\n",
       "  var div = document.createElement(\"div\");\n",
       "  var script = document.createElement(\"script\");\n",
       "  node.appendChild(div);\n",
       "  node.appendChild(script);\n",
       "}\n",
       "\n",
       "/**\n",
       " * Handle when a new output is added\n",
       " */\n",
       "function handle_add_output(event, handle) {\n",
       "  var output_area = handle.output_area;\n",
       "  var output = handle.output;\n",
       "  if ((output.data == undefined) || (!output.data.hasOwnProperty(EXEC_MIME_TYPE))) {\n",
       "    return\n",
       "  }\n",
       "  var id = output.metadata[EXEC_MIME_TYPE][\"id\"];\n",
       "  var toinsert = output_area.element.find(\".\" + CLASS_NAME.split(' ')[0]);\n",
       "  if (id !== undefined) {\n",
       "    var nchildren = toinsert.length;\n",
       "    var html_node = toinsert[nchildren-1].children[0];\n",
       "    html_node.innerHTML = output.data[HTML_MIME_TYPE];\n",
       "    var scripts = [];\n",
       "    var nodelist = html_node.querySelectorAll(\"script\");\n",
       "    for (var i in nodelist) {\n",
       "      if (nodelist.hasOwnProperty(i)) {\n",
       "        scripts.push(nodelist[i])\n",
       "      }\n",
       "    }\n",
       "\n",
       "    scripts.forEach( function (oldScript) {\n",
       "      var newScript = document.createElement(\"script\");\n",
       "      var attrs = [];\n",
       "      var nodemap = oldScript.attributes;\n",
       "      for (var j in nodemap) {\n",
       "        if (nodemap.hasOwnProperty(j)) {\n",
       "          attrs.push(nodemap[j])\n",
       "        }\n",
       "      }\n",
       "      attrs.forEach(function(attr) { newScript.setAttribute(attr.name, attr.value) });\n",
       "      newScript.appendChild(document.createTextNode(oldScript.innerHTML));\n",
       "      oldScript.parentNode.replaceChild(newScript, oldScript);\n",
       "    });\n",
       "    if (JS_MIME_TYPE in output.data) {\n",
       "      toinsert[nchildren-1].children[1].textContent = output.data[JS_MIME_TYPE];\n",
       "    }\n",
       "    output_area._hv_plot_id = id;\n",
       "    if ((window.Bokeh !== undefined) && (id in Bokeh.index)) {\n",
       "      window.PyViz.plot_index[id] = Bokeh.index[id];\n",
       "    } else {\n",
       "      window.PyViz.plot_index[id] = null;\n",
       "    }\n",
       "  } else if (output.metadata[EXEC_MIME_TYPE][\"server_id\"] !== undefined) {\n",
       "    var bk_div = document.createElement(\"div\");\n",
       "    bk_div.innerHTML = output.data[HTML_MIME_TYPE];\n",
       "    var script_attrs = bk_div.children[0].attributes;\n",
       "    for (var i = 0; i < script_attrs.length; i++) {\n",
       "      toinsert[toinsert.length - 1].childNodes[1].setAttribute(script_attrs[i].name, script_attrs[i].value);\n",
       "    }\n",
       "    // store reference to server id on output_area\n",
       "    output_area._bokeh_server_id = output.metadata[EXEC_MIME_TYPE][\"server_id\"];\n",
       "  }\n",
       "}\n",
       "\n",
       "/**\n",
       " * Handle when an output is cleared or removed\n",
       " */\n",
       "function handle_clear_output(event, handle) {\n",
       "  var id = handle.cell.output_area._hv_plot_id;\n",
       "  var server_id = handle.cell.output_area._bokeh_server_id;\n",
       "  if (((id === undefined) || !(id in PyViz.plot_index)) && (server_id !== undefined)) { return; }\n",
       "  var comm = window.PyViz.comm_manager.get_client_comm(\"hv-extension-comm\", \"hv-extension-comm\", function () {});\n",
       "  if (server_id !== null) {\n",
       "    comm.send({event_type: 'server_delete', 'id': server_id});\n",
       "    return;\n",
       "  } else if (comm !== null) {\n",
       "    comm.send({event_type: 'delete', 'id': id});\n",
       "  }\n",
       "  delete PyViz.plot_index[id];\n",
       "  if ((window.Bokeh !== undefined) & (id in window.Bokeh.index)) {\n",
       "    var doc = window.Bokeh.index[id].model.document\n",
       "    doc.clear();\n",
       "    const i = window.Bokeh.documents.indexOf(doc);\n",
       "    if (i > -1) {\n",
       "      window.Bokeh.documents.splice(i, 1);\n",
       "    }\n",
       "  }\n",
       "}\n",
       "\n",
       "/**\n",
       " * Handle kernel restart event\n",
       " */\n",
       "function handle_kernel_cleanup(event, handle) {\n",
       "  delete PyViz.comms[\"hv-extension-comm\"];\n",
       "  window.PyViz.plot_index = {}\n",
       "}\n",
       "\n",
       "/**\n",
       " * Handle update_display_data messages\n",
       " */\n",
       "function handle_update_output(event, handle) {\n",
       "  handle_clear_output(event, {cell: {output_area: handle.output_area}})\n",
       "  handle_add_output(event, handle)\n",
       "}\n",
       "\n",
       "function register_renderer(events, OutputArea) {\n",
       "  function append_mime(data, metadata, element) {\n",
       "    // create a DOM node to render to\n",
       "    var toinsert = this.create_output_subarea(\n",
       "    metadata,\n",
       "    CLASS_NAME,\n",
       "    EXEC_MIME_TYPE\n",
       "    );\n",
       "    this.keyboard_manager.register_events(toinsert);\n",
       "    // Render to node\n",
       "    var props = {data: data, metadata: metadata[EXEC_MIME_TYPE]};\n",
       "    render(props, toinsert[0]);\n",
       "    element.append(toinsert);\n",
       "    return toinsert\n",
       "  }\n",
       "\n",
       "  events.on('output_added.OutputArea', handle_add_output);\n",
       "  events.on('output_updated.OutputArea', handle_update_output);\n",
       "  events.on('clear_output.CodeCell', handle_clear_output);\n",
       "  events.on('delete.Cell', handle_clear_output);\n",
       "  events.on('kernel_ready.Kernel', handle_kernel_cleanup);\n",
       "\n",
       "  OutputArea.prototype.register_mime_type(EXEC_MIME_TYPE, append_mime, {\n",
       "    safe: true,\n",
       "    index: 0\n",
       "  });\n",
       "}\n",
       "\n",
       "if (window.Jupyter !== undefined) {\n",
       "  try {\n",
       "    var events = require('base/js/events');\n",
       "    var OutputArea = require('notebook/js/outputarea').OutputArea;\n",
       "    if (OutputArea.prototype.mime_types().indexOf(EXEC_MIME_TYPE) == -1) {\n",
       "      register_renderer(events, OutputArea);\n",
       "    }\n",
       "  } catch(err) {\n",
       "  }\n",
       "}\n"
      ],
      "application/vnd.holoviews_load.v0+json": "\nif ((window.PyViz === undefined) || (window.PyViz instanceof HTMLElement)) {\n  window.PyViz = {comms: {}, comm_status:{}, kernels:{}, receivers: {}, plot_index: []}\n}\n\n\n    function JupyterCommManager() {\n    }\n\n    JupyterCommManager.prototype.register_target = function(plot_id, comm_id, msg_handler) {\n      if (window.comm_manager || ((window.Jupyter !== undefined) && (Jupyter.notebook.kernel != null))) {\n        var comm_manager = window.comm_manager || Jupyter.notebook.kernel.comm_manager;\n        comm_manager.register_target(comm_id, function(comm) {\n          comm.on_msg(msg_handler);\n        });\n      } else if ((plot_id in window.PyViz.kernels) && (window.PyViz.kernels[plot_id])) {\n        window.PyViz.kernels[plot_id].registerCommTarget(comm_id, function(comm) {\n          comm.onMsg = msg_handler;\n        });\n      } else if (typeof google != 'undefined' && google.colab.kernel != null) {\n        google.colab.kernel.comms.registerTarget(comm_id, (comm) => {\n          var messages = comm.messages[Symbol.asyncIterator]();\n          function processIteratorResult(result) {\n            var message = result.value;\n            console.log(message)\n            var content = {data: message.data, comm_id};\n            var buffers = []\n            for (var buffer of message.buffers || []) {\n              buffers.push(new DataView(buffer))\n            }\n            var metadata = message.metadata || {};\n            var msg = {content, buffers, metadata}\n            msg_handler(msg);\n            return messages.next().then(processIteratorResult);\n          }\n          return messages.next().then(processIteratorResult);\n        })\n      }\n    }\n\n    JupyterCommManager.prototype.get_client_comm = function(plot_id, comm_id, msg_handler) {\n      if (comm_id in window.PyViz.comms) {\n        return window.PyViz.comms[comm_id];\n      } else if (window.comm_manager || ((window.Jupyter !== undefined) && (Jupyter.notebook.kernel != null))) {\n        var comm_manager = window.comm_manager || Jupyter.notebook.kernel.comm_manager;\n        var comm = comm_manager.new_comm(comm_id, {}, {}, {}, comm_id);\n        if (msg_handler) {\n          comm.on_msg(msg_handler);\n        }\n      } else if ((plot_id in window.PyViz.kernels) && (window.PyViz.kernels[plot_id])) {\n        var comm = window.PyViz.kernels[plot_id].connectToComm(comm_id);\n        comm.open();\n        if (msg_handler) {\n          comm.onMsg = msg_handler;\n        }\n      } else if (typeof google != 'undefined' && google.colab.kernel != null) {\n        var comm_promise = google.colab.kernel.comms.open(comm_id)\n        comm_promise.then((comm) => {\n          window.PyViz.comms[comm_id] = comm;\n          if (msg_handler) {\n            var messages = comm.messages[Symbol.asyncIterator]();\n            function processIteratorResult(result) {\n              var message = result.value;\n              var content = {data: message.data};\n              var metadata = message.metadata || {comm_id};\n              var msg = {content, metadata}\n              msg_handler(msg);\n              return messages.next().then(processIteratorResult);\n            }\n            return messages.next().then(processIteratorResult);\n          }\n        }) \n        var sendClosure = (data, metadata, buffers, disposeOnDone) => {\n          return comm_promise.then((comm) => {\n            comm.send(data, metadata, buffers, disposeOnDone);\n          });\n        };\n        var comm = {\n          send: sendClosure\n        };\n      }\n      window.PyViz.comms[comm_id] = comm;\n      return comm;\n    }\n    window.PyViz.comm_manager = new JupyterCommManager();\n    \n\n\nvar JS_MIME_TYPE = 'application/javascript';\nvar HTML_MIME_TYPE = 'text/html';\nvar EXEC_MIME_TYPE = 'application/vnd.holoviews_exec.v0+json';\nvar CLASS_NAME = 'output';\n\n/**\n * Render data to the DOM node\n */\nfunction render(props, node) {\n  var div = document.createElement(\"div\");\n  var script = document.createElement(\"script\");\n  node.appendChild(div);\n  node.appendChild(script);\n}\n\n/**\n * Handle when a new output is added\n */\nfunction handle_add_output(event, handle) {\n  var output_area = handle.output_area;\n  var output = handle.output;\n  if ((output.data == undefined) || (!output.data.hasOwnProperty(EXEC_MIME_TYPE))) {\n    return\n  }\n  var id = output.metadata[EXEC_MIME_TYPE][\"id\"];\n  var toinsert = output_area.element.find(\".\" + CLASS_NAME.split(' ')[0]);\n  if (id !== undefined) {\n    var nchildren = toinsert.length;\n    var html_node = toinsert[nchildren-1].children[0];\n    html_node.innerHTML = output.data[HTML_MIME_TYPE];\n    var scripts = [];\n    var nodelist = html_node.querySelectorAll(\"script\");\n    for (var i in nodelist) {\n      if (nodelist.hasOwnProperty(i)) {\n        scripts.push(nodelist[i])\n      }\n    }\n\n    scripts.forEach( function (oldScript) {\n      var newScript = document.createElement(\"script\");\n      var attrs = [];\n      var nodemap = oldScript.attributes;\n      for (var j in nodemap) {\n        if (nodemap.hasOwnProperty(j)) {\n          attrs.push(nodemap[j])\n        }\n      }\n      attrs.forEach(function(attr) { newScript.setAttribute(attr.name, attr.value) });\n      newScript.appendChild(document.createTextNode(oldScript.innerHTML));\n      oldScript.parentNode.replaceChild(newScript, oldScript);\n    });\n    if (JS_MIME_TYPE in output.data) {\n      toinsert[nchildren-1].children[1].textContent = output.data[JS_MIME_TYPE];\n    }\n    output_area._hv_plot_id = id;\n    if ((window.Bokeh !== undefined) && (id in Bokeh.index)) {\n      window.PyViz.plot_index[id] = Bokeh.index[id];\n    } else {\n      window.PyViz.plot_index[id] = null;\n    }\n  } else if (output.metadata[EXEC_MIME_TYPE][\"server_id\"] !== undefined) {\n    var bk_div = document.createElement(\"div\");\n    bk_div.innerHTML = output.data[HTML_MIME_TYPE];\n    var script_attrs = bk_div.children[0].attributes;\n    for (var i = 0; i < script_attrs.length; i++) {\n      toinsert[toinsert.length - 1].childNodes[1].setAttribute(script_attrs[i].name, script_attrs[i].value);\n    }\n    // store reference to server id on output_area\n    output_area._bokeh_server_id = output.metadata[EXEC_MIME_TYPE][\"server_id\"];\n  }\n}\n\n/**\n * Handle when an output is cleared or removed\n */\nfunction handle_clear_output(event, handle) {\n  var id = handle.cell.output_area._hv_plot_id;\n  var server_id = handle.cell.output_area._bokeh_server_id;\n  if (((id === undefined) || !(id in PyViz.plot_index)) && (server_id !== undefined)) { return; }\n  var comm = window.PyViz.comm_manager.get_client_comm(\"hv-extension-comm\", \"hv-extension-comm\", function () {});\n  if (server_id !== null) {\n    comm.send({event_type: 'server_delete', 'id': server_id});\n    return;\n  } else if (comm !== null) {\n    comm.send({event_type: 'delete', 'id': id});\n  }\n  delete PyViz.plot_index[id];\n  if ((window.Bokeh !== undefined) & (id in window.Bokeh.index)) {\n    var doc = window.Bokeh.index[id].model.document\n    doc.clear();\n    const i = window.Bokeh.documents.indexOf(doc);\n    if (i > -1) {\n      window.Bokeh.documents.splice(i, 1);\n    }\n  }\n}\n\n/**\n * Handle kernel restart event\n */\nfunction handle_kernel_cleanup(event, handle) {\n  delete PyViz.comms[\"hv-extension-comm\"];\n  window.PyViz.plot_index = {}\n}\n\n/**\n * Handle update_display_data messages\n */\nfunction handle_update_output(event, handle) {\n  handle_clear_output(event, {cell: {output_area: handle.output_area}})\n  handle_add_output(event, handle)\n}\n\nfunction register_renderer(events, OutputArea) {\n  function append_mime(data, metadata, element) {\n    // create a DOM node to render to\n    var toinsert = this.create_output_subarea(\n    metadata,\n    CLASS_NAME,\n    EXEC_MIME_TYPE\n    );\n    this.keyboard_manager.register_events(toinsert);\n    // Render to node\n    var props = {data: data, metadata: metadata[EXEC_MIME_TYPE]};\n    render(props, toinsert[0]);\n    element.append(toinsert);\n    return toinsert\n  }\n\n  events.on('output_added.OutputArea', handle_add_output);\n  events.on('output_updated.OutputArea', handle_update_output);\n  events.on('clear_output.CodeCell', handle_clear_output);\n  events.on('delete.Cell', handle_clear_output);\n  events.on('kernel_ready.Kernel', handle_kernel_cleanup);\n\n  OutputArea.prototype.register_mime_type(EXEC_MIME_TYPE, append_mime, {\n    safe: true,\n    index: 0\n  });\n}\n\nif (window.Jupyter !== undefined) {\n  try {\n    var events = require('base/js/events');\n    var OutputArea = require('notebook/js/outputarea').OutputArea;\n    if (OutputArea.prototype.mime_types().indexOf(EXEC_MIME_TYPE) == -1) {\n      register_renderer(events, OutputArea);\n    }\n  } catch(err) {\n  }\n}\n"
     },
     "metadata": {},
     "output_type": "display_data"
    }
   ],
   "source": [
    "import sys\n",
    "sys.path.append('..')\n",
    "from loci import time_series as ts\n",
    "from IPython.display import display\n",
    "import panel as pn\n",
    "pn.extension()\n",
    "import warnings\n",
    "warnings.filterwarnings(\"ignore\")"
   ]
  },
  {
   "cell_type": "markdown",
   "id": "2019f4df",
   "metadata": {},
   "source": [
    "## Load Data"
   ]
  },
  {
   "cell_type": "code",
   "execution_count": 2,
   "id": "b690ced8",
   "metadata": {},
   "outputs": [],
   "source": [
    "my_path = '/mnt/data/time_series/spring/aligned_stocks_FTSE100/'\n",
    "date_column = 0\n",
    "data_column = 2\n",
    "ts_df_array, filenames, start_date, end_date = ts.read_files(my_path,\n",
    "                                                             date_column,\n",
    "                                                             data_column)"
   ]
  },
  {
   "cell_type": "markdown",
   "id": "7202e002",
   "metadata": {},
   "source": [
    "## Sankey TS"
   ]
  },
  {
   "cell_type": "code",
   "execution_count": 7,
   "id": "8614ecae",
   "metadata": {},
   "outputs": [],
   "source": [
    "start_date = '01/01/2007'\n",
    "end_date = '12/31/2012'\n",
    "from_value = -0.84\n",
    "to_value = 0.84\n",
    "alphabet_size = 5\n",
    "word_size = 5\n",
    "\n",
    "diagram = ts.create_sankey(ts_df_array, \n",
    "                           alphabet_size,\n",
    "                           word_size,\n",
    "                           start_date,\n",
    "                           end_date,\n",
    "                           from_value,\n",
    "                           to_value)"
   ]
  },
  {
   "cell_type": "markdown",
   "id": "eeb381fe",
   "metadata": {},
   "source": [
    "#### Display interactive SankeyTS diagram"
   ]
  },
  {
   "cell_type": "code",
   "execution_count": 8,
   "id": "235f7951",
   "metadata": {},
   "outputs": [
    {
     "data": {
      "application/vnd.plotly.v1+json": {
       "config": {
        "plotlyServerURL": "https://plot.ly"
       },
       "data": [
        {
         "arrangement": "snap",
         "link": {
          "color": [
           "rgba(253,191,111,0.4827586206896552)",
           "rgba(233,92,71,1.0)",
           "rgba(253,191,111,0.6551724137931034)",
           "rgba(191,229,160,0.8620689655172413)",
           "rgba(253,191,111,0.06896551724137931)",
           "rgba(253,191,111,0.3793103448275862)",
           "rgba(191,229,160,0.3448275862068966)",
           "rgba(84,174,173,0.4482758620689655)",
           "rgba(255,255,190,0.034482758620689655)",
           "rgba(191,229,160,0.034482758620689655)",
           "rgba(253,191,111,0.3448275862068966)",
           "rgba(255,255,190,0.3793103448275862)",
           "rgba(253,191,111,0.4482758620689655)",
           "rgba(255,255,190,0.2413793103448276)",
           "rgba(84,174,173,0.20689655172413793)",
           "rgba(233,92,71,0.06896551724137931)",
           "rgba(191,229,160,0.06896551724137931)",
           "rgba(255,255,190,0.13793103448275862)",
           "rgba(255,255,190,0.10344827586206896)",
           "rgba(233,92,71,0.3793103448275862)",
           "rgba(255,255,190,0.3103448275862069)",
           "rgba(191,229,160,0.10344827586206896)",
           "rgba(84,174,173,0.4482758620689655)",
           "rgba(253,191,111,0.10344827586206896)",
           "rgba(255,255,190,0.10344827586206896)",
           "rgba(253,191,111,0.4827586206896552)",
           "rgba(253,191,111,0.1724137931034483)",
           "rgba(191,229,160,0.034482758620689655)",
           "rgba(255,255,190,0.27586206896551724)",
           "rgba(191,229,160,0.06896551724137931)",
           "rgba(253,191,111,0.1724137931034483)",
           "rgba(233,92,71,0.1724137931034483)",
           "rgba(255,255,190,0.10344827586206896)",
           "rgba(255,255,190,0.06896551724137931)",
           "rgba(253,191,111,0.13793103448275862)",
           "rgba(84,174,173,0.06896551724137931)",
           "rgba(253,191,111,0.034482758620689655)",
           "rgba(191,229,160,0.034482758620689655)",
           "rgba(191,229,160,0.034482758620689655)",
           "rgba(233,92,71,0.034482758620689655)",
           "rgba(233,92,71,0.034482758620689655)",
           "rgba(233,92,71,0.10344827586206896)",
           "rgba(255,255,190,0.10344827586206896)",
           "rgba(84,174,173,0.13793103448275862)",
           "rgba(255,255,190,0.034482758620689655)",
           "rgba(84,174,173,0.06896551724137931)",
           "rgba(253,191,111,0.034482758620689655)",
           "rgba(233,92,71,0.034482758620689655)",
           "rgba(253,191,111,0.1724137931034483)",
           "rgba(84,174,173,0.10344827586206896)",
           "rgba(191,229,160,0.10344827586206896)",
           "rgba(233,92,71,0.06896551724137931)",
           "rgba(233,92,71,0.13793103448275862)",
           "rgba(233,92,71,0.10344827586206896)",
           "rgba(191,229,160,0.034482758620689655)",
           "rgba(191,229,160,0.06896551724137931)",
           "rgba(191,229,160,0.06896551724137931)",
           "rgba(255,255,190,0.034482758620689655)",
           "rgba(255,255,190,0.06896551724137931)",
           "rgba(253,191,111,0.06896551724137931)",
           "rgba(191,229,160,0.034482758620689655)",
           "rgba(191,229,160,0.034482758620689655)",
           "rgba(255,255,190,0.034482758620689655)",
           "rgba(253,191,111,0.10344827586206896)"
          ],
          "customdata": [
           "from 0.25 to 0.84",
           "from 0.84 to inf",
           "from 0.25 to 0.84",
           "from -0.84 to -0.25",
           "from 0.25 to 0.84",
           "from 0.25 to 0.84",
           "from -0.84 to -0.25",
           "from -inf to -0.84",
           "from -0.25 to 0.25",
           "from -0.84 to -0.25",
           "from 0.25 to 0.84",
           "from -0.25 to 0.25",
           "from 0.25 to 0.84",
           "from -0.25 to 0.25",
           "from -inf to -0.84",
           "from 0.84 to inf",
           "from -0.84 to -0.25",
           "from -0.25 to 0.25",
           "from -0.25 to 0.25",
           "from 0.84 to inf",
           "from -0.25 to 0.25",
           "from -0.84 to -0.25",
           "from -inf to -0.84",
           "from 0.25 to 0.84",
           "from -0.25 to 0.25",
           "from 0.25 to 0.84",
           "from 0.25 to 0.84",
           "from -0.84 to -0.25",
           "from -0.25 to 0.25",
           "from -0.84 to -0.25",
           "from 0.25 to 0.84",
           "from 0.84 to inf",
           "from -0.25 to 0.25",
           "from -0.25 to 0.25",
           "from 0.25 to 0.84",
           "from -inf to -0.84",
           "from 0.25 to 0.84",
           "from -0.84 to -0.25",
           "from -0.84 to -0.25",
           "from 0.84 to inf",
           "from 0.84 to inf",
           "from 0.84 to inf",
           "from -0.25 to 0.25",
           "from -inf to -0.84",
           "from -0.25 to 0.25",
           "from -inf to -0.84",
           "from 0.25 to 0.84",
           "from 0.84 to inf",
           "from 0.25 to 0.84",
           "from -inf to -0.84",
           "from -0.84 to -0.25",
           "from 0.84 to inf",
           "from 0.84 to inf",
           "from 0.84 to inf",
           "from -0.84 to -0.25",
           "from -0.84 to -0.25",
           "from -0.84 to -0.25",
           "from -0.25 to 0.25",
           "from -0.25 to 0.25",
           "from 0.25 to 0.84",
           "from -0.84 to -0.25",
           "from -0.84 to -0.25",
           "from -0.25 to 0.25",
           "from 0.25 to 0.84"
          ],
          "hovertemplate": "Count: %{value} <br />From %{source.label} to %{target.label}<extra></extra>",
          "line": {
           "color": "black",
           "width": 0.75
          },
          "source": [
           1,
           5,
           11,
           18,
           1,
           6,
           3,
           4,
           7,
           13,
           16,
           2,
           11,
           17,
           4,
           5,
           13,
           17,
           17,
           5,
           12,
           18,
           4,
           6,
           12,
           11,
           16,
           3,
           7,
           18,
           6,
           10,
           7,
           7,
           11,
           19,
           1,
           8,
           13,
           15,
           10,
           0,
           12,
           19,
           2,
           19,
           11,
           15,
           16,
           4,
           8,
           5,
           10,
           0,
           13,
           3,
           18,
           12,
           17,
           6,
           13,
           18,
           17,
           16
          ],
          "target": [
           5,
           11,
           18,
           24,
           6,
           11,
           5,
           7,
           13,
           16,
           21,
           5,
           17,
           24,
           5,
           13,
           17,
           21,
           23,
           12,
           18,
           22,
           6,
           12,
           16,
           16,
           23,
           7,
           11,
           21,
           10,
           16,
           10,
           12,
           19,
           24,
           8,
           13,
           15,
           23,
           17,
           6,
           19,
           23,
           6,
           22,
           15,
           22,
           22,
           8,
           11,
           10,
           18,
           5,
           19,
           6,
           23,
           17,
           22,
           13,
           18,
           20,
           20,
           20
          ],
          "value": [
           14,
           29,
           19,
           25,
           2,
           11,
           10,
           13,
           1,
           1,
           10,
           11,
           13,
           7,
           6,
           2,
           2,
           4,
           3,
           11,
           9,
           3,
           13,
           3,
           3,
           14,
           5,
           1,
           8,
           2,
           5,
           5,
           3,
           2,
           4,
           2,
           1,
           1,
           1,
           1,
           1,
           3,
           3,
           4,
           1,
           2,
           1,
           1,
           5,
           3,
           3,
           2,
           4,
           3,
           1,
           2,
           2,
           1,
           2,
           2,
           1,
           1,
           1,
           3
          ]
         },
         "node": {
          "color": [
           "#e95c47",
           "#fdbf6f",
           "#ffffbe",
           "#bfe5a0",
           "#54aead",
           "#e95c47",
           "#fdbf6f",
           "#ffffbe",
           "#bfe5a0",
           "#54aead",
           "#e95c47",
           "#fdbf6f",
           "#ffffbe",
           "#bfe5a0",
           "#54aead",
           "#e95c47",
           "#fdbf6f",
           "#ffffbe",
           "#bfe5a0",
           "#54aead",
           "#e95c47",
           "#fdbf6f",
           "#ffffbe",
           "#bfe5a0",
           "#54aead"
          ],
          "customdata": [
           "from 0.84 to inf",
           "from 0.25 to 0.84",
           "from -0.25 to 0.25",
           "from -0.84 to -0.25",
           "from -inf to -0.84",
           "from 0.84 to inf",
           "from 0.25 to 0.84",
           "from -0.25 to 0.25",
           "from -0.84 to -0.25",
           "from -inf to -0.84",
           "from 0.84 to inf",
           "from 0.25 to 0.84",
           "from -0.25 to 0.25",
           "from -0.84 to -0.25",
           "from -inf to -0.84",
           "from 0.84 to inf",
           "from 0.25 to 0.84",
           "from -0.25 to 0.25",
           "from -0.84 to -0.25",
           "from -inf to -0.84",
           "from 0.84 to inf",
           "from 0.25 to 0.84",
           "from -0.25 to 0.25",
           "from -0.84 to -0.25",
           "from -inf to -0.84"
          ],
          "hovertemplate": "Value range %{customdata}<extra></extra>",
          "label": [
           "01/01/2007",
           "01/01/2007",
           "01/01/2007",
           "01/01/2007",
           "01/01/2007",
           "03/14/2008",
           "03/14/2008",
           "03/14/2008",
           "03/14/2008",
           "03/14/2008",
           "05/26/2009",
           "05/26/2009",
           "05/26/2009",
           "05/26/2009",
           "05/26/2009",
           "08/07/2010",
           "08/07/2010",
           "08/07/2010",
           "08/07/2010",
           "08/07/2010",
           "10/19/2011",
           "10/19/2011",
           "10/19/2011",
           "10/19/2011",
           "10/19/2011"
          ],
          "line": {
           "color": "black",
           "width": 1.75
          },
          "pad": 15,
          "thickness": 10,
          "x": [
           0.01,
           0.01,
           0.01,
           0.01,
           0.01,
           0.21000000000000002,
           0.21000000000000002,
           0.21000000000000002,
           0.21000000000000002,
           0.41000000000000003,
           0.41000000000000003,
           0.41000000000000003,
           0.41000000000000003,
           0.6100000000000001,
           0.6100000000000001,
           0.6100000000000001,
           0.6100000000000001,
           0.6100000000000001,
           0.81,
           0.81,
           0.81,
           0.81,
           0.81
          ],
          "y": [
           0.01,
           0.21000000000000002,
           0.41000000000000003,
           0.6100000000000001,
           0.81,
           0.01,
           0.21000000000000002,
           0.41000000000000003,
           0.6100000000000001,
           0.01,
           0.21000000000000002,
           0.41000000000000003,
           0.6100000000000001,
           0.01,
           0.21000000000000002,
           0.41000000000000003,
           0.6100000000000001,
           0.81,
           0.01,
           0.21000000000000002,
           0.41000000000000003,
           0.6100000000000001,
           0.81
          ]
         },
         "textfont": {
          "color": "rgba(0,0,0,0)",
          "size": 1
         },
         "type": "sankey",
         "valueformat": ".0f"
        }
       ],
       "layout": {
        "autosize": true,
        "font": {
         "size": 16
        },
        "template": {
         "data": {
          "bar": [
           {
            "error_x": {
             "color": "#2a3f5f"
            },
            "error_y": {
             "color": "#2a3f5f"
            },
            "marker": {
             "line": {
              "color": "#E5ECF6",
              "width": 0.5
             },
             "pattern": {
              "fillmode": "overlay",
              "size": 10,
              "solidity": 0.2
             }
            },
            "type": "bar"
           }
          ],
          "barpolar": [
           {
            "marker": {
             "line": {
              "color": "#E5ECF6",
              "width": 0.5
             },
             "pattern": {
              "fillmode": "overlay",
              "size": 10,
              "solidity": 0.2
             }
            },
            "type": "barpolar"
           }
          ],
          "carpet": [
           {
            "aaxis": {
             "endlinecolor": "#2a3f5f",
             "gridcolor": "white",
             "linecolor": "white",
             "minorgridcolor": "white",
             "startlinecolor": "#2a3f5f"
            },
            "baxis": {
             "endlinecolor": "#2a3f5f",
             "gridcolor": "white",
             "linecolor": "white",
             "minorgridcolor": "white",
             "startlinecolor": "#2a3f5f"
            },
            "type": "carpet"
           }
          ],
          "choropleth": [
           {
            "colorbar": {
             "outlinewidth": 0,
             "ticks": ""
            },
            "type": "choropleth"
           }
          ],
          "contour": [
           {
            "colorbar": {
             "outlinewidth": 0,
             "ticks": ""
            },
            "colorscale": [
             [
              0,
              "#0d0887"
             ],
             [
              0.1111111111111111,
              "#46039f"
             ],
             [
              0.2222222222222222,
              "#7201a8"
             ],
             [
              0.3333333333333333,
              "#9c179e"
             ],
             [
              0.4444444444444444,
              "#bd3786"
             ],
             [
              0.5555555555555556,
              "#d8576b"
             ],
             [
              0.6666666666666666,
              "#ed7953"
             ],
             [
              0.7777777777777778,
              "#fb9f3a"
             ],
             [
              0.8888888888888888,
              "#fdca26"
             ],
             [
              1,
              "#f0f921"
             ]
            ],
            "type": "contour"
           }
          ],
          "contourcarpet": [
           {
            "colorbar": {
             "outlinewidth": 0,
             "ticks": ""
            },
            "type": "contourcarpet"
           }
          ],
          "heatmap": [
           {
            "colorbar": {
             "outlinewidth": 0,
             "ticks": ""
            },
            "colorscale": [
             [
              0,
              "#0d0887"
             ],
             [
              0.1111111111111111,
              "#46039f"
             ],
             [
              0.2222222222222222,
              "#7201a8"
             ],
             [
              0.3333333333333333,
              "#9c179e"
             ],
             [
              0.4444444444444444,
              "#bd3786"
             ],
             [
              0.5555555555555556,
              "#d8576b"
             ],
             [
              0.6666666666666666,
              "#ed7953"
             ],
             [
              0.7777777777777778,
              "#fb9f3a"
             ],
             [
              0.8888888888888888,
              "#fdca26"
             ],
             [
              1,
              "#f0f921"
             ]
            ],
            "type": "heatmap"
           }
          ],
          "heatmapgl": [
           {
            "colorbar": {
             "outlinewidth": 0,
             "ticks": ""
            },
            "colorscale": [
             [
              0,
              "#0d0887"
             ],
             [
              0.1111111111111111,
              "#46039f"
             ],
             [
              0.2222222222222222,
              "#7201a8"
             ],
             [
              0.3333333333333333,
              "#9c179e"
             ],
             [
              0.4444444444444444,
              "#bd3786"
             ],
             [
              0.5555555555555556,
              "#d8576b"
             ],
             [
              0.6666666666666666,
              "#ed7953"
             ],
             [
              0.7777777777777778,
              "#fb9f3a"
             ],
             [
              0.8888888888888888,
              "#fdca26"
             ],
             [
              1,
              "#f0f921"
             ]
            ],
            "type": "heatmapgl"
           }
          ],
          "histogram": [
           {
            "marker": {
             "pattern": {
              "fillmode": "overlay",
              "size": 10,
              "solidity": 0.2
             }
            },
            "type": "histogram"
           }
          ],
          "histogram2d": [
           {
            "colorbar": {
             "outlinewidth": 0,
             "ticks": ""
            },
            "colorscale": [
             [
              0,
              "#0d0887"
             ],
             [
              0.1111111111111111,
              "#46039f"
             ],
             [
              0.2222222222222222,
              "#7201a8"
             ],
             [
              0.3333333333333333,
              "#9c179e"
             ],
             [
              0.4444444444444444,
              "#bd3786"
             ],
             [
              0.5555555555555556,
              "#d8576b"
             ],
             [
              0.6666666666666666,
              "#ed7953"
             ],
             [
              0.7777777777777778,
              "#fb9f3a"
             ],
             [
              0.8888888888888888,
              "#fdca26"
             ],
             [
              1,
              "#f0f921"
             ]
            ],
            "type": "histogram2d"
           }
          ],
          "histogram2dcontour": [
           {
            "colorbar": {
             "outlinewidth": 0,
             "ticks": ""
            },
            "colorscale": [
             [
              0,
              "#0d0887"
             ],
             [
              0.1111111111111111,
              "#46039f"
             ],
             [
              0.2222222222222222,
              "#7201a8"
             ],
             [
              0.3333333333333333,
              "#9c179e"
             ],
             [
              0.4444444444444444,
              "#bd3786"
             ],
             [
              0.5555555555555556,
              "#d8576b"
             ],
             [
              0.6666666666666666,
              "#ed7953"
             ],
             [
              0.7777777777777778,
              "#fb9f3a"
             ],
             [
              0.8888888888888888,
              "#fdca26"
             ],
             [
              1,
              "#f0f921"
             ]
            ],
            "type": "histogram2dcontour"
           }
          ],
          "mesh3d": [
           {
            "colorbar": {
             "outlinewidth": 0,
             "ticks": ""
            },
            "type": "mesh3d"
           }
          ],
          "parcoords": [
           {
            "line": {
             "colorbar": {
              "outlinewidth": 0,
              "ticks": ""
             }
            },
            "type": "parcoords"
           }
          ],
          "pie": [
           {
            "automargin": true,
            "type": "pie"
           }
          ],
          "scatter": [
           {
            "marker": {
             "colorbar": {
              "outlinewidth": 0,
              "ticks": ""
             }
            },
            "type": "scatter"
           }
          ],
          "scatter3d": [
           {
            "line": {
             "colorbar": {
              "outlinewidth": 0,
              "ticks": ""
             }
            },
            "marker": {
             "colorbar": {
              "outlinewidth": 0,
              "ticks": ""
             }
            },
            "type": "scatter3d"
           }
          ],
          "scattercarpet": [
           {
            "marker": {
             "colorbar": {
              "outlinewidth": 0,
              "ticks": ""
             }
            },
            "type": "scattercarpet"
           }
          ],
          "scattergeo": [
           {
            "marker": {
             "colorbar": {
              "outlinewidth": 0,
              "ticks": ""
             }
            },
            "type": "scattergeo"
           }
          ],
          "scattergl": [
           {
            "marker": {
             "colorbar": {
              "outlinewidth": 0,
              "ticks": ""
             }
            },
            "type": "scattergl"
           }
          ],
          "scattermapbox": [
           {
            "marker": {
             "colorbar": {
              "outlinewidth": 0,
              "ticks": ""
             }
            },
            "type": "scattermapbox"
           }
          ],
          "scatterpolar": [
           {
            "marker": {
             "colorbar": {
              "outlinewidth": 0,
              "ticks": ""
             }
            },
            "type": "scatterpolar"
           }
          ],
          "scatterpolargl": [
           {
            "marker": {
             "colorbar": {
              "outlinewidth": 0,
              "ticks": ""
             }
            },
            "type": "scatterpolargl"
           }
          ],
          "scatterternary": [
           {
            "marker": {
             "colorbar": {
              "outlinewidth": 0,
              "ticks": ""
             }
            },
            "type": "scatterternary"
           }
          ],
          "surface": [
           {
            "colorbar": {
             "outlinewidth": 0,
             "ticks": ""
            },
            "colorscale": [
             [
              0,
              "#0d0887"
             ],
             [
              0.1111111111111111,
              "#46039f"
             ],
             [
              0.2222222222222222,
              "#7201a8"
             ],
             [
              0.3333333333333333,
              "#9c179e"
             ],
             [
              0.4444444444444444,
              "#bd3786"
             ],
             [
              0.5555555555555556,
              "#d8576b"
             ],
             [
              0.6666666666666666,
              "#ed7953"
             ],
             [
              0.7777777777777778,
              "#fb9f3a"
             ],
             [
              0.8888888888888888,
              "#fdca26"
             ],
             [
              1,
              "#f0f921"
             ]
            ],
            "type": "surface"
           }
          ],
          "table": [
           {
            "cells": {
             "fill": {
              "color": "#EBF0F8"
             },
             "line": {
              "color": "white"
             }
            },
            "header": {
             "fill": {
              "color": "#C8D4E3"
             },
             "line": {
              "color": "white"
             }
            },
            "type": "table"
           }
          ]
         },
         "layout": {
          "annotationdefaults": {
           "arrowcolor": "#2a3f5f",
           "arrowhead": 0,
           "arrowwidth": 1
          },
          "autotypenumbers": "strict",
          "coloraxis": {
           "colorbar": {
            "outlinewidth": 0,
            "ticks": ""
           }
          },
          "colorscale": {
           "diverging": [
            [
             0,
             "#8e0152"
            ],
            [
             0.1,
             "#c51b7d"
            ],
            [
             0.2,
             "#de77ae"
            ],
            [
             0.3,
             "#f1b6da"
            ],
            [
             0.4,
             "#fde0ef"
            ],
            [
             0.5,
             "#f7f7f7"
            ],
            [
             0.6,
             "#e6f5d0"
            ],
            [
             0.7,
             "#b8e186"
            ],
            [
             0.8,
             "#7fbc41"
            ],
            [
             0.9,
             "#4d9221"
            ],
            [
             1,
             "#276419"
            ]
           ],
           "sequential": [
            [
             0,
             "#0d0887"
            ],
            [
             0.1111111111111111,
             "#46039f"
            ],
            [
             0.2222222222222222,
             "#7201a8"
            ],
            [
             0.3333333333333333,
             "#9c179e"
            ],
            [
             0.4444444444444444,
             "#bd3786"
            ],
            [
             0.5555555555555556,
             "#d8576b"
            ],
            [
             0.6666666666666666,
             "#ed7953"
            ],
            [
             0.7777777777777778,
             "#fb9f3a"
            ],
            [
             0.8888888888888888,
             "#fdca26"
            ],
            [
             1,
             "#f0f921"
            ]
           ],
           "sequentialminus": [
            [
             0,
             "#0d0887"
            ],
            [
             0.1111111111111111,
             "#46039f"
            ],
            [
             0.2222222222222222,
             "#7201a8"
            ],
            [
             0.3333333333333333,
             "#9c179e"
            ],
            [
             0.4444444444444444,
             "#bd3786"
            ],
            [
             0.5555555555555556,
             "#d8576b"
            ],
            [
             0.6666666666666666,
             "#ed7953"
            ],
            [
             0.7777777777777778,
             "#fb9f3a"
            ],
            [
             0.8888888888888888,
             "#fdca26"
            ],
            [
             1,
             "#f0f921"
            ]
           ]
          },
          "colorway": [
           "#636efa",
           "#EF553B",
           "#00cc96",
           "#ab63fa",
           "#FFA15A",
           "#19d3f3",
           "#FF6692",
           "#B6E880",
           "#FF97FF",
           "#FECB52"
          ],
          "font": {
           "color": "#2a3f5f"
          },
          "geo": {
           "bgcolor": "white",
           "lakecolor": "white",
           "landcolor": "#E5ECF6",
           "showlakes": true,
           "showland": true,
           "subunitcolor": "white"
          },
          "hoverlabel": {
           "align": "left"
          },
          "hovermode": "closest",
          "mapbox": {
           "style": "light"
          },
          "paper_bgcolor": "white",
          "plot_bgcolor": "#E5ECF6",
          "polar": {
           "angularaxis": {
            "gridcolor": "white",
            "linecolor": "white",
            "ticks": ""
           },
           "bgcolor": "#E5ECF6",
           "radialaxis": {
            "gridcolor": "white",
            "linecolor": "white",
            "ticks": ""
           }
          },
          "scene": {
           "xaxis": {
            "backgroundcolor": "#E5ECF6",
            "gridcolor": "white",
            "gridwidth": 2,
            "linecolor": "white",
            "showbackground": true,
            "ticks": "",
            "zerolinecolor": "white"
           },
           "yaxis": {
            "backgroundcolor": "#E5ECF6",
            "gridcolor": "white",
            "gridwidth": 2,
            "linecolor": "white",
            "showbackground": true,
            "ticks": "",
            "zerolinecolor": "white"
           },
           "zaxis": {
            "backgroundcolor": "#E5ECF6",
            "gridcolor": "white",
            "gridwidth": 2,
            "linecolor": "white",
            "showbackground": true,
            "ticks": "",
            "zerolinecolor": "white"
           }
          },
          "shapedefaults": {
           "line": {
            "color": "#2a3f5f"
           }
          },
          "ternary": {
           "aaxis": {
            "gridcolor": "white",
            "linecolor": "white",
            "ticks": ""
           },
           "baxis": {
            "gridcolor": "white",
            "linecolor": "white",
            "ticks": ""
           },
           "bgcolor": "#E5ECF6",
           "caxis": {
            "gridcolor": "white",
            "linecolor": "white",
            "ticks": ""
           }
          },
          "title": {
           "x": 0.05
          },
          "xaxis": {
           "automargin": true,
           "gridcolor": "white",
           "linecolor": "white",
           "ticks": "",
           "title": {
            "standoff": 15
           },
           "zerolinecolor": "white",
           "zerolinewidth": 2
          },
          "yaxis": {
           "automargin": true,
           "gridcolor": "white",
           "linecolor": "white",
           "ticks": "",
           "title": {
            "standoff": 15
           },
           "zerolinecolor": "white",
           "zerolinewidth": 2
          }
         }
        }
       }
      },
      "text/html": [
       "<div>                            <div id=\"0ca37670-572f-497e-ab85-08d3bf626912\" class=\"plotly-graph-div\" style=\"height:525px; width:100%;\"></div>            <script type=\"text/javascript\">                require([\"plotly\"], function(Plotly) {                    window.PLOTLYENV=window.PLOTLYENV || {};                                    if (document.getElementById(\"0ca37670-572f-497e-ab85-08d3bf626912\")) {                    Plotly.newPlot(                        \"0ca37670-572f-497e-ab85-08d3bf626912\",                        [{\"arrangement\":\"snap\",\"link\":{\"color\":[\"rgba(253,191,111,0.4827586206896552)\",\"rgba(233,92,71,1.0)\",\"rgba(253,191,111,0.6551724137931034)\",\"rgba(191,229,160,0.8620689655172413)\",\"rgba(253,191,111,0.06896551724137931)\",\"rgba(253,191,111,0.3793103448275862)\",\"rgba(191,229,160,0.3448275862068966)\",\"rgba(84,174,173,0.4482758620689655)\",\"rgba(255,255,190,0.034482758620689655)\",\"rgba(191,229,160,0.034482758620689655)\",\"rgba(253,191,111,0.3448275862068966)\",\"rgba(255,255,190,0.3793103448275862)\",\"rgba(253,191,111,0.4482758620689655)\",\"rgba(255,255,190,0.2413793103448276)\",\"rgba(84,174,173,0.20689655172413793)\",\"rgba(233,92,71,0.06896551724137931)\",\"rgba(191,229,160,0.06896551724137931)\",\"rgba(255,255,190,0.13793103448275862)\",\"rgba(255,255,190,0.10344827586206896)\",\"rgba(233,92,71,0.3793103448275862)\",\"rgba(255,255,190,0.3103448275862069)\",\"rgba(191,229,160,0.10344827586206896)\",\"rgba(84,174,173,0.4482758620689655)\",\"rgba(253,191,111,0.10344827586206896)\",\"rgba(255,255,190,0.10344827586206896)\",\"rgba(253,191,111,0.4827586206896552)\",\"rgba(253,191,111,0.1724137931034483)\",\"rgba(191,229,160,0.034482758620689655)\",\"rgba(255,255,190,0.27586206896551724)\",\"rgba(191,229,160,0.06896551724137931)\",\"rgba(253,191,111,0.1724137931034483)\",\"rgba(233,92,71,0.1724137931034483)\",\"rgba(255,255,190,0.10344827586206896)\",\"rgba(255,255,190,0.06896551724137931)\",\"rgba(253,191,111,0.13793103448275862)\",\"rgba(84,174,173,0.06896551724137931)\",\"rgba(253,191,111,0.034482758620689655)\",\"rgba(191,229,160,0.034482758620689655)\",\"rgba(191,229,160,0.034482758620689655)\",\"rgba(233,92,71,0.034482758620689655)\",\"rgba(233,92,71,0.034482758620689655)\",\"rgba(233,92,71,0.10344827586206896)\",\"rgba(255,255,190,0.10344827586206896)\",\"rgba(84,174,173,0.13793103448275862)\",\"rgba(255,255,190,0.034482758620689655)\",\"rgba(84,174,173,0.06896551724137931)\",\"rgba(253,191,111,0.034482758620689655)\",\"rgba(233,92,71,0.034482758620689655)\",\"rgba(253,191,111,0.1724137931034483)\",\"rgba(84,174,173,0.10344827586206896)\",\"rgba(191,229,160,0.10344827586206896)\",\"rgba(233,92,71,0.06896551724137931)\",\"rgba(233,92,71,0.13793103448275862)\",\"rgba(233,92,71,0.10344827586206896)\",\"rgba(191,229,160,0.034482758620689655)\",\"rgba(191,229,160,0.06896551724137931)\",\"rgba(191,229,160,0.06896551724137931)\",\"rgba(255,255,190,0.034482758620689655)\",\"rgba(255,255,190,0.06896551724137931)\",\"rgba(253,191,111,0.06896551724137931)\",\"rgba(191,229,160,0.034482758620689655)\",\"rgba(191,229,160,0.034482758620689655)\",\"rgba(255,255,190,0.034482758620689655)\",\"rgba(253,191,111,0.10344827586206896)\"],\"customdata\":[\"from 0.25 to 0.84\",\"from 0.84 to inf\",\"from 0.25 to 0.84\",\"from -0.84 to -0.25\",\"from 0.25 to 0.84\",\"from 0.25 to 0.84\",\"from -0.84 to -0.25\",\"from -inf to -0.84\",\"from -0.25 to 0.25\",\"from -0.84 to -0.25\",\"from 0.25 to 0.84\",\"from -0.25 to 0.25\",\"from 0.25 to 0.84\",\"from -0.25 to 0.25\",\"from -inf to -0.84\",\"from 0.84 to inf\",\"from -0.84 to -0.25\",\"from -0.25 to 0.25\",\"from -0.25 to 0.25\",\"from 0.84 to inf\",\"from -0.25 to 0.25\",\"from -0.84 to -0.25\",\"from -inf to -0.84\",\"from 0.25 to 0.84\",\"from -0.25 to 0.25\",\"from 0.25 to 0.84\",\"from 0.25 to 0.84\",\"from -0.84 to -0.25\",\"from -0.25 to 0.25\",\"from -0.84 to -0.25\",\"from 0.25 to 0.84\",\"from 0.84 to inf\",\"from -0.25 to 0.25\",\"from -0.25 to 0.25\",\"from 0.25 to 0.84\",\"from -inf to -0.84\",\"from 0.25 to 0.84\",\"from -0.84 to -0.25\",\"from -0.84 to -0.25\",\"from 0.84 to inf\",\"from 0.84 to inf\",\"from 0.84 to inf\",\"from -0.25 to 0.25\",\"from -inf to -0.84\",\"from -0.25 to 0.25\",\"from -inf to -0.84\",\"from 0.25 to 0.84\",\"from 0.84 to inf\",\"from 0.25 to 0.84\",\"from -inf to -0.84\",\"from -0.84 to -0.25\",\"from 0.84 to inf\",\"from 0.84 to inf\",\"from 0.84 to inf\",\"from -0.84 to -0.25\",\"from -0.84 to -0.25\",\"from -0.84 to -0.25\",\"from -0.25 to 0.25\",\"from -0.25 to 0.25\",\"from 0.25 to 0.84\",\"from -0.84 to -0.25\",\"from -0.84 to -0.25\",\"from -0.25 to 0.25\",\"from 0.25 to 0.84\"],\"hovertemplate\":\"Count: %{value} <br />From %{source.label} to %{target.label}<extra></extra>\",\"line\":{\"color\":\"black\",\"width\":0.75},\"source\":[1,5,11,18,1,6,3,4,7,13,16,2,11,17,4,5,13,17,17,5,12,18,4,6,12,11,16,3,7,18,6,10,7,7,11,19,1,8,13,15,10,0,12,19,2,19,11,15,16,4,8,5,10,0,13,3,18,12,17,6,13,18,17,16],\"target\":[5,11,18,24,6,11,5,7,13,16,21,5,17,24,5,13,17,21,23,12,18,22,6,12,16,16,23,7,11,21,10,16,10,12,19,24,8,13,15,23,17,6,19,23,6,22,15,22,22,8,11,10,18,5,19,6,23,17,22,13,18,20,20,20],\"value\":[14,29,19,25,2,11,10,13,1,1,10,11,13,7,6,2,2,4,3,11,9,3,13,3,3,14,5,1,8,2,5,5,3,2,4,2,1,1,1,1,1,3,3,4,1,2,1,1,5,3,3,2,4,3,1,2,2,1,2,2,1,1,1,3]},\"node\":{\"color\":[\"#e95c47\",\"#fdbf6f\",\"#ffffbe\",\"#bfe5a0\",\"#54aead\",\"#e95c47\",\"#fdbf6f\",\"#ffffbe\",\"#bfe5a0\",\"#54aead\",\"#e95c47\",\"#fdbf6f\",\"#ffffbe\",\"#bfe5a0\",\"#54aead\",\"#e95c47\",\"#fdbf6f\",\"#ffffbe\",\"#bfe5a0\",\"#54aead\",\"#e95c47\",\"#fdbf6f\",\"#ffffbe\",\"#bfe5a0\",\"#54aead\"],\"customdata\":[\"from 0.84 to inf\",\"from 0.25 to 0.84\",\"from -0.25 to 0.25\",\"from -0.84 to -0.25\",\"from -inf to -0.84\",\"from 0.84 to inf\",\"from 0.25 to 0.84\",\"from -0.25 to 0.25\",\"from -0.84 to -0.25\",\"from -inf to -0.84\",\"from 0.84 to inf\",\"from 0.25 to 0.84\",\"from -0.25 to 0.25\",\"from -0.84 to -0.25\",\"from -inf to -0.84\",\"from 0.84 to inf\",\"from 0.25 to 0.84\",\"from -0.25 to 0.25\",\"from -0.84 to -0.25\",\"from -inf to -0.84\",\"from 0.84 to inf\",\"from 0.25 to 0.84\",\"from -0.25 to 0.25\",\"from -0.84 to -0.25\",\"from -inf to -0.84\"],\"hovertemplate\":\"Value range %{customdata}<extra></extra>\",\"label\":[\"01/01/2007\",\"01/01/2007\",\"01/01/2007\",\"01/01/2007\",\"01/01/2007\",\"03/14/2008\",\"03/14/2008\",\"03/14/2008\",\"03/14/2008\",\"03/14/2008\",\"05/26/2009\",\"05/26/2009\",\"05/26/2009\",\"05/26/2009\",\"05/26/2009\",\"08/07/2010\",\"08/07/2010\",\"08/07/2010\",\"08/07/2010\",\"08/07/2010\",\"10/19/2011\",\"10/19/2011\",\"10/19/2011\",\"10/19/2011\",\"10/19/2011\"],\"line\":{\"color\":\"black\",\"width\":1.75},\"pad\":15,\"thickness\":10,\"x\":[0.01,0.01,0.01,0.01,0.01,0.21000000000000002,0.21000000000000002,0.21000000000000002,0.21000000000000002,0.41000000000000003,0.41000000000000003,0.41000000000000003,0.41000000000000003,0.6100000000000001,0.6100000000000001,0.6100000000000001,0.6100000000000001,0.6100000000000001,0.81,0.81,0.81,0.81,0.81],\"y\":[0.01,0.21000000000000002,0.41000000000000003,0.6100000000000001,0.81,0.01,0.21000000000000002,0.41000000000000003,0.6100000000000001,0.01,0.21000000000000002,0.41000000000000003,0.6100000000000001,0.01,0.21000000000000002,0.41000000000000003,0.6100000000000001,0.81,0.01,0.21000000000000002,0.41000000000000003,0.6100000000000001,0.81]},\"textfont\":{\"color\":\"rgba(0,0,0,0)\",\"size\":1},\"type\":\"sankey\",\"valueformat\":\".0f\"}],                        {\"autosize\":true,\"font\":{\"size\":16},\"template\":{\"data\":{\"bar\":[{\"error_x\":{\"color\":\"#2a3f5f\"},\"error_y\":{\"color\":\"#2a3f5f\"},\"marker\":{\"line\":{\"color\":\"#E5ECF6\",\"width\":0.5},\"pattern\":{\"fillmode\":\"overlay\",\"size\":10,\"solidity\":0.2}},\"type\":\"bar\"}],\"barpolar\":[{\"marker\":{\"line\":{\"color\":\"#E5ECF6\",\"width\":0.5},\"pattern\":{\"fillmode\":\"overlay\",\"size\":10,\"solidity\":0.2}},\"type\":\"barpolar\"}],\"carpet\":[{\"aaxis\":{\"endlinecolor\":\"#2a3f5f\",\"gridcolor\":\"white\",\"linecolor\":\"white\",\"minorgridcolor\":\"white\",\"startlinecolor\":\"#2a3f5f\"},\"baxis\":{\"endlinecolor\":\"#2a3f5f\",\"gridcolor\":\"white\",\"linecolor\":\"white\",\"minorgridcolor\":\"white\",\"startlinecolor\":\"#2a3f5f\"},\"type\":\"carpet\"}],\"choropleth\":[{\"colorbar\":{\"outlinewidth\":0,\"ticks\":\"\"},\"type\":\"choropleth\"}],\"contour\":[{\"colorbar\":{\"outlinewidth\":0,\"ticks\":\"\"},\"colorscale\":[[0.0,\"#0d0887\"],[0.1111111111111111,\"#46039f\"],[0.2222222222222222,\"#7201a8\"],[0.3333333333333333,\"#9c179e\"],[0.4444444444444444,\"#bd3786\"],[0.5555555555555556,\"#d8576b\"],[0.6666666666666666,\"#ed7953\"],[0.7777777777777778,\"#fb9f3a\"],[0.8888888888888888,\"#fdca26\"],[1.0,\"#f0f921\"]],\"type\":\"contour\"}],\"contourcarpet\":[{\"colorbar\":{\"outlinewidth\":0,\"ticks\":\"\"},\"type\":\"contourcarpet\"}],\"heatmap\":[{\"colorbar\":{\"outlinewidth\":0,\"ticks\":\"\"},\"colorscale\":[[0.0,\"#0d0887\"],[0.1111111111111111,\"#46039f\"],[0.2222222222222222,\"#7201a8\"],[0.3333333333333333,\"#9c179e\"],[0.4444444444444444,\"#bd3786\"],[0.5555555555555556,\"#d8576b\"],[0.6666666666666666,\"#ed7953\"],[0.7777777777777778,\"#fb9f3a\"],[0.8888888888888888,\"#fdca26\"],[1.0,\"#f0f921\"]],\"type\":\"heatmap\"}],\"heatmapgl\":[{\"colorbar\":{\"outlinewidth\":0,\"ticks\":\"\"},\"colorscale\":[[0.0,\"#0d0887\"],[0.1111111111111111,\"#46039f\"],[0.2222222222222222,\"#7201a8\"],[0.3333333333333333,\"#9c179e\"],[0.4444444444444444,\"#bd3786\"],[0.5555555555555556,\"#d8576b\"],[0.6666666666666666,\"#ed7953\"],[0.7777777777777778,\"#fb9f3a\"],[0.8888888888888888,\"#fdca26\"],[1.0,\"#f0f921\"]],\"type\":\"heatmapgl\"}],\"histogram\":[{\"marker\":{\"pattern\":{\"fillmode\":\"overlay\",\"size\":10,\"solidity\":0.2}},\"type\":\"histogram\"}],\"histogram2d\":[{\"colorbar\":{\"outlinewidth\":0,\"ticks\":\"\"},\"colorscale\":[[0.0,\"#0d0887\"],[0.1111111111111111,\"#46039f\"],[0.2222222222222222,\"#7201a8\"],[0.3333333333333333,\"#9c179e\"],[0.4444444444444444,\"#bd3786\"],[0.5555555555555556,\"#d8576b\"],[0.6666666666666666,\"#ed7953\"],[0.7777777777777778,\"#fb9f3a\"],[0.8888888888888888,\"#fdca26\"],[1.0,\"#f0f921\"]],\"type\":\"histogram2d\"}],\"histogram2dcontour\":[{\"colorbar\":{\"outlinewidth\":0,\"ticks\":\"\"},\"colorscale\":[[0.0,\"#0d0887\"],[0.1111111111111111,\"#46039f\"],[0.2222222222222222,\"#7201a8\"],[0.3333333333333333,\"#9c179e\"],[0.4444444444444444,\"#bd3786\"],[0.5555555555555556,\"#d8576b\"],[0.6666666666666666,\"#ed7953\"],[0.7777777777777778,\"#fb9f3a\"],[0.8888888888888888,\"#fdca26\"],[1.0,\"#f0f921\"]],\"type\":\"histogram2dcontour\"}],\"mesh3d\":[{\"colorbar\":{\"outlinewidth\":0,\"ticks\":\"\"},\"type\":\"mesh3d\"}],\"parcoords\":[{\"line\":{\"colorbar\":{\"outlinewidth\":0,\"ticks\":\"\"}},\"type\":\"parcoords\"}],\"pie\":[{\"automargin\":true,\"type\":\"pie\"}],\"scatter\":[{\"marker\":{\"colorbar\":{\"outlinewidth\":0,\"ticks\":\"\"}},\"type\":\"scatter\"}],\"scatter3d\":[{\"line\":{\"colorbar\":{\"outlinewidth\":0,\"ticks\":\"\"}},\"marker\":{\"colorbar\":{\"outlinewidth\":0,\"ticks\":\"\"}},\"type\":\"scatter3d\"}],\"scattercarpet\":[{\"marker\":{\"colorbar\":{\"outlinewidth\":0,\"ticks\":\"\"}},\"type\":\"scattercarpet\"}],\"scattergeo\":[{\"marker\":{\"colorbar\":{\"outlinewidth\":0,\"ticks\":\"\"}},\"type\":\"scattergeo\"}],\"scattergl\":[{\"marker\":{\"colorbar\":{\"outlinewidth\":0,\"ticks\":\"\"}},\"type\":\"scattergl\"}],\"scattermapbox\":[{\"marker\":{\"colorbar\":{\"outlinewidth\":0,\"ticks\":\"\"}},\"type\":\"scattermapbox\"}],\"scatterpolar\":[{\"marker\":{\"colorbar\":{\"outlinewidth\":0,\"ticks\":\"\"}},\"type\":\"scatterpolar\"}],\"scatterpolargl\":[{\"marker\":{\"colorbar\":{\"outlinewidth\":0,\"ticks\":\"\"}},\"type\":\"scatterpolargl\"}],\"scatterternary\":[{\"marker\":{\"colorbar\":{\"outlinewidth\":0,\"ticks\":\"\"}},\"type\":\"scatterternary\"}],\"surface\":[{\"colorbar\":{\"outlinewidth\":0,\"ticks\":\"\"},\"colorscale\":[[0.0,\"#0d0887\"],[0.1111111111111111,\"#46039f\"],[0.2222222222222222,\"#7201a8\"],[0.3333333333333333,\"#9c179e\"],[0.4444444444444444,\"#bd3786\"],[0.5555555555555556,\"#d8576b\"],[0.6666666666666666,\"#ed7953\"],[0.7777777777777778,\"#fb9f3a\"],[0.8888888888888888,\"#fdca26\"],[1.0,\"#f0f921\"]],\"type\":\"surface\"}],\"table\":[{\"cells\":{\"fill\":{\"color\":\"#EBF0F8\"},\"line\":{\"color\":\"white\"}},\"header\":{\"fill\":{\"color\":\"#C8D4E3\"},\"line\":{\"color\":\"white\"}},\"type\":\"table\"}]},\"layout\":{\"annotationdefaults\":{\"arrowcolor\":\"#2a3f5f\",\"arrowhead\":0,\"arrowwidth\":1},\"autotypenumbers\":\"strict\",\"coloraxis\":{\"colorbar\":{\"outlinewidth\":0,\"ticks\":\"\"}},\"colorscale\":{\"diverging\":[[0,\"#8e0152\"],[0.1,\"#c51b7d\"],[0.2,\"#de77ae\"],[0.3,\"#f1b6da\"],[0.4,\"#fde0ef\"],[0.5,\"#f7f7f7\"],[0.6,\"#e6f5d0\"],[0.7,\"#b8e186\"],[0.8,\"#7fbc41\"],[0.9,\"#4d9221\"],[1,\"#276419\"]],\"sequential\":[[0.0,\"#0d0887\"],[0.1111111111111111,\"#46039f\"],[0.2222222222222222,\"#7201a8\"],[0.3333333333333333,\"#9c179e\"],[0.4444444444444444,\"#bd3786\"],[0.5555555555555556,\"#d8576b\"],[0.6666666666666666,\"#ed7953\"],[0.7777777777777778,\"#fb9f3a\"],[0.8888888888888888,\"#fdca26\"],[1.0,\"#f0f921\"]],\"sequentialminus\":[[0.0,\"#0d0887\"],[0.1111111111111111,\"#46039f\"],[0.2222222222222222,\"#7201a8\"],[0.3333333333333333,\"#9c179e\"],[0.4444444444444444,\"#bd3786\"],[0.5555555555555556,\"#d8576b\"],[0.6666666666666666,\"#ed7953\"],[0.7777777777777778,\"#fb9f3a\"],[0.8888888888888888,\"#fdca26\"],[1.0,\"#f0f921\"]]},\"colorway\":[\"#636efa\",\"#EF553B\",\"#00cc96\",\"#ab63fa\",\"#FFA15A\",\"#19d3f3\",\"#FF6692\",\"#B6E880\",\"#FF97FF\",\"#FECB52\"],\"font\":{\"color\":\"#2a3f5f\"},\"geo\":{\"bgcolor\":\"white\",\"lakecolor\":\"white\",\"landcolor\":\"#E5ECF6\",\"showlakes\":true,\"showland\":true,\"subunitcolor\":\"white\"},\"hoverlabel\":{\"align\":\"left\"},\"hovermode\":\"closest\",\"mapbox\":{\"style\":\"light\"},\"paper_bgcolor\":\"white\",\"plot_bgcolor\":\"#E5ECF6\",\"polar\":{\"angularaxis\":{\"gridcolor\":\"white\",\"linecolor\":\"white\",\"ticks\":\"\"},\"bgcolor\":\"#E5ECF6\",\"radialaxis\":{\"gridcolor\":\"white\",\"linecolor\":\"white\",\"ticks\":\"\"}},\"scene\":{\"xaxis\":{\"backgroundcolor\":\"#E5ECF6\",\"gridcolor\":\"white\",\"gridwidth\":2,\"linecolor\":\"white\",\"showbackground\":true,\"ticks\":\"\",\"zerolinecolor\":\"white\"},\"yaxis\":{\"backgroundcolor\":\"#E5ECF6\",\"gridcolor\":\"white\",\"gridwidth\":2,\"linecolor\":\"white\",\"showbackground\":true,\"ticks\":\"\",\"zerolinecolor\":\"white\"},\"zaxis\":{\"backgroundcolor\":\"#E5ECF6\",\"gridcolor\":\"white\",\"gridwidth\":2,\"linecolor\":\"white\",\"showbackground\":true,\"ticks\":\"\",\"zerolinecolor\":\"white\"}},\"shapedefaults\":{\"line\":{\"color\":\"#2a3f5f\"}},\"ternary\":{\"aaxis\":{\"gridcolor\":\"white\",\"linecolor\":\"white\",\"ticks\":\"\"},\"baxis\":{\"gridcolor\":\"white\",\"linecolor\":\"white\",\"ticks\":\"\"},\"bgcolor\":\"#E5ECF6\",\"caxis\":{\"gridcolor\":\"white\",\"linecolor\":\"white\",\"ticks\":\"\"}},\"title\":{\"x\":0.05},\"xaxis\":{\"automargin\":true,\"gridcolor\":\"white\",\"linecolor\":\"white\",\"ticks\":\"\",\"title\":{\"standoff\":15},\"zerolinecolor\":\"white\",\"zerolinewidth\":2},\"yaxis\":{\"automargin\":true,\"gridcolor\":\"white\",\"linecolor\":\"white\",\"ticks\":\"\",\"title\":{\"standoff\":15},\"zerolinecolor\":\"white\",\"zerolinewidth\":2}}}},                        {\"responsive\": true}                    ).then(function(){\n",
       "                            \n",
       "var gd = document.getElementById('0ca37670-572f-497e-ab85-08d3bf626912');\n",
       "var x = new MutationObserver(function (mutations, observer) {{\n",
       "        var display = window.getComputedStyle(gd).display;\n",
       "        if (!display || display === 'none') {{\n",
       "            console.log([gd, 'removed!']);\n",
       "            Plotly.purge(gd);\n",
       "            observer.disconnect();\n",
       "        }}\n",
       "}});\n",
       "\n",
       "// Listen for the removal of the full notebook cells\n",
       "var notebookContainer = gd.closest('#notebook-container');\n",
       "if (notebookContainer) {{\n",
       "    x.observe(notebookContainer, {childList: true});\n",
       "}}\n",
       "\n",
       "// Listen for the clearing of the current output cell\n",
       "var outputEl = gd.closest('.output');\n",
       "if (outputEl) {{\n",
       "    x.observe(outputEl, {childList: true});\n",
       "}}\n",
       "\n",
       "                        })                };                });            </script>        </div>"
      ]
     },
     "metadata": {},
     "output_type": "display_data"
    }
   ],
   "source": [
    "display(diagram)"
   ]
  },
  {
   "cell_type": "markdown",
   "id": "d5fb82b6",
   "metadata": {},
   "source": [
    "## Change Detection"
   ]
  },
  {
   "cell_type": "code",
   "execution_count": 11,
   "id": "f3b71334",
   "metadata": {},
   "outputs": [],
   "source": [
    "eps = 4\n",
    "min_size = 5\n",
    "min_samples = 10\n",
    "model = 'l1'\n",
    "    \n",
    "changes, clusters = ts.change_detection_collective(ts_df_array,\n",
    "                                                   filenames,\n",
    "                                                   model,\n",
    "                                                   min_size,\n",
    "                                                   eps,\n",
    "                                                   min_samples,\n",
    "                                                   date_column,\n",
    "                                                   data_column)"
   ]
  },
  {
   "cell_type": "markdown",
   "id": "14e40bad",
   "metadata": {},
   "source": [
    "#### Global change points"
   ]
  },
  {
   "cell_type": "code",
   "execution_count": 16,
   "id": "e6c360e8",
   "metadata": {},
   "outputs": [
    {
     "data": {},
     "metadata": {},
     "output_type": "display_data"
    },
    {
     "data": {
      "application/vnd.holoviews_exec.v0+json": "",
      "text/html": [
       "<div id='1040'>\n",
       "\n",
       "\n",
       "\n",
       "\n",
       "\n",
       "  <div class=\"bk-root\" id=\"cc854c40-59ff-4c92-9784-4347c60eb455\" data-root-id=\"1040\"></div>\n",
       "</div>\n",
       "<script type=\"application/javascript\">(function(root) {\n",
       "  function embed_document(root) {\n",
       "    var docs_json = {\"9936d053-b70b-4569-b356-d68beb59079c\":{\"defs\":[],\"roots\":{\"references\":[{\"attributes\":{\"format\":\"0,0.0[00000]\"},\"id\":\"1020\",\"type\":\"NumberFormatter\"},{\"attributes\":{},\"id\":\"1025\",\"type\":\"StringFormatter\"},{\"attributes\":{\"autosize_mode\":\"fit_viewport\",\"columns\":[{\"id\":\"1007\"},{\"id\":\"1012\"},{\"id\":\"1017\"},{\"id\":\"1022\"},{\"id\":\"1027\"},{\"id\":\"1032\"},{\"id\":\"1037\"}],\"editable\":true,\"frozen_columns\":0,\"height\":300,\"index_position\":null,\"margin\":[5,10,5,10],\"name\":\"\",\"row_height\":40,\"sizing_mode\":\"fixed\",\"source\":{\"id\":\"1002\"},\"view\":{\"id\":\"1042\"}},\"id\":\"1040\",\"type\":\"DataTable\"},{\"attributes\":{\"editor\":{\"id\":\"1006\"},\"field\":\"index\",\"formatter\":{\"id\":\"1004\"},\"title\":\"index\",\"width\":150},\"id\":\"1007\",\"type\":\"TableColumn\"},{\"attributes\":{},\"id\":\"1021\",\"type\":\"NumberEditor\"},{\"attributes\":{},\"id\":\"1026\",\"type\":\"StringEditor\"},{\"attributes\":{\"editor\":{\"id\":\"1026\"},\"field\":\"name\",\"formatter\":{\"id\":\"1025\"},\"title\":\"name\",\"width\":150},\"id\":\"1027\",\"type\":\"TableColumn\"},{\"attributes\":{\"data\":{\"cluster label\":[-1,0,1,-1,2,-1,3,4,5,-1,2,6,2,7,0,8,-1,-1,9,0,2,-1,-1,2,9,9,9,9,3,-1,10,5,9,11,-1,9,-1,-1,5,12,13,-1,14,8,15,-1,-1,2,2,9,9,5,16,17,11,6,2,-1,18,2,19,-1,20,4,21,3,2,0,5,11,11,-1,0,10,22,-1,16,23,-1,13,12,10,24,25,-1,17,26,-1,27,28,16,29,-1,12,11,11,30,0,-1,16,31,32,-1,33,34,24,35,2,13,36,24,37,38,-1,24,2,2,6,39,40,2,30,-1,23,23,16,41,38,38,-1,21,24,16,1,42,-1,38,20,43,27,38,2,27,20,-1,44,16,21,32,45,46,-1,34,1,9,3,10,-1,4,2,8,14,47,43,-1,2,-1,-1,-1,2,-1,-1,15,-1,33,-1,36,3,-1,48,-1,34,49,0,32,38,50,-1,34,-1,7,51,17,2,52,-1,-1,24,23,15,53,30,-1,11,-1,-1,54,55,49,56,33,24,14,57,58,2,-1,2,21,57,31,-1,16,6,-1,0,-1,59,8,10,16,20,60,61,42,62,2,3,63,8,52,61,64,23,8,2,65,2,-1,46,1,53,32,-1,22,66,2,-1,2,10,9,-1,-1,-1,2,39,17,-1,51,11,45,49,6,27,29,67,32,2,64,68,-1,10,-1,27,53,69,0,53,-1,-1,70,-1,-1,55,71,72,15,73,74,9,73,35,-1,62,6,45,75,24,4,32,22,23,10,61,76,-1,9,10,-1,-1,-1,59,55,53,24,59,2,57,-1,62,56,77,78,-1,35,31,11,6,62,73,79,80,-1,72,26,35,16,27,60,-1,11,-1,78,73,0,81,16,-1,13,-1,26,34,82,20,12,83,10,2,-1,2,-1,0,69,20,30,10,-1,-1,59,44,25,47,78,42,84,85,31,38,86,52,78,-1,6,16,32,55,49,33,87,6,32,37,78,21,78,41,8,84,72,65,82,3,-1,13,1,24,66,62,-1,-1,6,66,78,37,-1,36,88,86,2,16,1,60,-1,-1,-1,5,61,24,9,89,32,-1,29,32,44,4,-1,6,17,-1,63,-1,-1,90,2,-1,11,59,-1,11,-1,-1,16,51,42,3,30,91,-1,35,75,90,92,30,8,-1,32,-1,47,23,37,51,62,88,57,-1,10,83,62,38,10,24,32,11,40,-1,93,46,51,57,52,24,35,7,10,-1,86,20,-1,37,94,24,-1,13,65,16,35,29,25,60,-1,10,-1,44,44,-1,-1,5,51,12,-1,95,16,55,37,39,96,10,46,97,60,23,51,11,-1,49,-1,62,-1,25,27,57,4,31,16,56,17,98,1,37,35,-1,99,96,-1,27,-1,11,-1,-1,97,100,10,65,42,101,-1,-1,10,5,-1,27,21,-1,11,38,73,37,-1,10,34,-1,102,86,103,5,84,-1,72,66,75,44,60,-1,11,2,104,24,35,-1,-1,11,73,32,105,47,61,42,78,5,67,38,26,92,-1,-1,-1,-1,11,34,78,17,-1,-1,106,75,-1,15,-1,-1,-1,1,-1,-1,58,15,59,91,32,10,-1,-1,69,6,35,81,72,56,-1,9,96,20,39,61,63,100,-1,99,2,3,-1,-1,-1,17,-1,24,7,1,-1,100,7,81,27,-1,4,72,21,40,2,107,73,9,108,15,1,10,-1,84,66,-1,10,72,5,10,-1,3,24,2,-1,78,-1,72,4,11,94,95,-1,32,-1,38,10,80,7,-1,70,97,-1,84,-1,40,-1,50,41,51,8,34,11,-1,9,78,41,50,46,4,16,102,23,-1,42,8,17,84,-1,109,0,-1,31,10,57,61,23,60,79,-1,1,64,97,97,51,73,-1,92,-1,81,105,58,110,82,98,9,82,39,-1,81,3,49,88,44,-1,58,34,55,15,111,17,4,67,-1,112,86,9,-1,10,-1,84,102,112,48,8,93,44,106,86,-1,31,2,2,100,91,3,100,-1,92,-1,-1,88,98,4,2,35,32,-1,31,-1,62,55,76,113,-1,16,114,39,15,16,89,115,114,55,-1,-1,30,74,72,27,54,88,61,67,35,110,54,-1,34,76,-1,14,-1,89,97,7,-1,2,-1,36,102,21,-1,19,24,97,74,-1,8,72,-1,116,-1,85,117,-1,-1,36,20,11,-1,59,106,13,12,109,19,67,15,59,31,10,-1,-1,26,88,-1,36,75,114,54,-1,41,2,-1,107,107,35,1,100,67,6,118,58,-1,4,110,-1,100,-1,-1,102,26,119,64,-1,79,84,-1,11,52,3,120,5,33,59,121,109,122,21,41,68,-1,10,74,10,117,-1,18,-1,52,-1,58,123,72,100,41,30,42,55,-1,50,11,19,40,-1,57,21,59,124,27,15,53,55,6,60,59,-1,40,86,125,77,22,44,125,13,84,-1,-1,103,94,57,-1,27,-1,-1,54,96,126,87,40,127,-1,78,10,1,30,42,13,21,12,24,54,100,37,2,-1,-1,-1,57,14,3,-1,59,100,128,34,10,-1,17,-1,129,91,86,72,-1,12,34,-1,81,53,23,130,29,-1,96,-1,131,92,23,-1,-1,15,69,132,123,126,103,107,85,64,37,133,24,119,-1,26,93,41,77,53,82,-1,60,52,21,34,113,-1,60,100,130,-1,75,56,95,85,121,116,30,104,-1,106,-1,-1,-1,-1,37,-1,102,17,-1,1,24,21,84,-1,0,113,35,62,-1,-1,-1,29,121,133,19,-1,43,88,-1,-1,35,-1,-1,-1,-1,75,22,-1,-1,72,134,-1,2,-1,119,84,47,77,53,55,27,63,-1,122,73,-1,55,-1,-1,-1,93,127,53,72,-1,94,14,68,88,89,25,26,-1,49,23,26,27,49,100,76,37,-1,81,-1,-1,-1,-1,-1,29,84,40,55,-1,-1,65,133,93,56,25,58,109,78,74,75,57,54,-1,105,17,51,31,10,42,33,7,14,28,73,68,70,91,64,17,49,63,-1,-1,-1,92,-1,49,64,105,-1,10,35,113,114,20,29,47,80,132,96,-1,39,81,11,-1,16,110,55,5,135,14,73,20,26,98,78,88,124,-1,100,6,32,55,1,100,50,-1,66,136,96,136,-1,92,72,119,-1,100,32,-1,-1,24,-1,2,37,88,-1,40,78,57,57,127,137,59,88,45,-1,73,93,57,1,84,26,21,-1,-1,75,41,124,89,-1,111,5,50,80,87,-1,32,-1,97,-1,-1,79,47,-1,101,-1,82,100,61,7,73,1,10,93,-1,35,97,11,19,19,34,85,123,24,87,31,116,-1,-1,-1,64,-1,116,-1,-1,-1,27,-1,-1,14,138,68,-1,-1,89,-1,41,45,11,17,127,0,-1,87,-1,41,27,-1,104,-1,120,106,119,-1,84,-1,85,75,121,84,10,-1,32,85,100,103,-1,24,64,86,60,-1,-1,136,108,66,87,39,-1,94,63,49,79,1,66,50,-1,32,59,92,111,-1,-1,-1,-1,73,85,19,85,-1,85,110,132,128,-1,-1,114,63,-1,25,-1,-1,29,51,36,-1,132,54,57,73,-1,123,35,129,37,128,30,138,34,84,72,4,100,25,110,-1,-1,53,136,127,136,18,68,27,5,-1,89,51,26,50,57,-1,-1,8,78,22,29,95,135,7,46,128,27,-1,72,-1,58,34,43,-1,48,33,-1,130,122,93,73,135,-1,-1,57,9,94,64,47,87,87,130,-1,57,14,24,121,61,26,98,-1,15,102,-1,-1,139,84,-1,-1,52,-1,66,-1,84,-1,59,98,84,86,113,-1,-1,38,66,0,41,-1,33,-1,-1,87,64,108,111,71,35,104,121,18,10,96,105,127,10,29,-1,27,133,100,109,71,-1,4,90,24,103,52,-1,133,-1,81,45,27,59,-1,112,-1,21,77,37,-1,110,18,60,105,86,105,47,45,129,108,41,124,22,-1,-1,102,-1,118,93,-1,74,135,112,115,98,20,-1,72,118,33,89,-1,137,50,73,73,-1,131,85,60,-1,53,22,57,54,137,-1,-1,128,63,-1,-1,124,74,94,-1,64,7,68,26,-1,37,-1,-1,140,53,89,77,22,31,39,-1,72,44,-1,97,73,-1,75,27,-1,101,58,-1,-1,98,119,129,-1,34,-1,7,-1,117,80,19,78,94,89,57,116,-1,-1,35,141,-1,118,89,17,84,46,-1,41,105,-1,38,54,108,14,-1,91,-1,101,61,18,24,91,73,88,-1,26,-1,-1,85,-1,-1,-1,-1,-1,125,53,-1,33,91,76,-1,7,45,-1,53,76,77,100,69,-1,-1,142,47,-1,16,56,-1,117,140,51,58,20,3,-1,41,-1,69,-1,84,-1,32,86,93,11,1,-1,11,-1,123,108,-1,-1,138,99,-1,-1,70,-1,-1,17,-1,82,-1,42,137,72,78,128,71,88,74,-1,-1,29,93,56,119,-1,-1,98,82,130,-1,68,100,54,73,-1,53,19,78,128,-1,66,-1,67,-1,-1,67,68,139,22,87,-1,104,-1,123,38,127,68,111,91,113,113,-1,-1,84,33,-1,39,24,1,-1,36,96,47,-1,-1,-1,41,-1,10,54,122,64,55,-1,-1,41,139,-1,78,127,100,86,-1,-1,2,-1,1,-1,37,-1,-1,24,-1,106,-1,68,-1,81,70,46,26,118,140,-1,123,60,66,36,-1,43,48,137,110,118,122,-1,-1,-1,36,52,-1,88,-1,-1,-1,-1,64,82,124,82,-1,38,133,137,134,11,-1,41,-1,132,-1,18,26,69,-1,75,-1,-1,-1,85,123,-1,19,-1,33,103,15,-1,31,-1,112,109,120,-1,-1,48,-1,-1,-1,103,-1,-1,-1,2,106,-1,-1,41,34,126,24,5,-1,122,-1,-1,80,53,100,131,123,48,56,84,-1,92,81,75,46,-1,-1,104,-1,22,26,17,103,-1,92,81,-1,91,-1,67,19,-1,130,43,-1,-1,35,47,-1,-1,91,20,48,-1,-1,132,69,-1,19,129,100,20,141,-1,98,28,67,-1,-1,-1,34,143,61,25,93,-1,35,58,98,-1,114,-1,-1,126,-1,-1,115,92,-1,-1,48,1,60,-1,68,90,65,115,32,132,-1,-1,-1,12,93,80,41,42,126,-1,-1,113,35,59,53,-1,6,-1,103,37,70,50,-1,-1,-1,32,-1,-1,107,93,20,126,-1,41,-1,127,130,58,-1,138,98,-1,67,-1,-1,-1,32,114,136,-1,5,-1,74,-1,85,-1,89,-1,121,-1,134,139,-1,128,-1,-1,111,55,120,-1,-1,115,93,109,-1,101,137,7,135,70,112,44,5,26,31,-1,-1,68,-1,122,113,61,82,71,-1,50,-1,21,76,57,-1,-1,76,89,75,-1,67,-1,78,123,-1,124,-1,-1,122,-1,136,101,34,137,93,50,71,-1,74,95,88,4,-1,95,16,86,117,-1,58,87,77,25,-1,-1,-1,113,76,22,-1,-1,126,92,45,66,61,129,81,130,79,94,-1,-1,75,119,-1,99,116,-1,143,5,67,-1,37,-1,92,-1,-1,1,66,-1,93,109,92,126,-1,-1,-1,-1,-1,-1,-1,133,-1,125,58,33,-1,-1,28,90,76,1,49,130,60,113,130,135,96,99,28,-1,129,118,104,-1,97,76,-1,55,-1,-1,131,-1,65,108,64,46,-1,67,113,41,50,69,78,118,39,120,77,105,-1,-1,-1,58,141,110,83,34,76,59,70,144,69,-1,41,68,116,105,-1,-1,-1,24,142,143,117,100,120,1,-1,39,-1,-1,86,141,-1,0,-1,-1,76,-1,-1,113,-1,54,130,134,-1,-1,85,87,24,67,-1,-1,125,19,100,83,-1,-1,-1,15,32,84,43,25,111,21,-1,1,16,-1,123,141,143,-1,-1,140,-1,1,70,-1,-1,15,113,-1,133,128,100,138,-1,80,129,53,-1,-1,11,128,141,70,-1,-1,-1,114,71,-1,-1,94,-1,135,29,130,-1,26,123,112,126,22,-1,34,110,130,25,26,-1,121,113,45,-1,39,78,135,131,61,-1,133,50,144,-1,-1,-1,-1,66,59,43,35,88,49,84,46,-1,58,-1,2,20,83,8,69,143,65,80,33,3,104,80,102,-1,-1,-1,-1,-1,33,-1,100,113,91,46,139,50,7,92,-1,58,75,34,-1,111,7,31,14,97,131,-1,-1,13,17,74,107,103,112,140,-1,-1,25,83,121,114,102,78,-1,136,-1,124,95,102,128,120,138,-1,70,137,109,121,47,-1,132,125,71,-1,-1,12,-1,78,69,-1,37,-1,-1,46,-1,140,-1,134,127,18,-1,-1,-1,6,106,68,106,65,98,106,94,83,107,67,-1,34,28,122,14,135,-1,74,46,143,135,-1,-1,86,134,-1,123,47,25,81,28,-1,64,-1,-1,-1,-1,26,95,57,13,144,91,-1,-1,37,-1,132,-1,-1,-1,-1,125,-1,-1,134,107,107,11,119,57,119,-1,-1,93,123,85,-1,66,-1,-1,83,110,64,92,2,-1,10,132,24,-1,-1,127,22,115,-1,24,126,45,69,-1,-1,79,-1,142,-1,31,-1,-1,-1,14,133,127,14,-1,-1,85,28,125,123,-1,-1,-1,10,-1,122,106,-1,16,-1,100,66,-1,-1,73,46,144,68,144,-1,97,-1,-1,-1,120,-1,29,94,-1,-1,94,5,60,-1,96,138,60,57,120,121,65,7,93,-1,25,-1,102,20,132,-1,-1,120,56,-1,64,125,-1,72,75,75,-1,64,128,-1,125,117,-1,-1,-1,-1,136,112,89,-1,-1,144,63,-1,18,56,-1,-1,123,141,97,129,90,121,-1,1,106,101,-1,87,119,144,104,-1,93,123,132,138,-1,60,29,-1,-1,28,12,29,133,-1,-1,40,74,129,-1,123,143,83,-1,18,53,142,-1,144,110,54,114,-1,85,81,-1,95,107,78,102,119,-1,122,108,116,-1,133,86,4,124,112,117,133,83,144,104,79,115,46,89,82,116,-1,-1,-1,1,99,-1,-1,140,133,101,116,65,-1,112,-1,85,-1,122,-1,30,69,144,-1,-1,-1,69,107,32,-1,-1,138,-1,-1,-1,103,61,-1,50,-1,67,123,-1,-1,-1,123,112,142,21,94,-1,67,-1,-1,106,-1,-1,-1,54,67,113,129,29,22,127,61,64,137,116,-1,73,-1,106,-1,102,-1,92,-1,-1,-1,73,83,99,-1,43,141,139,-1,-1,71,78,-1,128,125,85,89,-1,101,-1,87,83,72,-1,-1,137,-1,131,-1,-1,118,-1,-1,140,57,-1,103,-1,29,-1,-1,92,-1,-1,66,-1,8,141,142,107,129,142,-1,57,-1,134,26,140,142,-1,-1,-1,-1,13,-1,142,-1,64,-1,112,103,-1,65,-1,136,117,-1,100,80,-1,-1,-1,128,97,93,-1,37,48,-1,-1,-1,26,-1,-1,-1,28,20,90,-1,-1,141,33,67,1,17,131,131,144,143,133,-1,-1,106,116,-1,28,-1,-1,24,67,139,99,-1,108,96,102,82,136,-1,144,-1,25,117,69,67,115,101,-1,123,70,29,3,143,80,45,139,98,-1,73,-1,116,-1,-1,-1,124,67,57,77,132,-1,-1,106,21,67,98,85,142,59,130,48,-1,48,124,-1,48,115,119,67,119,107,123,108,98,95,-1,133,34,32,-1,79,134,113,-1,-1,-1,-1,-1,11,-1,90,135,11,106,-1,108,103,-1,-1,-1,-1,66,-1,99,128,99,-1,109,-1,-1,43,74,120,-1,-1,82,-1,-1,-1,93,-1,63,-1,64,70,-1,100,57,69,131,104,-1,107,34,15,-1,123,-1,-1,111,41,140,53,-1,94,-1,70,36,138,108,-1,117,43,-1,-1,-1,-1,133,-1,47,118,83,131,142,-1,75,16,80,71,-1,108,64,92,132,99,111,121,-1,-1,111,33,133,107,120,-1,99,-1,-1,141,-1,-1,-1,-1,-1,-1,111,-1,90,-1,-1,130,90,68,79,-1,-1,132,111,-1,-1,20,117,118,-1,-1,-1,143,-1,64,88,121,-1,-1,30,-1,88,-1,-1,134,-1,67,-1,107,-1,139,15,115,-1,-1,-1,-1,-1,53,-1,71,138,-1,61,-1,139,-1],\"date\":{\"__ndarray__\":\"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\",\"dtype\":\"float64\",\"order\":\"little\",\"shape\":[3272]},\"dir_rate_change\":{\"__ndarray__\":\"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\",\"dtype\":\"float64\",\"order\":\"little\",\"shape\":[3272]},\"index\":[0,1,2,3,4,5,6,7,8,9,10,11,12,13,14,15,16,17,18,19,20,21,22,23,24,25,26,27,28,29,30,31,32,33,34,35,36,37,38,39,40,41,42,43,44,45,46,47,48,49,50,51,52,53,54,55,56,57,58,59,60,61,62,63,64,65,66,67,68,69,70,71,72,73,74,75,76,77,78,79,80,81,82,83,84,85,86,87,88,89,90,91,92,93,94,95,96,97,98,99,100,101,102,103,104,105,106,107,108,109,110,111,112,113,114,115,116,117,118,119,120,121,122,123,124,125,126,127,128,129,130,131,132,133,134,135,136,137,138,139,140,141,142,143,144,145,146,147,148,149,150,151,152,153,154,155,156,157,158,159,160,161,162,163,164,165,166,167,168,169,170,171,172,173,174,175,176,177,178,179,180,181,182,183,184,185,186,187,188,189,190,191,192,193,194,195,196,197,198,199,200,201,202,203,204,205,206,207,208,209,210,211,212,213,214,215,216,217,218,219,220,221,222,223,224,225,226,227,228,229,230,231,232,233,234,235,236,237,238,239,240,241,242,243,244,245,246,247,248,249,250,251,252,253,254,255,256,257,258,259,260,261,262,263,264,265,266,267,268,269,270,271,272,273,274,275,276,277,278,279,280,281,282,283,284,285,286,287,288,289,290,291,292,293,294,295,296,297,298,299,300,301,302,303,304,305,306,307,308,309,310,311,312,313,314,315,316,317,318,319,320,321,322,323,324,325,326,327,328,329,330,331,332,333,334,335,336,337,338,339,340,341,342,343,344,345,346,347,348,349,350,351,352,353,354,355,356,357,358,359,360,361,362,363,364,365,366,367,368,369,370,371,372,373,374,375,376,377,378,379,380,381,382,383,384,385,386,387,388,389,390,391,392,393,394,395,396,397,398,399,400,401,402,403,404,405,406,407,408,409,410,411,412,413,414,415,416,417,418,419,420,421,422,423,424,425,426,427,428,429,430,431,432,433,434,435,436,437,438,439,440,441,442,443,444,445,446,447,448,449,450,451,452,453,454,455,456,457,458,459,460,461,462,463,464,465,466,467,468,469,470,471,472,473,474,475,476,477,478,479,480,481,482,483,484,485,486,487,488,489,490,491,492,493,494,495,496,497,498,499,500,501,502,503,504,505,506,507,508,509,510,511,512,513,514,515,516,517,518,519,520,521,522,523,524,525,526,527,528,529,530,531,532,533,534,535,536,537,538,539,540,541,542,543,544,545,546,547,548,549,550,551,552,553,554,555,556,557,558,559,560,561,562,563,564,565,566,567,568,569,570,571,572,573,574,575,576,577,578,579,580,581,582,583,584,585,586,587,588,589,590,591,592,593,594,595,596,597,598,599,600,601,602,603,604,605,606,607,608,609,610,611,612,613,614,615,616,617,618,619,620,621,622,623,624,625,626,627,628,629,630,631,632,633,634,635,636,637,638,639,640,641,642,643,644,645,646,647,648,649,650,651,652,653,654,655,656,657,658,659,660,661,662,663,664,665,666,667,668,669,670,671,672,673,674,675,676,677,678,679,680,681,682,683,684,685,686,687,688,689,690,691,692,693,694,695,696,697,698,699,700,701,702,703,704,705,706,707,708,709,710,711,712,713,714,715,716,717,718,719,720,721,722,723,724,725,726,727,728,729,730,731,732,733,734,735,736,737,738,739,740,741,742,743,744,745,746,747,748,749,750,751,752,753,754,755,756,757,758,759,760,761,762,763,764,765,766,767,768,769,770,771,772,773,774,775,776,777,778,779,780,781,782,783,784,785,786,787,788,789,790,791,792,793,794,795,796,797,798,799,800,801,802,803,804,805,806,807,808,809,810,811,812,813,814,815,816,817,818,819,820,821,822,823,824,825,826,827,828,829,830,831,832,833,834,835,836,837,838,839,840,841,842,843,844,845,846,847,848,849,850,851,852,853,854,855,856,857,858,859,860,861,862,863,864,865,866,867,868,869,870,871,872,873,874,875,876,877,878,879,880,881,882,883,884,885,886,887,888,889,890,891,892,893,894,895,896,897,898,899,900,901,902,903,904,905,906,907,908,909,910,911,912,913,914,915,916,917,918,919,920,921,922,923,924,925,926,927,928,929,930,931,932,933,934,935,936,937,938,939,940,941,942,943,944,945,946,947,948,949,950,951,952,953,954,955,956,957,958,959,960,961,962,963,964,965,966,967,968,969,970,971,972,973,974,975,976,977,978,979,980,981,982,983,984,985,986,987,988,989,990,991,992,993,994,995,996,997,998,999,1000,1001,1002,1003,1004,1005,1006,1007,1008,1009,1010,1011,1012,1013,1014,1015,1016,1017,1018,1019,1020,1021,1022,1023,1024,1025,1026,1027,1028,1029,1030,1031,1032,1033,1034,1035,1036,1037,1038,1039,1040,1041,1042,1043,1044,1045,1046,1047,1048,1049,1050,1051,1052,1053,1054,1055,1056,1057,1058,1059,1060,1061,1062,1063,1064,1065,1066,1067,1068,1069,1070,1071,1072,1073,1074,1075,1076,1077,1078,1079,1080,1081,1082,1083,1084,1085,1086,1087,1088,1089,1090,1091,1092,1093,1094,1095,1096,1097,1098,1099,1100,1101,1102,1103,1104,1105,1106,1107,1108,1109,1110,1111,1112,1113,1114,1115,1116,1117,1118,1119,1120,1121,1122,1123,1124,1125,1126,1127,1128,1129,1130,1131,1132,1133,1134,1135,1136,1137,1138,1139,1140,1141,1142,1143,1144,1145,1146,1147,1148,1149,1150,1151,1152,1153,1154,1155,1156,1157,1158,1159,1160,1161,1162,1163,1164,1165,1166,1167,1168,1169,1170,1171,1172,1173,1174,1175,1176,1177,1178,1179,1180,1181,1182,1183,1184,1185,1186,1187,1188,1189,1190,1191,1192,1193,1194,1195,1196,1197,1198,1199,1200,1201,1202,1203,1204,1205,1206,1207,1208,1209,1210,1211,1212,1213,1214,1215,1216,1217,1218,1219,1220,1221,1222,1223,1224,1225,1226,1227,1228,1229,1230,1231,1232,1233,1234,1235,1236,1237,1238,1239,1240,1241,1242,1243,1244,1245,1246,1247,1248,1249,1250,1251,1252,1253,1254,1255,1256,1257,1258,1259,1260,1261,1262,1263,1264,1265,1266,1267,1268,1269,1270,1271,1272,1273,1274,1275,1276,1277,1278,1279,1280,1281,1282,1283,1284,1285,1286,1287,1288,1289,1290,1291,1292,1293,1294,1295,1296,1297,1298,1299,1300,1301,1302,1303,1304,1305,1306,1307,1308,1309,1310,1311,1312,1313,1314,1315,1316,1317,1318,1319,1320,1321,1322,1323,1324,1325,1326,1327,1328,1329,1330,1331,1332,1333,1334,1335,1336,1337,1338,1339,1340,1341,1342,1343,1344,1345,1346,1347,1348,1349,1350,1351,1352,1353,1354,1355,1356,1357,1358,1359,1360,1361,1362,1363,1364,1365,1366,1367,1368,1369,1370,1371,1372,1373,1374,1375,1376,1377,1378,1379,1380,1381,1382,1383,1384,1385,1386,1387,1388,1389,1390,1391,1392,1393,1394,1395,1396,1397,1398,1399,1400,1401,1402,1403,1404,1405,1406,1407,1408,1409,1410,1411,1412,1413,1414,1415,1416,1417,1418,1419,1420,1421,1422,1423,1424,1425,1426,1427,1428,1429,1430,1431,1432,1433,1434,1435,1436,1437,1438,1439,1440,1441,1442,1443,1444,1445,1446,1447,1448,1449,1450,1451,1452,1453,1454,1455,1456,1457,1458,1459,1460,1461,1462,1463,1464,1465,1466,1467,1468,1469,1470,1471,1472,1473,1474,1475,1476,1477,1478,1479,1480,1481,1482,1483,1484,1485,1486,1487,1488,1489,1490,1491,1492,1493,1494,1495,1496,1497,1498,1499,1500,1501,1502,1503,1504,1505,1506,1507,1508,1509,1510,1511,1512,1513,1514,1515,1516,1517,1518,1519,1520,1521,1522,1523,1524,1525,1526,1527,1528,1529,1530,1531,1532,1533,1534,1535,1536,1537,1538,1539,1540,1541,1542,1543,1544,1545,1546,1547,1548,1549,1550,1551,1552,1553,1554,1555,1556,1557,1558,1559,1560,1561,1562,1563,1564,1565,1566,1567,1568,1569,1570,1571,1572,1573,1574,1575,1576,1577,1578,1579,1580,1581,1582,1583,1584,1585,1586,1587,1588,1589,1590,1591,1592,1593,1594,1595,1596,1597,1598,1599,1600,1601,1602,1603,1604,1605,1606,1607,1608,1609,1610,1611,1612,1613,1614,1615,1616,1617,1618,1619,1620,1621,1622,1623,1624,1625,1626,1627,1628,1629,1630,1631,1632,1633,1634,1635,1636,1637,1638,1639,1640,1641,1642,1643,1644,1645,1646,1647,1648,1649,1650,1651,1652,1653,1654,1655,1656,1657,1658,1659,1660,1661,1662,1663,1664,1665,1666,1667,1668,1669,1670,1671,1672,1673,1674,1675,1676,1677,1678,1679,1680,1681,1682,1683,1684,1685,1686,1687,1688,1689,1690,1691,1692,1693,1694,1695,1696,1697,1698,1699,1700,1701,1702,1703,1704,1705,1706,1707,1708,1709,1710,1711,1712,1713,1714,1715,1716,1717,1718,1719,1720,1721,1722,1723,1724,1725,1726,1727,1728,1729,1730,1731,1732,1733,1734,1735,1736,1737,1738,1739,1740,1741,1742,1743,1744,1745,1746,1747,1748,1749,1750,1751,1752,1753,1754,1755,1756,1757,1758,1759,1760,1761,1762,1763,1764,1765,1766,1767,1768,1769,1770,1771,1772,1773,1774,1775,1776,1777,1778,1779,1780,1781,1782,1783,1784,1785,1786,1787,1788,1789,1790,1791,1792,1793,1794,1795,1796,1797,1798,1799,1800,1801,1802,1803,1804,1805,1806,1807,1808,1809,1810,1811,1812,1813,1814,1815,1816,1817,1818,1819,1820,1821,1822,1823,1824,1825,1826,1827,1828,1829,1830,1831,1832,1833,1834,1835,1836,1837,1838,1839,1840,1841,1842,1843,1844,1845,1846,1847,1848,1849,1850,1851,1852,1853,1854,1855,1856,1857,1858,1859,1860,1861,1862,1863,1864,1865,1866,1867,1868,1869,1870,1871,1872,1873,1874,1875,1876,1877,1878,1879,1880,1881,1882,1883,1884,1885,1886,1887,1888,1889,1890,1891,1892,1893,1894,1895,1896,1897,1898,1899,1900,1901,1902,1903,1904,1905,1906,1907,1908,1909,1910,1911,1912,1913,1914,1915,1916,1917,1918,1919,1920,1921,1922,1923,1924,1925,1926,1927,1928,1929,1930,1931,1932,1933,1934,1935,1936,1937,1938,1939,1940,1941,1942,1943,1944,1945,1946,1947,1948,1949,1950,1951,1952,1953,1954,1955,1956,1957,1958,1959,1960,1961,1962,1963,1964,1965,1966,1967,1968,1969,1970,1971,1972,1973,1974,1975,1976,1977,1978,1979,1980,1981,1982,1983,1984,1985,1986,1987,1988,1989,1990,1991,1992,1993,1994,1995,1996,1997,1998,1999,2000,2001,2002,2003,2004,2005,2006,2007,2008,2009,2010,2011,2012,2013,2014,2015,2016,2017,2018,2019,2020,2021,2022,2023,2024,2025,2026,2027,2028,2029,2030,2031,2032,2033,2034,2035,2036,2037,2038,2039,2040,2041,2042,2043,2044,2045,2046,2047,2048,2049,2050,2051,2052,2053,2054,2055,2056,2057,2058,2059,2060,2061,2062,2063,2064,2065,2066,2067,2068,2069,2070,2071,2072,2073,2074,2075,2076,2077,2078,2079,2080,2081,2082,2083,2084,2085,2086,2087,2088,2089,2090,2091,2092,2093,2094,2095,2096,2097,2098,2099,2100,2101,2102,2103,2104,2105,2106,2107,2108,2109,2110,2111,2112,2113,2114,2115,2116,2117,2118,2119,2120,2121,2122,2123,2124,2125,2126,2127,2128,2129,2130,2131,2132,2133,2134,2135,2136,2137,2138,2139,2140,2141,2142,2143,2144,2145,2146,2147,2148,2149,2150,2151,2152,2153,2154,2155,2156,2157,2158,2159,2160,2161,2162,2163,2164,2165,2166,2167,2168,2169,2170,2171,2172,2173,2174,2175,2176,2177,2178,2179,2180,2181,2182,2183,2184,2185,2186,2187,2188,2189,2190,2191,2192,2193,2194,2195,2196,2197,2198,2199,2200,2201,2202,2203,2204,2205,2206,2207,2208,2209,2210,2211,2212,2213,2214,2215,2216,2217,2218,2219,2220,2221,2222,2223,2224,2225,2226,2227,2228,2229,2230,2231,2232,2233,2234,2235,2236,2237,2238,2239,2240,2241,2242,2243,2244,2245,2246,2247,2248,2249,2250,2251,2252,2253,2254,2255,2256,2257,2258,2259,2260,2261,2262,2263,2264,2265,2266,2267,2268,2269,2270,2271,2272,2273,2274,2275,2276,2277,2278,2279,2280,2281,2282,2283,2284,2285,2286,2287,2288,2289,2290,2291,2292,2293,2294,2295,2296,2297,2298,2299,2300,2301,2302,2303,2304,2305,2306,2307,2308,2309,2310,2311,2312,2313,2314,2315,2316,2317,2318,2319,2320,2321,2322,2323,2324,2325,2326,2327,2328,2329,2330,2331,2332,2333,2334,2335,2336,2337,2338,2339,2340,2341,2342,2343,2344,2345,2346,2347,2348,2349,2350,2351,2352,2353,2354,2355,2356,2357,2358,2359,2360,2361,2362,2363,2364,2365,2366,2367,2368,2369,2370,2371,2372,2373,2374,2375,2376,2377,2378,2379,2380,2381,2382,2383,2384,2385,2386,2387,2388,2389,2390,2391,2392,2393,2394,2395,2396,2397,2398,2399,2400,2401,2402,2403,2404,2405,2406,2407,2408,2409,2410,2411,2412,2413,2414,2415,2416,2417,2418,2419,2420,2421,2422,2423,2424,2425,2426,2427,2428,2429,2430,2431,2432,2433,2434,2435,2436,2437,2438,2439,2440,2441,2442,2443,2444,2445,2446,2447,2448,2449,2450,2451,2452,2453,2454,2455,2456,2457,2458,2459,2460,2461,2462,2463,2464,2465,2466,2467,2468,2469,2470,2471,2472,2473,2474,2475,2476,2477,2478,2479,2480,2481,2482,2483,2484,2485,2486,2487,2488,2489,2490,2491,2492,2493,2494,2495,2496,2497,2498,2499,2500,2501,2502,2503,2504,2505,2506,2507,2508,2509,2510,2511,2512,2513,2514,2515,2516,2517,2518,2519,2520,2521,2522,2523,2524,2525,2526,2527,2528,2529,2530,2531,2532,2533,2534,2535,2536,2537,2538,2539,2540,2541,2542,2543,2544,2545,2546,2547,2548,2549,2550,2551,2552,2553,2554,2555,2556,2557,2558,2559,2560,2561,2562,2563,2564,2565,2566,2567,2568,2569,2570,2571,2572,2573,2574,2575,2576,2577,2578,2579,2580,2581,2582,2583,2584,2585,2586,2587,2588,2589,2590,2591,2592,2593,2594,2595,2596,2597,2598,2599,2600,2601,2602,2603,2604,2605,2606,2607,2608,2609,2610,2611,2612,2613,2614,2615,2616,2617,2618,2619,2620,2621,2622,2623,2624,2625,2626,2627,2628,2629,2630,2631,2632,2633,2634,2635,2636,2637,2638,2639,2640,2641,2642,2643,2644,2645,2646,2647,2648,2649,2650,2651,2652,2653,2654,2655,2656,2657,2658,2659,2660,2661,2662,2663,2664,2665,2666,2667,2668,2669,2670,2671,2672,2673,2674,2675,2676,2677,2678,2679,2680,2681,2682,2683,2684,2685,2686,2687,2688,2689,2690,2691,2692,2693,2694,2695,2696,2697,2698,2699,2700,2701,2702,2703,2704,2705,2706,2707,2708,2709,2710,2711,2712,2713,2714,2715,2716,2717,2718,2719,2720,2721,2722,2723,2724,2725,2726,2727,2728,2729,2730,2731,2732,2733,2734,2735,2736,2737,2738,2739,2740,2741,2742,2743,2744,2745,2746,2747,2748,2749,2750,2751,2752,2753,2754,2755,2756,2757,2758,2759,2760,2761,2762,2763,2764,2765,2766,2767,2768,2769,2770,2771,2772,2773,2774,2775,2776,2777,2778,2779,2780,2781,2782,2783,2784,2785,2786,2787,2788,2789,2790,2791,2792,2793,2794,2795,2796,2797,2798,2799,2800,2801,2802,2803,2804,2805,2806,2807,2808,2809,2810,2811,2812,2813,2814,2815,2816,2817,2818,2819,2820,2821,2822,2823,2824,2825,2826,2827,2828,2829,2830,2831,2832,2833,2834,2835,2836,2837,2838,2839,2840,2841,2842,2843,2844,2845,2846,2847,2848,2849,2850,2851,2852,2853,2854,2855,2856,2857,2858,2859,2860,2861,2862,2863,2864,2865,2866,2867,2868,2869,2870,2871,2872,2873,2874,2875,2876,2877,2878,2879,2880,2881,2882,2883,2884,2885,2886,2887,2888,2889,2890,2891,2892,2893,2894,2895,2896,2897,2898,2899,2900,2901,2902,2903,2904,2905,2906,2907,2908,2909,2910,2911,2912,2913,2914,2915,2916,2917,2918,2919,2920,2921,2922,2923,2924,2925,2926,2927,2928,2929,2930,2931,2932,2933,2934,2935,2936,2937,2938,2939,2940,2941,2942,2943,2944,2945,2946,2947,2948,2949,2950,2951,2952,2953,2954,2955,2956,2957,2958,2959,2960,2961,2962,2963,2964,2965,2966,2967,2968,2969,2970,2971,2972,2973,2974,2975,2976,2977,2978,2979,2980,2981,2982,2983,2984,2985,2986,2987,2988,2989,2990,2991,2992,2993,2994,2995,2996,2997,2998,2999,3000,3001,3002,3003,3004,3005,3006,3007,3008,3009,3010,3011,3012,3013,3014,3015,3016,3017,3018,3019,3020,3021,3022,3023,3024,3025,3026,3027,3028,3029,3030,3031,3032,3033,3034,3035,3036,3037,3038,3039,3040,3041,3042,3043,3044,3045,3046,3047,3048,3049,3050,3051,3052,3053,3054,3055,3056,3057,3058,3059,3060,3061,3062,3063,3064,3065,3066,3067,3068,3069,3070,3071,3072,3073,3074,3075,3076,3077,3078,3079,3080,3081,3082,3083,3084,3085,3086,3087,3088,3089,3090,3091,3092,3093,3094,3095,3096,3097,3098,3099,3100,3101,3102,3103,3104,3105,3106,3107,3108,3109,3110,3111,3112,3113,3114,3115,3116,3117,3118,3119,3120,3121,3122,3123,3124,3125,3126,3127,3128,3129,3130,3131,3132,3133,3134,3135,3136,3137,3138,3139,3140,3141,3142,3143,3144,3145,3146,3147,3148,3149,3150,3151,3152,3153,3154,3155,3156,3157,3158,3159,3160,3161,3162,3163,3164,3165,3166,3167,3168,3169,3170,3171,3172,3173,3174,3175,3176,3177,3178,3179,3180,3181,3182,3183,3184,3185,3186,3187,3188,3189,3190,3191,3192,3193,3194,3195,3196,3197,3198,3199,3200,3201,3202,3203,3204,3205,3206,3207,3208,3209,3210,3211,3212,3213,3214,3215,3216,3217,3218,3219,3220,3221,3222,3223,3224,3225,3226,3227,3228,3229,3230,3231,3232,3233,3234,3235,3236,3237,3238,3239,3240,3241,3242,3243,3244,3245,3246,3247,3248,3249,3250,3251,3252,3253,3254,3255,3256,3257,3258,3259,3260,3261,3262,3263,3264,3265,3266,3267,3268,3269,3270,3271],\"name\":[\"RELX PLC_035970.txt\",\"Segro PLC_030122.txt\",\"Halma_029131.txt\",\"Halma_029131.txt\",\"Halma_029131.txt\",\"BHP Group Ltd_035928.txt\",\"Standard Chartered PLC_035959.txt\",\"Halma_029131.txt\",\"Ashtead Group_028090.txt\",\"Segro PLC_030122.txt\",\"Segro PLC_030122.txt\",\"Easyjet_028875.txt\",\"BHP Group Ltd_035928.txt\",\"Halma_029131.txt\",\"Ferguson Plc._035956.txt\",\"Barratt Developments PLC_028259.txt\",\"Ferguson Plc._035956.txt\",\"Bunzl PLC_035961.txt\",\"BP PLC_035908.txt\",\"Standard Chartered PLC_035959.txt\",\"Schroders PLC_035969.txt\",\"Johnson Matthey_035962.txt\",\"Burberry Group PLC_028372.txt\",\"Ashtead Group_028090.txt\",\"Bunzl PLC_035961.txt\",\"Next PLC_035951.txt\",\"Burberry Group PLC_028372.txt\",\"DCC PLC_028662.txt\",\"Royal Mail Group Plc_0280WH.txt\",\"Halma_029131.txt\",\"Ferguson Plc._035956.txt\",\"Standard Chartered PLC_035959.txt\",\"Ferguson Plc._035956.txt\",\"Segro PLC_030122.txt\",\"Standard Chartered PLC_035959.txt\",\"Segro PLC_030122.txt\",\"Burberry Group PLC_028372.txt\",\"Sainsbury PLC- J._035952.txt\",\"Barratt Developments PLC_028259.txt\",\"Royal Mail Group Plc_0280WH.txt\",\"Tesco PLC_035966.txt\",\"Internat. Cons. Airl. Group SA_035946.txt\",\"Tesco PLC_035966.txt\",\"RELX PLC_035970.txt\",\"BP PLC_035908.txt\",\"Burberry Group PLC_028372.txt\",\"Halma_029131.txt\",\"Royal Mail Group Plc_0280WH.txt\",\"Standard Chartered PLC_035959.txt\",\"Barratt Developments PLC_028259.txt\",\"Scottish Mortgage Investment Trust plc_030137.txt\",\"Royal Bank of Scotland PLC_035987.txt\",\"BP PLC_035908.txt\",\"Next PLC_035951.txt\",\"Easyjet_028875.txt\",\"Reckitt Benckiser Group_035906.txt\",\"Tesco PLC_035966.txt\",\"Smiths Group_035958.txt\",\"Unilever PLC_035922.txt\",\"Berkeley Group Holdings Plc_036347.txt\",\"Bunzl PLC_035961.txt\",\"BHP Group Ltd_035928.txt\",\"Ferguson Plc._035956.txt\",\"BP PLC_035908.txt\",\"Royal Bank of Scotland PLC_035987.txt\",\"WPP PLC_035947.txt\",\"Royal Dutch Shell A_036335.txt\",\"RELX PLC_035970.txt\",\"Segro PLC_030122.txt\",\"Standard Chartered PLC_035959.txt\",\"Royal Mail Group Plc_0280WH.txt\",\"Burberry Group PLC_028372.txt\",\"GlaxoSmithKline PLC_035911.txt\",\"BP PLC_035908.txt\",\"Internat. Cons. Airl. Group SA_035946.txt\",\"Royal Bank of Scotland PLC_035987.txt\",\"Easyjet_028875.txt\",\"Royal Mail Group Plc_0280WH.txt\",\"Burberry Group PLC_028372.txt\",\"Halma_029131.txt\",\"Segro PLC_030122.txt\",\"Halma_029131.txt\",\"Associated British Foods PLC_035919.txt\",\"BP PLC_035908.txt\",\"Burberry Group PLC_028372.txt\",\"St. Jamess Place PLC_030192.txt\",\"BP PLC_035908.txt\",\"Royal Dutch Shell A_036335.txt\",\"Rio Tinto PLC_035988.txt\",\"BP PLC_035908.txt\",\"RELX PLC_035970.txt\",\"Ashtead Group_028090.txt\",\"Burberry Group PLC_028372.txt\",\"Ferguson Plc._035956.txt\",\"RELX PLC_035970.txt\",\"Royal Bank of Scotland PLC_035987.txt\",\"Standard Chartered PLC_035959.txt\",\"Burberry Group PLC_028372.txt\",\"Barratt Developments PLC_028259.txt\",\"Ashtead Group_028090.txt\",\"DCC PLC_028662.txt\",\"National Grid PLC_035983.txt\",\"Scottish Mortgage Investment Trust plc_030137.txt\",\"Tesco PLC_035966.txt\",\"Segro PLC_030122.txt\",\"CRH PLC_028592.txt\",\"Next PLC_035951.txt\",\"Aviva PLC_035907.txt\",\"Ferguson Plc._035956.txt\",\"BHP Group Ltd_035928.txt\",\"St. Jamess Place PLC_030192.txt\",\"Easyjet_028875.txt\",\"Paddy Power Betfair PLC_029791.txt\",\"Segro PLC_030122.txt\",\"Berkeley Group Holdings Plc_036347.txt\",\"3i Group PLC_035999.txt\",\"Melrose Industries Plc._030553.txt\",\"ITV_035984.txt\",\"Tesco PLC_035966.txt\",\"Segro PLC_030122.txt\",\"Sainsbury PLC- J._035952.txt\",\"Bunzl PLC_035961.txt\",\"Unilever PLC_035922.txt\",\"Berkeley Group Holdings Plc_036347.txt\",\"Segro PLC_030122.txt\",\"GlaxoSmithKline PLC_035911.txt\",\"BP PLC_035908.txt\",\"Standard Life Aberdeen Plc_036365.txt\",\"InterContinental Hotels Group_028005.txt\",\"Bunzl PLC_035961.txt\",\"RSA Insurance Group PLC_035921.txt\",\"Tesco PLC_035966.txt\",\"Sainsbury PLC- J._035952.txt\",\"Next PLC_035951.txt\",\"Royal Bank of Scotland PLC_035987.txt\",\"Associated British Foods PLC_035919.txt\",1,\"Berkeley Group Holdings Plc_036347.txt\",\"BP PLC_035908.txt\",\"Rentokil Initial_035944.txt\",\"Internat. Cons. Airl. Group SA_035946.txt\",\"Croda International_028589.txt\",\"Tesco PLC_035966.txt\",\"Standard Chartered PLC_035959.txt\",\"Ashtead Group_028090.txt\",\"Marks - Spencer Group PLC_035972.txt\",\"Standard Chartered PLC_035959.txt\",\"GlaxoSmithKline PLC_035911.txt\",\"Johnson Matthey_035962.txt\",\"Burberry Group PLC_028372.txt\",\"Segro PLC_030122.txt\",\"Reckitt Benckiser Group_035906.txt\",\"BHP Group Ltd_035928.txt\",\"Standard Chartered PLC_035959.txt\",\"Astrazeneca PLC_035998.txt\",\"St. Jamess Place PLC_030192.txt\",\"Bunzl PLC_035961.txt\",\"Prudential PLC_035971.txt\",\"GlaxoSmithKline PLC_035911.txt\",\"Royal Bank of Scotland PLC_035987.txt\",\"Royal Dutch Shell A_036335.txt\",\"Barratt Developments PLC_028259.txt\",\"Ashtead Group_028090.txt\",\"Halma_029131.txt\",\"Segro PLC_030122.txt\",\"Rolls Royce Holdings PLC_035902.txt\",\"Easyjet_028875.txt\",\"Royal Dutch Shell A_036335.txt\",\"Schroders PLC_035969.txt\",\"Rio Tinto PLC_035988.txt\",\"BP PLC_035908.txt\",\"Royal Dutch Shell A_036335.txt\",\"Next PLC_035951.txt\",\"Marks - Spencer Group PLC_035972.txt\",\"BP PLC_035908.txt\",\"Ferguson Plc._035956.txt\",\"Segro PLC_030122.txt\",\"Berkeley Group Holdings Plc_036347.txt\",\"Segro PLC_030122.txt\",\"Prudential PLC_035971.txt\",\"Halma_029131.txt\",\"Halma_029131.txt\",\"Marks - Spencer Group PLC_035972.txt\",\"Diageo PLC_035994.txt\",\"Royal Dutch Shell A_036335.txt\",\"Reckitt Benckiser Group_035906.txt\",\"Halma_029131.txt\",\"Reckitt Benckiser Group_035906.txt\",\"Morrison Supermarkets plc_035940.txt\",\"RELX PLC_035970.txt\",\"Johnson Matthey_035962.txt\",\"Standard Life Aberdeen Plc_036365.txt\",\"Scottish Mortgage Investment Trust plc_030137.txt\",\"Internat. Cons. Airl. Group SA_035946.txt\",\"Halma_029131.txt\",\"Scottish Mortgage Investment Trust plc_030137.txt\",\"DCC PLC_028662.txt\",\"Unilever PLC_035922.txt\",\"Johnson Matthey_035962.txt\",\"Internat. Cons. Airl. Group SA_035946.txt\",\"Easyjet_028875.txt\",\"Burberry Group PLC_028372.txt\",\"Johnson Matthey_035962.txt\",\"Ashtead Group_028090.txt\",\"Segro PLC_030122.txt\",\"TUI AG_02821N.txt\",\"Sainsbury PLC- J._035952.txt\",\"Royal Mail Group Plc_0280WH.txt\",\"Royal Dutch Shell A_036335.txt\",\"Burberry Group PLC_028372.txt\",\"Bunzl PLC_035961.txt\",\"Astrazeneca PLC_035998.txt\",\"Ferguson Plc._035956.txt\",\"Standard Chartered PLC_035959.txt\",\"Scottish Mortgage Investment Trust plc_030137.txt\",\"Paddy Power Betfair PLC_029791.txt\",\"Internat. Cons. Airl. Group SA_035946.txt\",\"National Grid PLC_035983.txt\",\"Diageo PLC_035994.txt\",\"DCC PLC_028662.txt\",\"Ferguson Plc._035956.txt\",\"Associated British Foods PLC_035919.txt\",\"Diageo PLC_035994.txt\",1,\"Segro PLC_030122.txt\",\"RSA Insurance Group PLC_035921.txt\",\"Admiral Group_036346.txt\",\"Legal - General Group PLC_035990.txt\",\"Pearson PLC_035960.txt\",\"Vodafone Group PLC_035943.txt\",\"RSA Insurance Group PLC_035921.txt\",\"Segro PLC_030122.txt\",\"Reckitt Benckiser Group_035906.txt\",\"Barratt Developments PLC_028259.txt\",\"Johnson Matthey_035962.txt\",\"RELX PLC_035970.txt\",\"Marks - Spencer Group PLC_035972.txt\",\"Burberry Group PLC_028372.txt\",\"Paddy Power Betfair PLC_029791.txt\",\"GlaxoSmithKline PLC_035911.txt\",\"Internat. Cons. Airl. Group SA_035946.txt\",\"Ferguson Plc._035956.txt\",\"Pearson PLC_035960.txt\",\"Marks - Spencer Group PLC_035972.txt\",\"Marks - Spencer Group PLC_035972.txt\",\"Unilever PLC_035922.txt\",\"Unilever PLC_035922.txt\",\"Johnson Matthey_035962.txt\",\"Berkeley Group Holdings Plc_036347.txt\",\"Standard Chartered PLC_035959.txt\",\"ITV_035984.txt\",\"Burberry Group PLC_028372.txt\",\"Internat. Cons. Airl. Group SA_035946.txt\",\"Just-Eat PLC_0281HA.txt\",\"Easyjet_028875.txt\",\"Halma_029131.txt\",\"Quilter Plc_0282I8.txt\",\"Scottish Mortgage Investment Trust plc_030137.txt\",\"Standard Life Aberdeen Plc_036365.txt\",\"DCC PLC_028662.txt\",\"TUI AG_02821N.txt\",\"GVC Holdings PLC_0280YJ.txt\",\"Scottish Mortgage Investment Trust plc_030137.txt\",\"WPP PLC_035947.txt\",\"Just-Eat PLC_0281HA.txt\",\"Unilever PLC_035922.txt\",\"Johnson Matthey_035962.txt\",\"Unilever PLC_035922.txt\",\"RELX PLC_035970.txt\",\"GVC Holdings PLC_0280YJ.txt\",\"Easyjet_028875.txt\",\"Unilever PLC_035922.txt\",\"Paddy Power Betfair PLC_029791.txt\",\"Halma_029131.txt\",\"BHP Group Ltd_035928.txt\",\"Rio Tinto PLC_035988.txt\",\"Easyjet_028875.txt\",\"Carnival PLC_028002.txt\",\"Royal Bank of Scotland PLC_035987.txt\",\"Unilever PLC_035922.txt\",\"Unilever PLC_035922.txt\",\"Tesco PLC_035966.txt\",\"Royal Bank of Scotland PLC_035987.txt\",\"Easyjet_028875.txt\",\"Schroders PLC_035969.txt\",\"Prudential PLC_035971.txt\",\"Scottish Mortgage Investment Trust plc_030137.txt\",\"Rolls Royce Holdings PLC_035902.txt\",\"Scottish - Southern Energy Plc_035985.txt\",\"Vodafone Group PLC_035943.txt\",\"Unilever PLC_035922.txt\",\"Next PLC_035951.txt\",\"Reckitt Benckiser Group_035906.txt\",\"Johnson Matthey_035962.txt\",\"Standard Chartered PLC_035959.txt\",\"Royal Dutch Shell A_036335.txt\",\"DCC PLC_028662.txt\",\"Segro PLC_030122.txt\",\"Unilever PLC_035922.txt\",\"Diageo PLC_035994.txt\",\"Halma_029131.txt\",\"CRH PLC_028592.txt\",\"Tesco PLC_035966.txt\",\"Standard Life Aberdeen Plc_036365.txt\",\"Vodafone Group PLC_035943.txt\",\"Associated British Foods PLC_035919.txt\",\"Standard Chartered PLC_035959.txt\",\"Legal - General Group PLC_035990.txt\",\"Diageo PLC_035994.txt\",\"Croda International_028589.txt\",\"Sainsbury PLC- J._035952.txt\",\"Diageo PLC_035994.txt\",\"Carnival PLC_028002.txt\",\"Burberry Group PLC_028372.txt\",\"Bunzl PLC_035961.txt\",\"Standard Life Aberdeen Plc_036365.txt\",\"Rentokil Initial_035944.txt\",\"Aviva PLC_035907.txt\",\"Internat. Cons. Airl. Group SA_035946.txt\",\"Sainsbury PLC- J._035952.txt\",\"Berkeley Group Holdings Plc_036347.txt\",\"Halma_029131.txt\",\"Imperial Brands Plc_035932.txt\",\"DCC PLC_028662.txt\",\"Rolls Royce Holdings PLC_035902.txt\",1,\"Royal Dutch Shell B_035968.txt\",\"Easyjet_028875.txt\",\"Internat. Cons. Airl. Group SA_035946.txt\",\"Paddy Power Betfair PLC_029791.txt\",\"Johnson Matthey_035962.txt\",\"Astrazeneca PLC_035998.txt\",\"Prudential PLC_035971.txt\",\"Unilever PLC_035922.txt\",\"Associated British Foods PLC_035919.txt\",\"Segro PLC_030122.txt\",\"Scottish Mortgage Investment Trust plc_030137.txt\",\"London Stock Exchange LSE_029478.txt\",\"Internat. Cons. Airl. Group SA_035946.txt\",\"Rentokil Initial_035944.txt\",\"Royal Bank of Scotland PLC_035987.txt\",\"Barratt Developments PLC_028259.txt\",\"Reckitt Benckiser Group_035906.txt\",\"Johnson Matthey_035962.txt\",\"Next PLC_035951.txt\",\"Segro PLC_030122.txt\",\"ITV_035984.txt\",\"Standard Chartered PLC_035959.txt\",\"Marks - Spencer Group PLC_035972.txt\",\"WPP PLC_035947.txt\",\"RSA Insurance Group PLC_035921.txt\",\"Halma_029131.txt\",\"Segro PLC_030122.txt\",\"London Stock Exchange LSE_029478.txt\",\"Royal Bank of Scotland PLC_035987.txt\",\"Royal Mail Group Plc_0280WH.txt\",\"Johnson Matthey_035962.txt\",\"DCC PLC_028662.txt\",\"Segro PLC_030122.txt\",\"National Grid PLC_035983.txt\",\"Bunzl PLC_035961.txt\",\"Barratt Developments PLC_028259.txt\",\"Paddy Power Betfair PLC_029791.txt\",\"Ashtead Group_028090.txt\",\"DCC PLC_028662.txt\",\"Croda International_028589.txt\",\"WPP PLC_035947.txt\",\"GVC Holdings PLC_0280YJ.txt\",\"Croda International_028589.txt\",\"Micro Focus International PLC_02803D.txt\",\"Easyjet_028875.txt\",\"Johnson Matthey_035962.txt\",\"Bunzl PLC_035961.txt\",\"Tesco PLC_035966.txt\",\"Easyjet_028875.txt\",\"Paddy Power Betfair PLC_029791.txt\",\"Land Securities Group PLC_035991.txt\",\"Vodafone Group PLC_035943.txt\",\"WPP PLC_035947.txt\",\"Reckitt Benckiser Group_035906.txt\",\"Standard Chartered PLC_035959.txt\",\"Unilever PLC_035922.txt\",\"Easyjet_028875.txt\",\"Compass Group PLC_035981.txt\",\"DCC PLC_028662.txt\",\"GVC Holdings PLC_0280YJ.txt\",\"Royal Mail Group Plc_0280WH.txt\",\"Legal - General Group PLC_035990.txt\",\"Associated British Foods PLC_035919.txt\",\"Next PLC_035951.txt\",\"RELX PLC_035970.txt\",\"ITV_035984.txt\",\"Internat. Cons. Airl. Group SA_035946.txt\",\"Associated British Foods PLC_035919.txt\",\"Aviva PLC_035907.txt\",\"Standard Life Aberdeen Plc_036365.txt\",\"Johnson Matthey_035962.txt\",\"Halma_029131.txt\",\"Associated British Foods PLC_035919.txt\",\"Standard Life Aberdeen Plc_036365.txt\",\"Standard Life Aberdeen Plc_036365.txt\",\"Ashtead Group_028090.txt\",\"3i Group PLC_035999.txt\",\"Admiral Group_036346.txt\",\"Reckitt Benckiser Group_035906.txt\",\"Halma_029131.txt\",\"Scottish - Southern Energy Plc_035985.txt\",\"RELX PLC_035970.txt\",\"Pearson PLC_035960.txt\",\"Next PLC_035951.txt\",\"Next PLC_035951.txt\",\"Easyjet_028875.txt\",\"Segro PLC_030122.txt\",\"Astrazeneca PLC_035998.txt\",\"Rentokil Initial_035944.txt\",\"Intertek Group_029309.txt\",\"CRH PLC_028592.txt\",\"TUI AG_02821N.txt\",\"London Stock Exchange LSE_029478.txt\",\"Royal Bank of Scotland PLC_035987.txt\",\"Prudential PLC_035971.txt\",\"Reckitt Benckiser Group_035906.txt\",\"Standard Chartered PLC_035959.txt\",\"Royal Mail Group Plc_0280WH.txt\",\"Segro PLC_030122.txt\",\"Astrazeneca PLC_035998.txt\",\"Bunzl PLC_035961.txt\",\"Reckitt Benckiser Group_035906.txt\",\"Land Securities Group PLC_035991.txt\",\"Next PLC_035951.txt\",\"Scottish - Southern Energy Plc_035985.txt\",\"Internat. Cons. Airl. Group SA_035946.txt\",\"GVC Holdings PLC_0280YJ.txt\",\"Johnson Matthey_035962.txt\",\"Royal Bank of Scotland PLC_035987.txt\",\"Aviva PLC_035907.txt\",\"Rentokil Initial_035944.txt\",\"Pearson PLC_035960.txt\",\"Morrison Supermarkets plc_035940.txt\",\"Halma_029131.txt\",\"Land Securities Group PLC_035991.txt\",\"Sainsbury PLC- J._035952.txt\",\"Easyjet_028875.txt\",\"Scottish - Southern Energy Plc_035985.txt\",\"Paddy Power Betfair PLC_029791.txt\",\"RSA Insurance Group PLC_035921.txt\",\"Rolls Royce Holdings PLC_035902.txt\",\"CRH PLC_028592.txt\",\"Scottish - Southern Energy Plc_035985.txt\",\"Ferguson Plc._035956.txt\",\"Standard Life Aberdeen Plc_036365.txt\",\"Unilever PLC_035922.txt\",\"Kingfisher PLC_035992.txt\",\"Associated British Foods PLC_035919.txt\",\"Intertek Group_029309.txt\",\"BP PLC_035908.txt\",\"Sainsbury PLC- J._035952.txt\",\"TUI AG_02821N.txt\",\"Johnson Matthey_035962.txt\",\"Royal Dutch Shell A_036335.txt\",\"Legal - General Group PLC_035990.txt\",\"Land Securities Group PLC_035991.txt\",\"Vodafone Group PLC_035943.txt\",\"Johnson Matthey_035962.txt\",\"Legal - General Group PLC_035990.txt\",\"Melrose Industries Plc._030553.txt\",\"Royal Bank of Scotland PLC_035987.txt\",\"Standard Life Aberdeen Plc_036365.txt\",\"Vodafone Group PLC_035943.txt\",\"Land Securities Group PLC_035991.txt\",\"DCC PLC_028662.txt\",\"Rentokil Initial_035944.txt\",\"Standard Life Aberdeen Plc_036365.txt\",\"Associated British Foods PLC_035919.txt\",\"GVC Holdings PLC_0280YJ.txt\",\"Scottish Mortgage Investment Trust plc_030137.txt\",\"Rolls Royce Holdings PLC_035902.txt\",\"Reckitt Benckiser Group_035906.txt\",\"Johnson Matthey_035962.txt\",\"Land Securities Group PLC_035991.txt\",\"Segro PLC_030122.txt\",\"Internat. Cons. Airl. Group SA_035946.txt\",\"GlaxoSmithKline PLC_035911.txt\",\"Just-Eat PLC_0281HA.txt\",\"Reckitt Benckiser Group_035906.txt\",\"Scottish - Southern Energy Plc_035985.txt\",\"Berkeley Group Holdings Plc_036347.txt\",\"Bunzl PLC_035961.txt\",\"Intertek Group_029309.txt\",\"British Land Co. PLC- The_035967.txt\",\"London Stock Exchange LSE_029478.txt\",\"Halma_029131.txt\",\"Rio Tinto PLC_035988.txt\",\"Prudential PLC_035971.txt\",\"Royal Bank of Scotland PLC_035987.txt\",\"Standard Life Aberdeen Plc_036365.txt\",\"GVC Holdings PLC_0280YJ.txt\",\"CRH PLC_028592.txt\",\"Legal - General Group PLC_035990.txt\",\"Schroders PLC_035969.txt\",\"RELX PLC_035970.txt\",\"Morrison Supermarkets plc_035940.txt\",\"Astrazeneca PLC_035998.txt\",\"Rio Tinto PLC_035988.txt\",\"Scottish - Southern Energy Plc_035985.txt\",\"BP PLC_035908.txt\",\"BP PLC_035908.txt\",\"Bunzl PLC_035961.txt\",\"Pearson PLC_035960.txt\",\"Smiths Group_035958.txt\",\"Reckitt Benckiser Group_035906.txt\",\"Vodafone Group PLC_035943.txt\",\"Segro PLC_030122.txt\",\"British American Tobacco PLC_035924.txt\",\"Berkeley Group Holdings Plc_036347.txt\",\"Royal Mail Group Plc_0280WH.txt\",\"Standard Chartered PLC_035959.txt\",\"Rentokil Initial_035944.txt\",\"Rentokil Initial_035944.txt\",\"DCC PLC_028662.txt\",\"Next PLC_035951.txt\",\"Reckitt Benckiser Group_035906.txt\",\"BT Group PLC_036000.txt\",\"Quilter Plc_0282I8.txt\",\"InterContinental Hotels Group_028005.txt\",\"Associated British Foods PLC_035919.txt\",\"Just-Eat PLC_0281HA.txt\",\"Barclays PLC_035976.txt\",\"Astrazeneca PLC_035998.txt\",\"Quilter Plc_0282I8.txt\",\"Prudential PLC_035971.txt\",\"Unilever PLC_035922.txt\",\"CRH PLC_028592.txt\",\"Lloyds Banking Group PLC_035948.txt\",\"Scottish Mortgage Investment Trust plc_030137.txt\",\"3i Group PLC_035999.txt\",\"Ashtead Group_028090.txt\",\"TUI AG_02821N.txt\",\"Ferguson Plc._035956.txt\",\"RELX PLC_035970.txt\",\"Paddy Power Betfair PLC_029791.txt\",\"Rolls Royce Holdings PLC_035902.txt\",\"Royal Dutch Shell A_036335.txt\",\"National Grid PLC_035983.txt\",\"BP PLC_035908.txt\",\"RSA Insurance Group PLC_035921.txt\",\"Johnson Matthey_035962.txt\",\"London Stock Exchange LSE_029478.txt\",\"BP PLC_035908.txt\",\"Pearson PLC_035960.txt\",\"Diageo PLC_035994.txt\",\"British American Tobacco PLC_035924.txt\",\"ITV_035984.txt\",\"St. Jamess Place PLC_030192.txt\",\"Rolls Royce Holdings PLC_035902.txt\",\"Scottish Mortgage Investment Trust plc_030137.txt\",\"Intertek Group_029309.txt\",\"WPP PLC_035947.txt\",\"Marks - Spencer Group PLC_035972.txt\",\"Johnson Matthey_035962.txt\",\"Smiths Group_035958.txt\",\"TUI AG_02821N.txt\",\"CRH PLC_028592.txt\",\"Johnson Matthey_035962.txt\",\"Segro PLC_030122.txt\",\"Ferguson Plc._035956.txt\",\"Rolls Royce Holdings PLC_035902.txt\",\"Schroders PLC_035969.txt\",\"Rentokil Initial_035944.txt\",\"Internat. Cons. Airl. Group SA_035946.txt\",\"Reckitt Benckiser Group_035906.txt\",\"Barratt Developments PLC_028259.txt\",\"Barratt Developments PLC_028259.txt\",\"Prudential PLC_035971.txt\",\"Intertek Group_029309.txt\",\"Associated British Foods PLC_035919.txt\",\"Unilever PLC_035922.txt\",\"Reckitt Benckiser Group_035906.txt\",\"Johnson Matthey_035962.txt\",\"Reckitt Benckiser Group_035906.txt\",\"Johnson Matthey_035962.txt\",\"Segro PLC_030122.txt\",\"3i Group PLC_035999.txt\",\"Reckitt Benckiser Group_035906.txt\",1,\"Coca-Cola HBC AG_0280F6.txt\",\"Aviva PLC_035907.txt\",\"DCC PLC_028662.txt\",\"Next PLC_035951.txt\",\"Next PLC_035951.txt\",\"Royal Dutch Shell A_036335.txt\",\"Easyjet_028875.txt\",\"Berkeley Group Holdings Plc_036347.txt\",1,\"Royal Mail Group Plc_0280WH.txt\",\"Quilter Plc_0282I8.txt\",\"Severn Trent PLC_035941.txt\",\"Standard Chartered PLC_035959.txt\",\"Royal Bank of Scotland PLC_035987.txt\",\"WPP PLC_035947.txt\",\"Easyjet_028875.txt\",\"Scottish - Southern Energy Plc_035985.txt\",\"Aviva PLC_035907.txt\",\"Segro PLC_030122.txt\",\"BT Group PLC_036000.txt\",\"Centrica PLC_035920.txt\",\"3i Group PLC_035999.txt\",\"Rio Tinto PLC_035988.txt\",\"Intertek Group_029309.txt\",\"DCC PLC_028662.txt\",\"Prudential PLC_035971.txt\",\"GlaxoSmithKline PLC_035911.txt\",\"Kingfisher PLC_035992.txt\",\"RELX PLC_035970.txt\",\"Segro PLC_030122.txt\",\"Scottish - Southern Energy Plc_035985.txt\",\"TUI AG_02821N.txt\",\"Smiths Group_035958.txt\",\"Internat. Cons. Airl. Group SA_035946.txt\",\"Internat. Cons. Airl. Group SA_035946.txt\",\"Paddy Power Betfair PLC_029791.txt\",\"Lloyds Banking Group PLC_035948.txt\",\"Sainsbury PLC- J._035952.txt\",\"Reckitt Benckiser Group_035906.txt\",\"Croda International_028589.txt\",\"RELX PLC_035970.txt\",\"Berkeley Group Holdings Plc_036347.txt\",\"Segro PLC_030122.txt\",\"Standard Life Aberdeen Plc_036365.txt\",\"Sainsbury PLC- J._035952.txt\",\"Scottish Mortgage Investment Trust plc_030137.txt\",\"British Land Co. PLC- The_035967.txt\",\"Associated British Foods PLC_035919.txt\",\"Burberry Group PLC_028372.txt\",\"Rolls Royce Holdings PLC_035902.txt\",\"Royal Bank of Scotland PLC_035987.txt\",\"Johnson Matthey_035962.txt\",\"Paddy Power Betfair PLC_029791.txt\",\"BP PLC_035908.txt\",\"CRH PLC_028592.txt\",\"Experian PLC_036355.txt\",\"CRH PLC_028592.txt\",\"Johnson Matthey_035962.txt\",\"Astrazeneca PLC_035998.txt\",\"Kingfisher PLC_035992.txt\",\"Sainsbury PLC- J._035952.txt\",\"Rolls Royce Holdings PLC_035902.txt\",1,\"GVC Holdings PLC_0280YJ.txt\",\"CRH PLC_028592.txt\",\"Legal - General Group PLC_035990.txt\",\"Internat. Cons. Airl. Group SA_035946.txt\",\"Quilter Plc_0282I8.txt\",\"Associated British Foods PLC_035919.txt\",\"Kingfisher PLC_035992.txt\",\"Severn Trent PLC_035941.txt\",\"Aviva PLC_035907.txt\",\"Pearson PLC_035960.txt\",\"Pearson PLC_035960.txt\",\"Legal - General Group PLC_035990.txt\",\"TUI AG_02821N.txt\",\"Reckitt Benckiser Group_035906.txt\",\"Aviva PLC_035907.txt\",\"Pearson PLC_035960.txt\",\"Reckitt Benckiser Group_035906.txt\",\"Croda International_028589.txt\",\"3i Group PLC_035999.txt\",\"Unilever PLC_035922.txt\",\"BT Group PLC_036000.txt\",\"Next PLC_035951.txt\",\"St. Jamess Place PLC_030192.txt\",\"Aviva PLC_035907.txt\",\"St. Jamess Place PLC_030192.txt\",\"Schroders PLC_035969.txt\",\"RELX PLC_035970.txt\",\"Standard Chartered PLC_035959.txt\",\"Carnival PLC_028002.txt\",\"Intertek Group_029309.txt\",\"St. Jamess Place PLC_030192.txt\",\"Vodafone Group PLC_035943.txt\",\"Compass Group PLC_035981.txt\",\"CRH PLC_028592.txt\",\"Pearson PLC_035960.txt\",\"Unilever PLC_035922.txt\",\"CRH PLC_028592.txt\",\"GlaxoSmithKline PLC_035911.txt\",\"London Stock Exchange LSE_029478.txt\",\"Johnson Matthey_035962.txt\",\"Antofagasta PLC_028149.txt\",\"Halma_029131.txt\",\"Centrica PLC_035920.txt\",\"RSA Insurance Group PLC_035921.txt\",\"Royal Mail Group Plc_0280WH.txt\",\"Ashtead Group_028090.txt\",\"Vodafone Group PLC_035943.txt\",\"3i Group PLC_035999.txt\",\"British American Tobacco PLC_035924.txt\",\"Marks - Spencer Group PLC_035972.txt\",\"Next PLC_035951.txt\",\"National Grid PLC_035983.txt\",\"Compass Group PLC_035981.txt\",\"Diageo PLC_035994.txt\",\"Intertek Group_029309.txt\",\"St. Jamess Place PLC_030192.txt\",\"St. Jamess Place PLC_030192.txt\",\"Astrazeneca PLC_035998.txt\",\"Royal Mail Group Plc_0280WH.txt\",\"British Land Co. PLC- The_035967.txt\",\"RELX PLC_035970.txt\",\"Rolls Royce Holdings PLC_035902.txt\",\"CRH PLC_028592.txt\",\"Rio Tinto PLC_035988.txt\",\"Standard Life Aberdeen Plc_036365.txt\",\"Marks - Spencer Group PLC_035972.txt\",\"Associated British Foods PLC_035919.txt\",\"London Stock Exchange LSE_029478.txt\",\"Smiths Group_035958.txt\",\"Paddy Power Betfair PLC_029791.txt\",\"InterContinental Hotels Group_028005.txt\",\"Intertek Group_029309.txt\",\"Land Securities Group PLC_035991.txt\",\"Royal Bank of Scotland PLC_035987.txt\",\"Pearson PLC_035960.txt\",\"London Stock Exchange LSE_029478.txt\",\"Berkeley Group Holdings Plc_036347.txt\",\"Internat. Cons. Airl. Group SA_035946.txt\",\"Reckitt Benckiser Group_035906.txt\",\"ITV_035984.txt\",\"Severn Trent PLC_035941.txt\",\"Standard Chartered PLC_035959.txt\",\"Rentokil Initial_035944.txt\",\"Next PLC_035951.txt\",\"Scottish - Southern Energy Plc_035985.txt\",\"National Grid PLC_035983.txt\",\"Standard Life Aberdeen Plc_036365.txt\",\"Land Securities Group PLC_035991.txt\",\"Internat. Cons. Airl. Group SA_035946.txt\",\"Scottish Mortgage Investment Trust plc_030137.txt\",\"RELX PLC_035970.txt\",\"Paddy Power Betfair PLC_029791.txt\",\"Standard Chartered PLC_035959.txt\",\"National Grid PLC_035983.txt\",\"Rio Tinto PLC_035988.txt\",\"Marks - Spencer Group PLC_035972.txt\",\"Berkeley Group Holdings Plc_036347.txt\",\"WPP PLC_035947.txt\",\"Associated British Foods PLC_035919.txt\",\"Bunzl PLC_035961.txt\",\"RELX PLC_035970.txt\",\"Rolls Royce Holdings PLC_035902.txt\",\"Smiths Group_035958.txt\",\"TUI AG_02821N.txt\",\"Unilever PLC_035922.txt\",\"London Stock Exchange LSE_029478.txt\",\"Land Securities Group PLC_035991.txt\",\"Internat. Cons. Airl. Group SA_035946.txt\",\"Smith - Nephew PLC_035910.txt\",\"United Utilities Group PLC_036341.txt\",\"Standard Life Aberdeen Plc_036365.txt\",\"Easyjet_028875.txt\",\"National Grid PLC_035983.txt\",\"Smith - Nephew PLC_035910.txt\",\"Astrazeneca PLC_035998.txt\",\"British American Tobacco PLC_035924.txt\",\"DCC PLC_028662.txt\",\"Bunzl PLC_035961.txt\",\"Paddy Power Betfair PLC_029791.txt\",\"Royal Mail Group Plc_0280WH.txt\",\"Paddy Power Betfair PLC_029791.txt\",\"RELX PLC_035970.txt\",\"Croda International_028589.txt\",\"Internat. Cons. Airl. Group SA_035946.txt\",\"Royal Bank of Scotland PLC_035987.txt\",\"GlaxoSmithKline PLC_035911.txt\",\"Prudential PLC_035971.txt\",\"Melrose Industries Plc._030553.txt\",\"RSA Insurance Group PLC_035921.txt\",\"Johnson Matthey_035962.txt\",\"Next PLC_035951.txt\",\"GlaxoSmithKline PLC_035911.txt\",\"Internat. Cons. Airl. Group SA_035946.txt\",\"National Grid PLC_035983.txt\",\"Berkeley Group Holdings Plc_036347.txt\",\"Johnson Matthey_035962.txt\",\"Unilever PLC_035922.txt\",\"Standard Life Aberdeen Plc_036365.txt\",\"Next PLC_035951.txt\",\"Internat. Cons. Airl. Group SA_035946.txt\",\"Johnson Matthey_035962.txt\",\"Paddy Power Betfair PLC_029791.txt\",\"RSA Insurance Group PLC_035921.txt\",\"ITV_035984.txt\",\"Reckitt Benckiser Group_035906.txt\",\"Royal Mail Group Plc_0280WH.txt\",\"Legal - General Group PLC_035990.txt\",\"National Grid PLC_035983.txt\",\"London Stock Exchange LSE_029478.txt\",\"British Land Co. PLC- The_035967.txt\",\"Scottish Mortgage Investment Trust plc_030137.txt\",\"Quilter Plc_0282I8.txt\",\"Internat. Cons. Airl. Group SA_035946.txt\",\"London Stock Exchange LSE_029478.txt\",\"Experian PLC_036355.txt\",\"Standard Life Aberdeen Plc_036365.txt\",\"Prudential PLC_035971.txt\",\"Standard Life Aberdeen Plc_036365.txt\",\"BP PLC_035908.txt\",\"Sainsbury PLC- J._035952.txt\",\"Vodafone Group PLC_035943.txt\",\"St. Jamess Place PLC_030192.txt\",\"British Land Co. PLC- The_035967.txt\",\"Astrazeneca PLC_035998.txt\",\"Intertek Group_029309.txt\",\"Standard Chartered PLC_035959.txt\",\"Johnson Matthey_035962.txt\",\"Barclays PLC_035976.txt\",\"United Utilities Group PLC_036341.txt\",\"Scottish - Southern Energy Plc_035985.txt\",\"Royal Mail Group Plc_0280WH.txt\",\"Intertek Group_029309.txt\",\"Rolls Royce Holdings PLC_035902.txt\",\"National Grid PLC_035983.txt\",\"Associated British Foods PLC_035919.txt\",\"Burberry Group PLC_028372.txt\",\"Next PLC_035951.txt\",\"Reckitt Benckiser Group_035906.txt\",\"Associated British Foods PLC_035919.txt\",\"Croda International_028589.txt\",\"RELX PLC_035970.txt\",\"Johnson Matthey_035962.txt\",\"Vodafone Group PLC_035943.txt\",\"British Land Co. PLC- The_035967.txt\",\"Kingfisher PLC_035992.txt\",\"3i Group PLC_035999.txt\",\"Legal - General Group PLC_035990.txt\",\"Prudential PLC_035971.txt\",\"Reckitt Benckiser Group_035906.txt\",\"Royal Bank of Scotland PLC_035987.txt\",\"Standard Life Aberdeen Plc_036365.txt\",\"TUI AG_02821N.txt\",\"Morrison Supermarkets plc_035940.txt\",\"Next PLC_035951.txt\",\"Vodafone Group PLC_035943.txt\",1,\"Scottish - Southern Energy Plc_035985.txt\",\"British Land Co. PLC- The_035967.txt\",\"CRH PLC_028592.txt\",\"BT Group PLC_036000.txt\",\"Scottish - Southern Energy Plc_035985.txt\",\"Paddy Power Betfair PLC_029791.txt\",\"RELX PLC_035970.txt\",\"Internat. Cons. Airl. Group SA_035946.txt\",\"British American Tobacco PLC_035924.txt\",\"RSA Insurance Group PLC_035921.txt\",\"Astrazeneca PLC_035998.txt\",\"Marks - Spencer Group PLC_035972.txt\",\"Kingfisher PLC_035992.txt\",\"WPP PLC_035947.txt\",\"Scottish Mortgage Investment Trust plc_030137.txt\",\"TUI AG_02821N.txt\",\"Standard Life Aberdeen Plc_036365.txt\",\"Smiths Group_035958.txt\",\"DCC PLC_028662.txt\",\"CRH PLC_028592.txt\",\"Pearson PLC_035960.txt\",\"Scottish - Southern Energy Plc_035985.txt\",\"Reckitt Benckiser Group_035906.txt\",1,\"Astrazeneca PLC_035998.txt\",\"Segro PLC_030122.txt\",\"Next PLC_035951.txt\",\"Severn Trent PLC_035941.txt\",\"Intertek Group_029309.txt\",\"Scottish Mortgage Investment Trust plc_030137.txt\",1,\"Rentokil Initial_035944.txt\",\"Schroders PLC_035969.txt\",\"BT Group PLC_036000.txt\",\"Reckitt Benckiser Group_035906.txt\",\"Berkeley Group Holdings Plc_036347.txt\",\"Intertek Group_029309.txt\",\"GlaxoSmithKline PLC_035911.txt\",\"Paddy Power Betfair PLC_029791.txt\",\"Berkeley Group Holdings Plc_036347.txt\",\"Easyjet_028875.txt\",\"Internat. Cons. Airl. Group SA_035946.txt\",\"D S Smith PLC_030126.txt\",\"Johnson Matthey_035962.txt\",\"Segro PLC_030122.txt\",\"Standard Chartered PLC_035959.txt\",\"Standard Chartered PLC_035959.txt\",\"Berkeley Group Holdings Plc_036347.txt\",\"Internat. Cons. Airl. Group SA_035946.txt\",\"Melrose Industries Plc._030553.txt\",\"Standard Life Aberdeen Plc_036365.txt\",\"CRH PLC_028592.txt\",\"Royal Dutch Shell A_036335.txt\",\"National Grid PLC_035983.txt\",\"ITV_035984.txt\",\"Prudential PLC_035971.txt\",\"Experian PLC_036355.txt\",\"Royal Mail Group Plc_0280WH.txt\",\"CRH PLC_028592.txt\",\"Intertek Group_029309.txt\",\"Quilter Plc_0282I8.txt\",\"Melrose Industries Plc._030553.txt\",\"ITV_035984.txt\",\"National Grid PLC_035983.txt\",\"Schroders PLC_035969.txt\",\"Scottish - Southern Energy Plc_035985.txt\",\"Johnson Matthey_035962.txt\",\"Marks - Spencer Group PLC_035972.txt\",\"Paddy Power Betfair PLC_029791.txt\",\"Smiths Group_035958.txt\",\"Compass Group PLC_035981.txt\",\"Next PLC_035951.txt\",\"Sainsbury PLC- J._035952.txt\",\"Experian PLC_036355.txt\",\"GVC Holdings PLC_0280YJ.txt\",\"Bunzl PLC_035961.txt\",\"Berkeley Group Holdings Plc_036347.txt\",\"RSA Insurance Group PLC_035921.txt\",\"Johnson Matthey_035962.txt\",\"WPP PLC_035947.txt\",\"Smith - Nephew PLC_035910.txt\",\"Segro PLC_030122.txt\",\"Legal - General Group PLC_035990.txt\",\"Carnival PLC_028002.txt\",\"Kingfisher PLC_035992.txt\",\"Land Securities Group PLC_035991.txt\",\"CRH PLC_028592.txt\",\"Reckitt Benckiser Group_035906.txt\",\"DCC PLC_028662.txt\",\"Land Securities Group PLC_035991.txt\",\"Rio Tinto PLC_035988.txt\",\"British American Tobacco PLC_035924.txt\",\"CRH PLC_028592.txt\",\"Associated British Foods PLC_035919.txt\",\"Rentokil Initial_035944.txt\",\"Intertek Group_029309.txt\",\"InterContinental Hotels Group_028005.txt\",\"Paddy Power Betfair PLC_029791.txt\",\"Scottish - Southern Energy Plc_035985.txt\",\"Diageo PLC_035994.txt\",\"Standard Life Aberdeen Plc_036365.txt\",1,\"Astrazeneca PLC_035998.txt\",\"Prudential PLC_035971.txt\",\"Next PLC_035951.txt\",\"Johnson Matthey_035962.txt\",\"Imperial Brands Plc_035932.txt\",\"Unilever PLC_035922.txt\",\"Rentokil Initial_035944.txt\",\"Experian PLC_036355.txt\",\"Internat. Cons. Airl. Group SA_035946.txt\",\"DCC PLC_028662.txt\",\"BP PLC_035908.txt\",\"InterContinental Hotels Group_028005.txt\",\"Reckitt Benckiser Group_035906.txt\",\"Just-Eat PLC_0281HA.txt\",\"Standard Chartered PLC_035959.txt\",\"Rolls Royce Holdings PLC_035902.txt\",\"Associated British Foods PLC_035919.txt\",\"Easyjet_028875.txt\",\"Associated British Foods PLC_035919.txt\",\"Berkeley Group Holdings Plc_036347.txt\",\"Royal Dutch Shell A_036335.txt\",\"Next PLC_035951.txt\",\"Marks - Spencer Group PLC_035972.txt\",\"Melrose Industries Plc._030553.txt\",\"Just-Eat PLC_0281HA.txt\",\"Pearson PLC_035960.txt\",\"Carnival PLC_028002.txt\",\"Croda International_028589.txt\",\"Sainsbury PLC- J._035952.txt\",\"Rentokil Initial_035944.txt\",\"Astrazeneca PLC_035998.txt\",\"Rolls Royce Holdings PLC_035902.txt\",\"Land Securities Group PLC_035991.txt\",\"Rolls Royce Holdings PLC_035902.txt\",\"ITV_035984.txt\",\"Micro Focus International PLC_02803D.txt\",\"Standard Life Aberdeen Plc_036365.txt\",\"Smiths Group_035958.txt\",\"Royal Dutch Shell A_036335.txt\",\"Just-Eat PLC_0281HA.txt\",\"Royal Dutch Shell A_036335.txt\",\"Experian PLC_036355.txt\",\"Scottish - Southern Energy Plc_035985.txt\",\"Johnson Matthey_035962.txt\",\"Quilter Plc_0282I8.txt\",\"Scottish Mortgage Investment Trust plc_030137.txt\",\"Scottish - Southern Energy Plc_035985.txt\",\"Astrazeneca PLC_035998.txt\",\"Centrica PLC_035920.txt\",\"Royal Mail Group Plc_0280WH.txt\",\"BT Group PLC_036000.txt\",\"Experian PLC_036355.txt\",\"Next PLC_035951.txt\",\"Lloyds Banking Group PLC_035948.txt\",\"United Utilities Group PLC_036341.txt\",\"Legal - General Group PLC_035990.txt\",\"ITV_035984.txt\",\"Pearson PLC_035960.txt\",\"Paddy Power Betfair PLC_029791.txt\",\"Quilter Plc_0282I8.txt\",\"Smiths Group_035958.txt\",\"Aviva PLC_035907.txt\",\"Intertek Group_029309.txt\",\"Antofagasta PLC_028149.txt\",\"British Land Co. PLC- The_035967.txt\",\"Centrica PLC_035920.txt\",\"Marks - Spencer Group PLC_035972.txt\",\"Legal - General Group PLC_035990.txt\",\"Carnival PLC_028002.txt\",\"Unilever PLC_035922.txt\",\"Halma_029131.txt\",\"GlaxoSmithKline PLC_035911.txt\",\"Internat. Cons. Airl. Group SA_035946.txt\",\"St. Jamess Place PLC_030192.txt\",\"Smiths Group_035958.txt\",\"Scottish - Southern Energy Plc_035985.txt\",\"Coca-Cola HBC AG_0280F6.txt\",\"Coca-Cola HBC AG_0280F6.txt\",\"RSA Insurance Group PLC_035921.txt\",\"Land Securities Group PLC_035991.txt\",\"Internat. Cons. Airl. Group SA_035946.txt\",\"RELX PLC_035970.txt\",\"Smith - Nephew PLC_035910.txt\",\"GlaxoSmithKline PLC_035911.txt\",\"Rentokil Initial_035944.txt\",\"Pearson PLC_035960.txt\",\"Kingfisher PLC_035992.txt\",\"Paddy Power Betfair PLC_029791.txt\",\"United Utilities Group PLC_036341.txt\",\"TUI AG_02821N.txt\",\"British American Tobacco PLC_035924.txt\",\"Astrazeneca PLC_035998.txt\",\"Berkeley Group Holdings Plc_036347.txt\",\"Associated British Foods PLC_035919.txt\",\"Astrazeneca PLC_035998.txt\",\"Standard Life Aberdeen Plc_036365.txt\",\"Associated British Foods PLC_035919.txt\",\"Astrazeneca PLC_035998.txt\",\"Johnson Matthey_035962.txt\",\"Standard Chartered PLC_035959.txt\",\"Smith - Nephew PLC_035910.txt\",\"Paddy Power Betfair PLC_029791.txt\",\"CRH PLC_028592.txt\",\"Internat. Cons. Airl. Group SA_035946.txt\",\"Smiths Group_035958.txt\",\"Marks - Spencer Group PLC_035972.txt\",\"Kingfisher PLC_035992.txt\",\"Diageo PLC_035994.txt\",\"ITV_035984.txt\",\"RELX PLC_035970.txt\",\"Coca-Cola HBC AG_0280F6.txt\",\"Standard Life Aberdeen Plc_036365.txt\",\"3i Group PLC_035999.txt\",\"Croda International_028589.txt\",\"Paddy Power Betfair PLC_029791.txt\",\"Schroders PLC_035969.txt\",\"Astrazeneca PLC_035998.txt\",\"RSA Insurance Group PLC_035921.txt\",\"Barclays PLC_035976.txt\",\"Scottish - Southern Energy Plc_035985.txt\",\"Royal Bank of Scotland PLC_035987.txt\",\"TUI AG_02821N.txt\",\"Scottish Mortgage Investment Trust plc_030137.txt\",\"Barratt Developments PLC_028259.txt\",\"Standard Life Aberdeen Plc_036365.txt\",\"Rio Tinto PLC_035988.txt\",\"Rentokil Initial_035944.txt\",\"Reckitt Benckiser Group_035906.txt\",\"St. Jamess Place PLC_030192.txt\",\"Land Securities Group PLC_035991.txt\",\"Diageo PLC_035994.txt\",\"Ferguson Plc._035956.txt\",\"Next PLC_035951.txt\",\"St. Jamess Place PLC_030192.txt\",\"Reckitt Benckiser Group_035906.txt\",\"WPP PLC_035947.txt\",\"BT Group PLC_036000.txt\",\"Royal Dutch Shell A_036335.txt\",\"Unilever PLC_035922.txt\",\"Standard Life Aberdeen Plc_036365.txt\",\"Smiths Group_035958.txt\",\"Standard Life Aberdeen Plc_036365.txt\",\"British Land Co. PLC- The_035967.txt\",\"Legal - General Group PLC_035990.txt\",\"Scottish Mortgage Investment Trust plc_030137.txt\",\"DCC PLC_028662.txt\",\"RELX PLC_035970.txt\",\"National Grid PLC_035983.txt\",\"Diageo PLC_035994.txt\",\"Smiths Group_035958.txt\",\"Internat. Cons. Airl. Group SA_035946.txt\",\"Internat. Cons. Airl. Group SA_035946.txt\",\"Smiths Group_035958.txt\",\"Micro Focus International PLC_02803D.txt\",\"Berkeley Group Holdings Plc_036347.txt\",\"Just-Eat PLC_0281HA.txt\",\"Next PLC_035951.txt\",\"Rentokil Initial_035944.txt\",\"Scottish - Southern Energy Plc_035985.txt\",\"ITV_035984.txt\",\"Reckitt Benckiser Group_035906.txt\",\"London Stock Exchange LSE_029478.txt\",\"Legal - General Group PLC_035990.txt\",\"3i Group PLC_035999.txt\",\"TUI AG_02821N.txt\",\"British Land Co. PLC- The_035967.txt\",\"CRH PLC_028592.txt\",\"Internat. Cons. Airl. Group SA_035946.txt\",\"Land Securities Group PLC_035991.txt\",\"Unilever PLC_035922.txt\",\"Aviva PLC_035907.txt\",\"Smiths Group_035958.txt\",\"Scottish Mortgage Investment Trust plc_030137.txt\",\"Carnival PLC_028002.txt\",\"Reckitt Benckiser Group_035906.txt\",\"CRH PLC_028592.txt\",\"Pearson PLC_035960.txt\",\"Royal Mail Group Plc_0280WH.txt\",\"Compass Group PLC_035981.txt\",\"Rio Tinto PLC_035988.txt\",\"ITV_035984.txt\",\"Centrica PLC_035920.txt\",\"United Utilities Group PLC_036341.txt\",\"Easyjet_028875.txt\",\"GlaxoSmithKline PLC_035911.txt\",\"Internat. Cons. Airl. Group SA_035946.txt\",\"Just-Eat PLC_0281HA.txt\",\"Next PLC_035951.txt\",\"BP PLC_035908.txt\",\"GlaxoSmithKline PLC_035911.txt\",\"Associated British Foods PLC_035919.txt\",\"Rolls Royce Holdings PLC_035902.txt\",\"CRH PLC_028592.txt\",\"Barratt Developments PLC_028259.txt\",\"WPP PLC_035947.txt\",\"Melrose Industries Plc._030553.txt\",\"Aviva PLC_035907.txt\",\"Experian PLC_036355.txt\",\"Standard Life Aberdeen Plc_036365.txt\",\"CRH PLC_028592.txt\",\"Coca-Cola HBC AG_0280F6.txt\",\"Astrazeneca PLC_035998.txt\",\"Standard Life Aberdeen Plc_036365.txt\",\"Persimmon PLC_029896.txt\",\"Paddy Power Betfair PLC_029791.txt\",\"Land Securities Group PLC_035991.txt\",\"RSA Insurance Group PLC_035921.txt\",\"Internat. Cons. Airl. Group SA_035946.txt\",\"Compass Group PLC_035981.txt\",\"Melrose Industries Plc._030553.txt\",\"Melrose Industries Plc._030553.txt\",\"Johnson Matthey_035962.txt\",\"Internat. Cons. Airl. Group SA_035946.txt\",\"St. Jamess Place PLC_030192.txt\",\"Paddy Power Betfair PLC_029791.txt\",\"Legal - General Group PLC_035990.txt\",\"Rio Tinto PLC_035988.txt\",\"Royal Dutch Shell B_035968.txt\",\"Paddy Power Betfair PLC_029791.txt\",\"British Land Co. PLC- The_035967.txt\",\"St. Jamess Place PLC_030192.txt\",\"DCC PLC_028662.txt\",\"InterContinental Hotels Group_028005.txt\",\"Vodafone Group PLC_035943.txt\",\"Barclays PLC_035976.txt\",\"Royal Dutch Shell B_035968.txt\",\"Standard Life Aberdeen Plc_036365.txt\",\"Land Securities Group PLC_035991.txt\",\"Smiths Group_035958.txt\",\"Internat. Cons. Airl. Group SA_035946.txt\",\"Legal - General Group PLC_035990.txt\",\"Vodafone Group PLC_035943.txt\",\"Berkeley Group Holdings Plc_036347.txt\",\"Quilter Plc_0282I8.txt\",\"British Land Co. PLC- The_035967.txt\",\"Aviva PLC_035907.txt\",\"Astrazeneca PLC_035998.txt\",\"Berkeley Group Holdings Plc_036347.txt\",\"Micro Focus International PLC_02803D.txt\",\"Royal Bank of Scotland PLC_035987.txt\",\"Berkeley Group Holdings Plc_036347.txt\",\"Rio Tinto PLC_035988.txt\",\"Intertek Group_029309.txt\",\"Compass Group PLC_035981.txt\",\"Next PLC_035951.txt\",\"Internat. Cons. Airl. Group SA_035946.txt\",\"Quilter Plc_0282I8.txt\",\"Lloyds Banking Group PLC_035948.txt\",\"Royal Bank of Scotland PLC_035987.txt\",\"Scottish - Southern Energy Plc_035985.txt\",\"InterContinental Hotels Group_028005.txt\",\"Easyjet_028875.txt\",\"National Grid PLC_035983.txt\",\"Legal - General Group PLC_035990.txt\",\"Smiths Group_035958.txt\",\"Smiths Group_035958.txt\",\"Halma_029131.txt\",\"Melrose Industries Plc._030553.txt\",\"Segro PLC_030122.txt\",\"British American Tobacco PLC_035924.txt\",\"Land Securities Group PLC_035991.txt\",\"Royal Dutch Shell A_036335.txt\",\"Smith - Nephew PLC_035910.txt\",\"Standard Life Aberdeen Plc_036365.txt\",\"Astrazeneca PLC_035998.txt\",\"Associated British Foods PLC_035919.txt\",\"Paddy Power Betfair PLC_029791.txt\",\"Internat. Cons. Airl. Group SA_035946.txt\",\"Experian PLC_036355.txt\",\"Compass Group PLC_035981.txt\",\"Rolls Royce Holdings PLC_035902.txt\",\"Internat. Cons. Airl. Group SA_035946.txt\",\"Royal Dutch Shell B_035968.txt\",\"British Land Co. PLC- The_035967.txt\",\"Standard Life Aberdeen Plc_036365.txt\",\"Vodafone Group PLC_035943.txt\",\"Centrica PLC_035920.txt\",\"Centrica PLC_035920.txt\",\"InterContinental Hotels Group_028005.txt\",\"TUI AG_02821N.txt\",\"TUI AG_02821N.txt\",\"Paddy Power Betfair PLC_029791.txt\",\"Internat. Cons. Airl. Group SA_035946.txt\",\"National Grid PLC_035983.txt\",\"Internat. Cons. Airl. Group SA_035946.txt\",\"BT Group PLC_036000.txt\",\"Astrazeneca PLC_035998.txt\",\"British Land Co. PLC- The_035967.txt\",\"Marks - Spencer Group PLC_035972.txt\",\"Scottish Mortgage Investment Trust plc_030137.txt\",\"Barclays PLC_035976.txt\",\"Lloyds Banking Group PLC_035948.txt\",\"DCC PLC_028662.txt\",\"BT Group PLC_036000.txt\",\"Berkeley Group Holdings Plc_036347.txt\",\"Croda International_028589.txt\",\"Easyjet_028875.txt\",\"Carnival PLC_028002.txt\",\"Vodafone Group PLC_035943.txt\",\"Astrazeneca PLC_035998.txt\",\"Intertek Group_029309.txt\",\"Standard Life Aberdeen Plc_036365.txt\",\"Melrose Industries Plc._030553.txt\",\"Land Securities Group PLC_035991.txt\",\"Marks - Spencer Group PLC_035972.txt\",\"Paddy Power Betfair PLC_029791.txt\",\"Berkeley Group Holdings Plc_036347.txt\",\"Morrison Supermarkets plc_035940.txt\",\"Legal - General Group PLC_035990.txt\",\"CRH PLC_028592.txt\",\"Melrose Industries Plc._030553.txt\",\"Scottish Mortgage Investment Trust plc_030137.txt\",\"Compass Group PLC_035981.txt\",\"Just-Eat PLC_0281HA.txt\",\"Centrica PLC_035920.txt\",\"Severn Trent PLC_035941.txt\",\"Astrazeneca PLC_035998.txt\",\"Standard Life Aberdeen Plc_036365.txt\",\"Vodafone Group PLC_035943.txt\",\"Carnival PLC_028002.txt\",\"Standard Life Aberdeen Plc_036365.txt\",\"Astrazeneca PLC_035998.txt\",\"Scottish Mortgage Investment Trust plc_030137.txt\",\"Standard Life Aberdeen Plc_036365.txt\",\"Carnival PLC_028002.txt\",\"National Grid PLC_035983.txt\",\"CRH PLC_028592.txt\",\"British Land Co. PLC- The_035967.txt\",\"Astrazeneca PLC_035998.txt\",\"Royal Dutch Shell A_036335.txt\",\"Pearson PLC_035960.txt\",\"Paddy Power Betfair PLC_029791.txt\",\"Paddy Power Betfair PLC_029791.txt\",\"Johnson Matthey_035962.txt\",\"GVC Holdings PLC_0280YJ.txt\",\"Berkeley Group Holdings Plc_036347.txt\",\"Astrazeneca PLC_035998.txt\",\"Paddy Power Betfair PLC_029791.txt\",\"D S Smith PLC_030126.txt\",\"St. Jamess Place PLC_030192.txt\",\"Smith - Nephew PLC_035910.txt\",\"CRH PLC_028592.txt\",\"British American Tobacco PLC_035924.txt\",\"Morrison Supermarkets plc_035940.txt\",\"Land Securities Group PLC_035991.txt\",\"British American Tobacco PLC_035924.txt\",\"Centrica PLC_035920.txt\",\"D S Smith PLC_030126.txt\",\"St. Jamess Place PLC_030192.txt\",\"Royal Dutch Shell A_036335.txt\",\"Barclays PLC_035976.txt\",\"CRH PLC_028592.txt\",\"British Land Co. PLC- The_035967.txt\",\"Internat. Cons. Airl. Group SA_035946.txt\",\"Royal Dutch Shell A_036335.txt\",\"London Stock Exchange LSE_029478.txt\",\"Quilter Plc_0282I8.txt\",\"British Land Co. PLC- The_035967.txt\",\"Prudential PLC_035971.txt\",\"Paddy Power Betfair PLC_029791.txt\",\"WPP PLC_035947.txt\",\"Prudential PLC_035971.txt\",\"National Grid PLC_035983.txt\",\"Experian PLC_036355.txt\",\"Sainsbury PLC- J._035952.txt\",\"Micro Focus International PLC_02803D.txt\",\"Melrose Industries Plc._030553.txt\",\"Smith - Nephew PLC_035910.txt\",\"Prudential PLC_035971.txt\",\"Easyjet_028875.txt\",1,\"Experian PLC_036355.txt\",\"WPP PLC_035947.txt\",\"Antofagasta PLC_028149.txt\",\"National Grid PLC_035983.txt\",\"United Utilities Group PLC_036341.txt\",\"BT Group PLC_036000.txt\",\"Morrison Supermarkets plc_035940.txt\",\"Segro PLC_030122.txt\",\"Marks - Spencer Group PLC_035972.txt\",\"GlaxoSmithKline PLC_035911.txt\",\"Astrazeneca PLC_035998.txt\",\"Intertek Group_029309.txt\",\"Standard Life Aberdeen Plc_036365.txt\",\"Berkeley Group Holdings Plc_036347.txt\",\"St. Jamess Place PLC_030192.txt\",\"Admiral Group_036346.txt\",\"Land Securities Group PLC_035991.txt\",\"Standard Life Aberdeen Plc_036365.txt\",\"Quilter Plc_0282I8.txt\",\"Melrose Industries Plc._030553.txt\",\"Intertek Group_029309.txt\",\"ITV_035984.txt\",\"Lloyds Banking Group PLC_035948.txt\",\"ITV_035984.txt\",\"British Land Co. PLC- The_035967.txt\",\"Royal Bank of Scotland PLC_035987.txt\",\"Micro Focus International PLC_02803D.txt\",\"Schroders PLC_035969.txt\",\"TUI AG_02821N.txt\",\"Scottish - Southern Energy Plc_035985.txt\",\"Land Securities Group PLC_035991.txt\",\"Land Securities Group PLC_035991.txt\",\"Persimmon PLC_029896.txt\",\"Imperial Brands Plc_035932.txt\",\"GlaxoSmithKline PLC_035911.txt\",\"Aviva PLC_035907.txt\",\"Diageo PLC_035994.txt\",\"Quilter Plc_0282I8.txt\",\"Smiths Group_035958.txt\",\"Scottish - Southern Energy Plc_035985.txt\",\"BT Group PLC_036000.txt\",\"Smith - Nephew PLC_035910.txt\",\"Next PLC_035951.txt\",\"CRH PLC_028592.txt\",\"Royal Dutch Shell A_036335.txt\",\"Micro Focus International PLC_02803D.txt\",\"Experian PLC_036355.txt\",\"Unilever PLC_035922.txt\",\"Smiths Group_035958.txt\",\"British Land Co. PLC- The_035967.txt\",\"Barratt Developments PLC_028259.txt\",\"Internat. Cons. Airl. Group SA_035946.txt\",\"Paddy Power Betfair PLC_029791.txt\",\"Micro Focus International PLC_02803D.txt\",\"Morrison Supermarkets plc_035940.txt\",\"Land Securities Group PLC_035991.txt\",\"British Land Co. PLC- The_035967.txt\",\"Johnson Matthey_035962.txt\",\"Diageo PLC_035994.txt\",\"Associated British Foods PLC_035919.txt\",\"Next PLC_035951.txt\",\"St. Jamess Place PLC_030192.txt\",\"Johnson Matthey_035962.txt\",\"Segro PLC_030122.txt\",\"Scottish - Southern Energy Plc_035985.txt\",\"Vodafone Group PLC_035943.txt\",\"Aviva PLC_035907.txt\",\"Intertek Group_029309.txt\",\"Prudential PLC_035971.txt\",\"National Grid PLC_035983.txt\",\"RELX PLC_035970.txt\",\"Marks - Spencer Group PLC_035972.txt\",\"Johnson Matthey_035962.txt\",\"Scottish - Southern Energy Plc_035985.txt\",\"CRH PLC_028592.txt\",\"Severn Trent PLC_035941.txt\",\"Ashtead Group_028090.txt\",\"Morrison Supermarkets plc_035940.txt\",\"Standard Life Aberdeen Plc_036365.txt\",\"National Grid PLC_035983.txt\",\"Quilter Plc_0282I8.txt\",\"Smiths Group_035958.txt\",\"Scottish Mortgage Investment Trust plc_030137.txt\",\"Royal Dutch Shell A_036335.txt\",\"British Land Co. PLC- The_035967.txt\",\"Melrose Industries Plc._030553.txt\",\"Melrose Industries Plc._030553.txt\",\"Royal Dutch Shell A_036335.txt\",\"Segro PLC_030122.txt\",\"Aviva PLC_035907.txt\",\"Croda International_028589.txt\",\"RELX PLC_035970.txt\",\"Berkeley Group Holdings Plc_036347.txt\",\"CRH PLC_028592.txt\",\"Smiths Group_035958.txt\",\"Antofagasta PLC_028149.txt\",\"Persimmon PLC_029896.txt\",\"Internat. Cons. Airl. Group SA_035946.txt\",\"Paddy Power Betfair PLC_029791.txt\",\"Admiral Group_036346.txt\",\"RSA Insurance Group PLC_035921.txt\",\"Vodafone Group PLC_035943.txt\",\"Segro PLC_030122.txt\",\"Marks - Spencer Group PLC_035972.txt\",\"Experian PLC_036355.txt\",\"Legal - General Group PLC_035990.txt\",\"Severn Trent PLC_035941.txt\",\"Morrison Supermarkets plc_035940.txt\",\"Diageo PLC_035994.txt\",\"Scottish - Southern Energy Plc_035985.txt\",\"National Grid PLC_035983.txt\",\"Smith - Nephew PLC_035910.txt\",\"Segro PLC_030122.txt\",\"Lloyds Banking Group PLC_035948.txt\",\"British Land Co. PLC- The_035967.txt\",\"Rolls Royce Holdings PLC_035902.txt\",\"Astrazeneca PLC_035998.txt\",\"Intertek Group_029309.txt\",\"Rolls Royce Holdings PLC_035902.txt\",\"Rolls Royce Holdings PLC_035902.txt\",\"Vodafone Group PLC_035943.txt\",\"Antofagasta PLC_028149.txt\",\"Pearson PLC_035960.txt\",\"Scottish - Southern Energy Plc_035985.txt\",\"St. Jamess Place PLC_030192.txt\",\"Johnson Matthey_035962.txt\",\"Standard Life Aberdeen Plc_036365.txt\",\"British American Tobacco PLC_035924.txt\",\"Berkeley Group Holdings Plc_036347.txt\",\"WPP PLC_035947.txt\",\"Intertek Group_029309.txt\",\"Next PLC_035951.txt\",\"Coca-Cola HBC AG_0280F6.txt\",\"National Grid PLC_035983.txt\",\"Prudential PLC_035971.txt\",\"Internat. Cons. Airl. Group SA_035946.txt\",\"Segro PLC_030122.txt\",\"Barclays PLC_035976.txt\",\"National Grid PLC_035983.txt\",\"United Utilities Group PLC_036341.txt\",\"Johnson Matthey_035962.txt\",\"Legal - General Group PLC_035990.txt\",\"BT Group PLC_036000.txt\",\"BT Group PLC_036000.txt\",\"Marks - Spencer Group PLC_035972.txt\",\"Marks - Spencer Group PLC_035972.txt\",\"GlaxoSmithKline PLC_035911.txt\",\"Reckitt Benckiser Group_035906.txt\",\"Royal Dutch Shell B_035968.txt\",\"Rolls Royce Holdings PLC_035902.txt\",\"Vodafone Group PLC_035943.txt\",\"British American Tobacco PLC_035924.txt\",\"Paddy Power Betfair PLC_029791.txt\",\"Scottish Mortgage Investment Trust plc_030137.txt\",\"Lloyds Banking Group PLC_035948.txt\",\"Legal - General Group PLC_035990.txt\",\"United Utilities Group PLC_036341.txt\",\"Marks - Spencer Group PLC_035972.txt\",\"Marks - Spencer Group PLC_035972.txt\",\"CRH PLC_028592.txt\",\"Astrazeneca PLC_035998.txt\",\"Paddy Power Betfair PLC_029791.txt\",\"Reckitt Benckiser Group_035906.txt\",\"Smiths Group_035958.txt\",1,\"Intertek Group_029309.txt\",\"Next PLC_035951.txt\",\"Scottish - Southern Energy Plc_035985.txt\",\"Experian PLC_036355.txt\",\"TUI AG_02821N.txt\",\"CRH PLC_028592.txt\",\"Centrica PLC_035920.txt\",\"Aviva PLC_035907.txt\",\"British American Tobacco PLC_035924.txt\",\"Just-Eat PLC_0281HA.txt\",\"Legal - General Group PLC_035990.txt\",\"Scottish - Southern Energy Plc_035985.txt\",\"Persimmon PLC_029896.txt\",\"Imperial Brands Plc_035932.txt\",\"Associated British Foods PLC_035919.txt\",\"St. Jamess Place PLC_030192.txt\",\"Marks - Spencer Group PLC_035972.txt\",\"Internat. Cons. Airl. Group SA_035946.txt\",\"Smiths Group_035958.txt\",\"Land Securities Group PLC_035991.txt\",\"Astrazeneca PLC_035998.txt\",\"Compass Group PLC_035981.txt\",\"RSA Insurance Group PLC_035921.txt\",\"Vodafone Group PLC_035943.txt\",\"GlaxoSmithKline PLC_035911.txt\",\"Internat. Cons. Airl. Group SA_035946.txt\",\"Standard Life Aberdeen Plc_036365.txt\",\"Johnson Matthey_035962.txt\",\"RELX PLC_035970.txt\",\"Smiths Group_035958.txt\",\"Internat. Cons. Airl. Group SA_035946.txt\",\"Scottish - Southern Energy Plc_035985.txt\",\"Next PLC_035951.txt\",\"Internat. Cons. Airl. Group SA_035946.txt\",\"Aviva PLC_035907.txt\",\"Experian PLC_036355.txt\",\"Rio Tinto PLC_035988.txt\",\"British Land Co. PLC- The_035967.txt\",\"Scottish Mortgage Investment Trust plc_030137.txt\",\"Vodafone Group PLC_035943.txt\",\"Standard Life Aberdeen Plc_036365.txt\",\"Internat. Cons. Airl. Group SA_035946.txt\",\"Astrazeneca PLC_035998.txt\",\"Paddy Power Betfair PLC_029791.txt\",\"Scottish - Southern Energy Plc_035985.txt\",\"Scottish Mortgage Investment Trust plc_030137.txt\",\"St. Jamess Place PLC_030192.txt\",\"Berkeley Group Holdings Plc_036347.txt\",\"Rolls Royce Holdings PLC_035902.txt\",\"Antofagasta PLC_028149.txt\",\"Royal Bank of Scotland PLC_035987.txt\",\"BT Group PLC_036000.txt\",\"Scottish Mortgage Investment Trust plc_030137.txt\",\"Scottish - Southern Energy Plc_035985.txt\",\"Diageo PLC_035994.txt\",1,\"Scottish Mortgage Investment Trust plc_030137.txt\",\"Smiths Group_035958.txt\",\"London Stock Exchange LSE_029478.txt\",\"Paddy Power Betfair PLC_029791.txt\",\"National Grid PLC_035983.txt\",\"Lloyds Banking Group PLC_035948.txt\",\"Royal Dutch Shell A_036335.txt\",\"GVC Holdings PLC_0280YJ.txt\",\"Johnson Matthey_035962.txt\",\"Admiral Group_036346.txt\",\"Johnson Matthey_035962.txt\",\"Standard Life Aberdeen Plc_036365.txt\",\"British Land Co. PLC- The_035967.txt\",\"Barclays PLC_035976.txt\",\"Internat. Cons. Airl. Group SA_035946.txt\",\"Halma_029131.txt\",\"D S Smith PLC_030126.txt\",\"Diageo PLC_035994.txt\",\"Internat. Cons. Airl. Group SA_035946.txt\",1,\"Reckitt Benckiser Group_035906.txt\",\"CRH PLC_028592.txt\",\"Schroders PLC_035969.txt\",\"Carnival PLC_028002.txt\",\"TUI AG_02821N.txt\",\"Royal Dutch Shell B_035968.txt\",\"National Grid PLC_035983.txt\",\"Admiral Group_036346.txt\",\"ITV_035984.txt\",\"British Land Co. PLC- The_035967.txt\",\"Just-Eat PLC_0281HA.txt\",\"Coca-Cola HBC AG_0280F6.txt\",\"Paddy Power Betfair PLC_029791.txt\",\"Land Securities Group PLC_035991.txt\",\"British Land Co. PLC- The_035967.txt\",\"Vodafone Group PLC_035943.txt\",\"Experian PLC_036355.txt\",\"Scottish - Southern Energy Plc_035985.txt\",\"Centrica PLC_035920.txt\",\"Barclays PLC_035976.txt\",\"Paddy Power Betfair PLC_029791.txt\",\"Rolls Royce Holdings PLC_035902.txt\",\"Morrison Supermarkets plc_035940.txt\",\"Internat. Cons. Airl. Group SA_035946.txt\",\"Pearson PLC_035960.txt\",\"Rolls Royce Holdings PLC_035902.txt\",\"Land Securities Group PLC_035991.txt\",\"BT Group PLC_036000.txt\",\"National Grid PLC_035983.txt\",\"Johnson Matthey_035962.txt\",\"Prudential PLC_035971.txt\",\"Experian PLC_036355.txt\",\"Barclays PLC_035976.txt\",\"Johnson Matthey_035962.txt\",\"Land Securities Group PLC_035991.txt\",\"Intertek Group_029309.txt\",\"Intertek Group_029309.txt\",\"Marks - Spencer Group PLC_035972.txt\",\"Intertek Group_029309.txt\",\"Internat. Cons. Airl. Group SA_035946.txt\",\"Prudential PLC_035971.txt\",\"Intertek Group_029309.txt\",\"Scottish - Southern Energy Plc_035985.txt\",\"Experian PLC_036355.txt\",\"Internat. Cons. Airl. Group SA_035946.txt\",\"Internat. Cons. Airl. Group SA_035946.txt\",\"Severn Trent PLC_035941.txt\",\"Segro PLC_030122.txt\",\"Admiral Group_036346.txt\",\"Berkeley Group Holdings Plc_036347.txt\",\"Royal Bank of Scotland PLC_035987.txt\",\"Land Securities Group PLC_035991.txt\",\"Persimmon PLC_029896.txt\",\"Internat. Cons. Airl. Group SA_035946.txt\",\"Legal - General Group PLC_035990.txt\",\"Standard Life Aberdeen Plc_036365.txt\",\"Astrazeneca PLC_035998.txt\",\"Reckitt Benckiser Group_035906.txt\",\"Carnival PLC_028002.txt\",\"Reckitt Benckiser Group_035906.txt\",\"Land Securities Group PLC_035991.txt\",\"Berkeley Group Holdings Plc_036347.txt\",\"Paddy Power Betfair PLC_029791.txt\",\"Vodafone Group PLC_035943.txt\",\"Smith - Nephew PLC_035910.txt\",\"Aviva PLC_035907.txt\",\"Admiral Group_036346.txt\",\"Intertek Group_029309.txt\",\"Next PLC_035951.txt\",\"Unilever PLC_035922.txt\",\"British Land Co. PLC- The_035967.txt\",\"Reckitt Benckiser Group_035906.txt\",\"Scottish - Southern Energy Plc_035985.txt\",\"D S Smith PLC_030126.txt\",\"St. Jamess Place PLC_030192.txt\",\"Rolls Royce Holdings PLC_035902.txt\",\"Johnson Matthey_035962.txt\",\"Legal - General Group PLC_035990.txt\",\"Croda International_028589.txt\",\"ITV_035984.txt\",\"GlaxoSmithKline PLC_035911.txt\",\"Coca-Cola HBC AG_0280F6.txt\",\"Prudential PLC_035971.txt\",\"Melrose Industries Plc._030553.txt\",\"Admiral Group_036346.txt\",\"British American Tobacco PLC_035924.txt\",\"Standard Life Aberdeen Plc_036365.txt\",\"BT Group PLC_036000.txt\",\"BT Group PLC_036000.txt\",\"Imperial Brands Plc_035932.txt\",\"Barclays PLC_035976.txt\",\"TUI AG_02821N.txt\",\"Lloyds Banking Group PLC_035948.txt\",\"Aviva PLC_035907.txt\",\"Next PLC_035951.txt\",\"Reckitt Benckiser Group_035906.txt\",\"Vodafone Group PLC_035943.txt\",\"Melrose Industries Plc._030553.txt\",\"Royal Dutch Shell A_036335.txt\",\"Diageo PLC_035994.txt\",\"Legal - General Group PLC_035990.txt\",\"3i Group PLC_035999.txt\",\"Quilter Plc_0282I8.txt\",\"London Stock Exchange LSE_029478.txt\",\"Astrazeneca PLC_035998.txt\",\"CRH PLC_028592.txt\",\"Johnson Matthey_035962.txt\",\"Internat. Cons. Airl. Group SA_035946.txt\",\"National Grid PLC_035983.txt\",\"Paddy Power Betfair PLC_029791.txt\",\"RELX PLC_035970.txt\",\"Compass Group PLC_035981.txt\",\"Berkeley Group Holdings Plc_036347.txt\",\"Scottish Mortgage Investment Trust plc_030137.txt\",\"Pearson PLC_035960.txt\",\"St. Jamess Place PLC_030192.txt\",\"Imperial Brands Plc_035932.txt\",\"Internat. Cons. Airl. Group SA_035946.txt\",\"Rolls Royce Holdings PLC_035902.txt\",\"Melrose Industries Plc._030553.txt\",\"Smith - Nephew PLC_035910.txt\",\"Intertek Group_029309.txt\",\"Persimmon PLC_029896.txt\",\"British American Tobacco PLC_035924.txt\",\"TUI AG_02821N.txt\",\"Diageo PLC_035994.txt\",\"Quilter Plc_0282I8.txt\",\"Diageo PLC_035994.txt\",\"National Grid PLC_035983.txt\",\"Land Securities Group PLC_035991.txt\",\"Paddy Power Betfair PLC_029791.txt\",\"GVC Holdings PLC_0280YJ.txt\",\"Standard Life Aberdeen Plc_036365.txt\",\"Compass Group PLC_035981.txt\",\"CRH PLC_028592.txt\",\"Paddy Power Betfair PLC_029791.txt\",\"TUI AG_02821N.txt\",\"Johnson Matthey_035962.txt\",\"Centrica PLC_035920.txt\",\"Internat. Cons. Airl. Group SA_035946.txt\",\"Internat. Cons. Airl. Group SA_035946.txt\",\"National Grid PLC_035983.txt\",\"Reckitt Benckiser Group_035906.txt\",\"Barclays PLC_035976.txt\",\"Antofagasta PLC_028149.txt\",\"Admiral Group_036346.txt\",\"Marks - Spencer Group PLC_035972.txt\",\"Land Securities Group PLC_035991.txt\",\"Johnson Matthey_035962.txt\",\"Land Securities Group PLC_035991.txt\",\"Paddy Power Betfair PLC_029791.txt\",\"Smith - Nephew PLC_035910.txt\",\"Lloyds Banking Group PLC_035948.txt\",\"Marks - Spencer Group PLC_035972.txt\",\"Centrica PLC_035920.txt\",\"Smith - Nephew PLC_035910.txt\",\"Vodafone Group PLC_035943.txt\",\"RELX PLC_035970.txt\",\"RSA Insurance Group PLC_035921.txt\",\"Royal Dutch Shell B_035968.txt\",\"Royal Dutch Shell A_036335.txt\",\"Severn Trent PLC_035941.txt\",\"Reckitt Benckiser Group_035906.txt\",\"Antofagasta PLC_028149.txt\",\"Barclays PLC_035976.txt\",\"Royal Dutch Shell B_035968.txt\",\"National Grid PLC_035983.txt\",\"Astrazeneca PLC_035998.txt\",\"Admiral Group_036346.txt\",\"Next PLC_035951.txt\",\"Compass Group PLC_035981.txt\",\"Persimmon PLC_029896.txt\",\"Aviva PLC_035907.txt\",\"Standard Life Aberdeen Plc_036365.txt\",\"Standard Life Aberdeen Plc_036365.txt\",\"Segro PLC_030122.txt\",\"Prudential PLC_035971.txt\",\"Scottish Mortgage Investment Trust plc_030137.txt\",\"Experian PLC_036355.txt\",\"Paddy Power Betfair PLC_029791.txt\",\"Johnson Matthey_035962.txt\",\"Smiths Group_035958.txt\",\"Kingfisher PLC_035992.txt\",\"3i Group PLC_035999.txt\",\"RELX PLC_035970.txt\",\"Imperial Brands Plc_035932.txt\",\"Centrica PLC_035920.txt\",\"Standard Life Aberdeen Plc_036365.txt\",\"Scottish - Southern Energy Plc_035985.txt\",\"Legal - General Group PLC_035990.txt\",\"United Utilities Group PLC_036341.txt\",\"Scottish Mortgage Investment Trust plc_030137.txt\",\"Legal - General Group PLC_035990.txt\",\"GVC Holdings PLC_0280YJ.txt\",\"Standard Life Aberdeen Plc_036365.txt\",\"CRH PLC_028592.txt\",\"Diageo PLC_035994.txt\",\"RELX PLC_035970.txt\",\"Marks - Spencer Group PLC_035972.txt\",\"Morrison Supermarkets plc_035940.txt\",\"Internat. Cons. Airl. Group SA_035946.txt\",\"Vodafone Group PLC_035943.txt\",\"Johnson Matthey_035962.txt\",\"United Utilities Group PLC_036341.txt\",\"Smiths Group_035958.txt\",\"Associated British Foods PLC_035919.txt\",\"Paddy Power Betfair PLC_029791.txt\",\"BT Group PLC_036000.txt\",\"Internat. Cons. Airl. Group SA_035946.txt\",\"Scottish Mortgage Investment Trust plc_030137.txt\",\"Internat. Cons. Airl. Group SA_035946.txt\",\"Smith - Nephew PLC_035910.txt\",\"Vodafone Group PLC_035943.txt\",\"Marks - Spencer Group PLC_035972.txt\",\"Lloyds Banking Group PLC_035948.txt\",\"Johnson Matthey_035962.txt\",\"Scottish - Southern Energy Plc_035985.txt\",\"Rolls Royce Holdings PLC_035902.txt\",\"Centrica PLC_035920.txt\",\"Marks - Spencer Group PLC_035972.txt\",\"Coca-Cola HBC AG_0280F6.txt\",\"Barclays PLC_035976.txt\",\"TUI AG_02821N.txt\",\"BT Group PLC_036000.txt\",\"Paddy Power Betfair PLC_029791.txt\",\"Imperial Brands Plc_035932.txt\",\"InterContinental Hotels Group_028005.txt\",1,\"Intertek Group_029309.txt\",\"Rolls Royce Holdings PLC_035902.txt\",\"Segro PLC_030122.txt\",\"Rolls Royce Holdings PLC_035902.txt\",1,\"United Utilities Group PLC_036341.txt\",\"Compass Group PLC_035981.txt\",\"Compass Group PLC_035981.txt\",\"Royal Mail Group Plc_0280WH.txt\",\"Quilter Plc_0282I8.txt\",\"Reckitt Benckiser Group_035906.txt\",\"Quilter Plc_0282I8.txt\",\"Reckitt Benckiser Group_035906.txt\",\"Sainsbury PLC- J._035952.txt\",\"Coca-Cola HBC AG_0280F6.txt\",\"National Grid PLC_035983.txt\",\"Paddy Power Betfair PLC_029791.txt\",\"Antofagasta PLC_028149.txt\",\"Segro PLC_030122.txt\",\"Internat. Cons. Airl. Group SA_035946.txt\",\"D S Smith PLC_030126.txt\",\"ITV_035984.txt\",\"Carnival PLC_028002.txt\",\"RSA Insurance Group PLC_035921.txt\",\"GVC Holdings PLC_0280YJ.txt\",\"Royal Dutch Shell A_036335.txt\",\"Scottish Mortgage Investment Trust plc_030137.txt\",\"Astrazeneca PLC_035998.txt\",\"Intertek Group_029309.txt\",\"Micro Focus International PLC_02803D.txt\",\"Vodafone Group PLC_035943.txt\",\"Croda International_028589.txt\",\"Standard Life Aberdeen Plc_036365.txt\",\"Internat. Cons. Airl. Group SA_035946.txt\",\"Legal - General Group PLC_035990.txt\",\"Standard Life Aberdeen Plc_036365.txt\",\"RELX PLC_035970.txt\",\"Carnival PLC_028002.txt\",\"Land Securities Group PLC_035991.txt\",\"Vodafone Group PLC_035943.txt\",\"Marks - Spencer Group PLC_035972.txt\",\"Smiths Group_035958.txt\",\"Johnson Matthey_035962.txt\",\"Standard Life Aberdeen Plc_036365.txt\",\"Scottish Mortgage Investment Trust plc_030137.txt\",\"Land Securities Group PLC_035991.txt\",\"Coca-Cola HBC AG_0280F6.txt\",\"Antofagasta PLC_028149.txt\",\"Coca-Cola HBC AG_0280F6.txt\",\"Internat. Cons. Airl. Group SA_035946.txt\",\"Standard Life Aberdeen Plc_036365.txt\",\"National Grid PLC_035983.txt\",\"Associated British Foods PLC_035919.txt\",\"Diageo PLC_035994.txt\",\"Experian PLC_036355.txt\",\"Intertek Group_029309.txt\",1,\"St. Jamess Place PLC_030192.txt\",\"Royal Dutch Shell A_036335.txt\",\"Centrica PLC_035920.txt\",\"Scottish - Southern Energy Plc_035985.txt\",\"RELX PLC_035970.txt\",\"CRH PLC_028592.txt\",\"Prudential PLC_035971.txt\",\"Admiral Group_036346.txt\",\"United Utilities Group PLC_036341.txt\",\"Rolls Royce Holdings PLC_035902.txt\",\"Croda International_028589.txt\",\"Internat. Cons. Airl. Group SA_035946.txt\",\"3i Group PLC_035999.txt\",\"Melrose Industries Plc._030553.txt\",\"British Land Co. PLC- The_035967.txt\",\"Vodafone Group PLC_035943.txt\",\"Segro PLC_030122.txt\",\"Admiral Group_036346.txt\",\"Antofagasta PLC_028149.txt\",\"TUI AG_02821N.txt\",\"Centrica PLC_035920.txt\",\"Severn Trent PLC_035941.txt\",1,\"Prudential PLC_035971.txt\",\"Land Securities Group PLC_035991.txt\",\"Experian PLC_036355.txt\",\"British Land Co. PLC- The_035967.txt\",\"GlaxoSmithKline PLC_035911.txt\",\"Royal Dutch Shell A_036335.txt\",\"Royal Dutch Shell A_036335.txt\",\"BT Group PLC_036000.txt\",\"D S Smith PLC_030126.txt\",\"Imperial Brands Plc_035932.txt\",\"Intertek Group_029309.txt\",\"Intertek Group_029309.txt\",\"Morrison Supermarkets plc_035940.txt\",\"British Land Co. PLC- The_035967.txt\",\"Astrazeneca PLC_035998.txt\",\"Quilter Plc_0282I8.txt\",\"Scottish - Southern Energy Plc_035985.txt\",\"Internat. Cons. Airl. Group SA_035946.txt\",\"Persimmon PLC_029896.txt\",\"Severn Trent PLC_035941.txt\",\"Aviva PLC_035907.txt\",\"Internat. Cons. Airl. Group SA_035946.txt\",\"Intertek Group_029309.txt\",\"Rolls Royce Holdings PLC_035902.txt\",\"Smiths Group_035958.txt\",\"Vodafone Group PLC_035943.txt\",\"TUI AG_02821N.txt\",\"London Stock Exchange LSE_029478.txt\",\"Imperial Brands Plc_035932.txt\",\"Vodafone Group PLC_035943.txt\",\"Johnson Matthey_035962.txt\",\"Standard Life Aberdeen Plc_036365.txt\",\"Rio Tinto PLC_035988.txt\",\"Standard Life Aberdeen Plc_036365.txt\",\"Morrison Supermarkets plc_035940.txt\",\"Morrison Supermarkets plc_035940.txt\",\"Aviva PLC_035907.txt\",\"Coca-Cola HBC AG_0280F6.txt\",\"National Grid PLC_035983.txt\",\"3i Group PLC_035999.txt\",\"WPP PLC_035947.txt\",\"Smiths Group_035958.txt\",\"Berkeley Group Holdings Plc_036347.txt\",\"Imperial Brands Plc_035932.txt\",\"Scottish - Southern Energy Plc_035985.txt\",\"Land Securities Group PLC_035991.txt\",\"D S Smith PLC_030126.txt\",\"Intertek Group_029309.txt\",\"Diageo PLC_035994.txt\",\"Sainsbury PLC- J._035952.txt\",\"Rolls Royce Holdings PLC_035902.txt\",\"Paddy Power Betfair PLC_029791.txt\",\"Segro PLC_030122.txt\",\"Internat. Cons. Airl. Group SA_035946.txt\",\"Persimmon PLC_029896.txt\",\"Scottish Mortgage Investment Trust plc_030137.txt\",\"Rio Tinto PLC_035988.txt\",\"Internat. Cons. Airl. Group SA_035946.txt\",\"InterContinental Hotels Group_028005.txt\",\"D S Smith PLC_030126.txt\",\"Quilter Plc_0282I8.txt\",\"Johnson Matthey_035962.txt\",\"D S Smith PLC_030126.txt\",\"Legal - General Group PLC_035990.txt\",\"Rolls Royce Holdings PLC_035902.txt\",\"Quilter Plc_0282I8.txt\",1,\"Scottish - Southern Energy Plc_035985.txt\",\"GlaxoSmithKline PLC_035911.txt\",\"Severn Trent PLC_035941.txt\",\"British Land Co. PLC- The_035967.txt\",\"Melrose Industries Plc._030553.txt\",\"Royal Dutch Shell A_036335.txt\",\"Standard Life Aberdeen Plc_036365.txt\",\"WPP PLC_035947.txt\",\"British American Tobacco PLC_035924.txt\",\"Royal Bank of Scotland PLC_035987.txt\",\"United Utilities Group PLC_036341.txt\",\"CRH PLC_028592.txt\",\"British Land Co. PLC- The_035967.txt\",\"British Land Co. PLC- The_035967.txt\",\"Vodafone Group PLC_035943.txt\",\"British Land Co. PLC- The_035967.txt\",\"Rio Tinto PLC_035988.txt\",\"Land Securities Group PLC_035991.txt\",\"Standard Life Aberdeen Plc_036365.txt\",\"St. Jamess Place PLC_030192.txt\",\"Berkeley Group Holdings Plc_036347.txt\",\"Internat. Cons. Airl. Group SA_035946.txt\",\"Rolls Royce Holdings PLC_035902.txt\",\"Carnival PLC_028002.txt\",\"Scottish - Southern Energy Plc_035985.txt\",\"GVC Holdings PLC_0280YJ.txt\",\"Carnival PLC_028002.txt\",\"Rolls Royce Holdings PLC_035902.txt\",\"Prudential PLC_035971.txt\",\"British American Tobacco PLC_035924.txt\",\"Next PLC_035951.txt\",\"Barclays PLC_035976.txt\",\"Severn Trent PLC_035941.txt\",\"Marks - Spencer Group PLC_035972.txt\",\"Burberry Group PLC_028372.txt\",\"Land Securities Group PLC_035991.txt\",\"Scottish - Southern Energy Plc_035985.txt\",\"Carnival PLC_028002.txt\",\"Quilter Plc_0282I8.txt\",\"Centrica PLC_035920.txt\",\"GlaxoSmithKline PLC_035911.txt\",\"Legal - General Group PLC_035990.txt\",\"Paddy Power Betfair PLC_029791.txt\",\"Rolls Royce Holdings PLC_035902.txt\",\"Morrison Supermarkets plc_035940.txt\",\"3i Group PLC_035999.txt\",\"Compass Group PLC_035981.txt\",\"Antofagasta PLC_028149.txt\",\"Astrazeneca PLC_035998.txt\",\"Paddy Power Betfair PLC_029791.txt\",\"Micro Focus International PLC_02803D.txt\",\"Johnson Matthey_035962.txt\",\"Imperial Brands Plc_035932.txt\",\"Scottish Mortgage Investment Trust plc_030137.txt\",\"3i Group PLC_035999.txt\",\"RSA Insurance Group PLC_035921.txt\",\"D S Smith PLC_030126.txt\",\"Intertek Group_029309.txt\",\"Quilter Plc_0282I8.txt\",\"Morrison Supermarkets plc_035940.txt\",\"Internat. Cons. Airl. Group SA_035946.txt\",\"Lloyds Banking Group PLC_035948.txt\",\"GlaxoSmithKline PLC_035911.txt\",\"Antofagasta PLC_028149.txt\",\"Royal Dutch Shell B_035968.txt\",\"Rolls Royce Holdings PLC_035902.txt\",\"Experian PLC_036355.txt\",\"Land Securities Group PLC_035991.txt\",\"National Grid PLC_035983.txt\",\"Intertek Group_029309.txt\",\"BT Group PLC_036000.txt\",\"Experian PLC_036355.txt\",\"Diageo PLC_035994.txt\",\"InterContinental Hotels Group_028005.txt\",\"GlaxoSmithKline PLC_035911.txt\",\"Land Securities Group PLC_035991.txt\",\"Compass Group PLC_035981.txt\",\"GVC Holdings PLC_0280YJ.txt\",\"Internat. Cons. Airl. Group SA_035946.txt\",\"Standard Life Aberdeen Plc_036365.txt\",\"Lloyds Banking Group PLC_035948.txt\",\"British Land Co. PLC- The_035967.txt\",\"Persimmon PLC_029896.txt\",\"Coca-Cola HBC AG_0280F6.txt\",\"Astrazeneca PLC_035998.txt\",\"Morrison Supermarkets plc_035940.txt\",\"TUI AG_02821N.txt\",\"Diageo PLC_035994.txt\",\"Just-Eat PLC_0281HA.txt\",\"Intertek Group_029309.txt\",\"United Utilities Group PLC_036341.txt\",\"TUI AG_02821N.txt\",\"Scottish Mortgage Investment Trust plc_030137.txt\",\"Persimmon PLC_029896.txt\",\"Centrica PLC_035920.txt\",\"United Utilities Group PLC_036341.txt\",\"RSA Insurance Group PLC_035921.txt\",\"Severn Trent PLC_035941.txt\",\"Scottish Mortgage Investment Trust plc_030137.txt\",\"Internat. Cons. Airl. Group SA_035946.txt\",\"Severn Trent PLC_035941.txt\",\"Marks - Spencer Group PLC_035972.txt\",\"Royal Dutch Shell B_035968.txt\",\"BT Group PLC_036000.txt\",\"Marks - Spencer Group PLC_035972.txt\",\"GlaxoSmithKline PLC_035911.txt\",\"RSA Insurance Group PLC_035921.txt\",\"British Land Co. PLC- The_035967.txt\",\"Antofagasta PLC_028149.txt\",\"Compass Group PLC_035981.txt\",\"Intertek Group_029309.txt\",\"Intertek Group_029309.txt\",\"Croda International_028589.txt\",\"ITV_035984.txt\",\"Land Securities Group PLC_035991.txt\",\"Land Securities Group PLC_035991.txt\",\"Prudential PLC_035971.txt\",\"Legal - General Group PLC_035990.txt\",\"TUI AG_02821N.txt\",\"British American Tobacco PLC_035924.txt\",\"Scottish - Southern Energy Plc_035985.txt\",\"TUI AG_02821N.txt\",\"Marks - Spencer Group PLC_035972.txt\",\"RELX PLC_035970.txt\",\"British Land Co. PLC- The_035967.txt\",\"Rolls Royce Holdings PLC_035902.txt\",\"Admiral Group_036346.txt\",\"Compass Group PLC_035981.txt\",\"Land Securities Group PLC_035991.txt\",\"Internat. Cons. Airl. Group SA_035946.txt\",\"Antofagasta PLC_028149.txt\",\"London Stock Exchange LSE_029478.txt\",\"GlaxoSmithKline PLC_035911.txt\",\"Standard Life Aberdeen Plc_036365.txt\",\"BT Group PLC_036000.txt\",\"Carnival PLC_028002.txt\",\"Intertek Group_029309.txt\",\"Melrose Industries Plc._030553.txt\",\"Segro PLC_030122.txt\",\"Scottish - Southern Energy Plc_035985.txt\",\"Melrose Industries Plc._030553.txt\",\"Standard Life Aberdeen Plc_036365.txt\",\"Scottish - Southern Energy Plc_035985.txt\",\"D S Smith PLC_030126.txt\",\"3i Group PLC_035999.txt\",\"Experian PLC_036355.txt\",\"Astrazeneca PLC_035998.txt\",\"British American Tobacco PLC_035924.txt\",\"Quilter Plc_0282I8.txt\",\"Antofagasta PLC_028149.txt\",\"Diageo PLC_035994.txt\",\"Micro Focus International PLC_02803D.txt\",\"Imperial Brands Plc_035932.txt\",\"Astrazeneca PLC_035998.txt\",\"Severn Trent PLC_035941.txt\",\"Lloyds Banking Group PLC_035948.txt\",\"Severn Trent PLC_035941.txt\",\"Johnson Matthey_035962.txt\",\"Smiths Group_035958.txt\",\"Coca-Cola HBC AG_0280F6.txt\",\"Carnival PLC_028002.txt\",\"Barclays PLC_035976.txt\",\"Scottish Mortgage Investment Trust plc_030137.txt\",\"Legal - General Group PLC_035990.txt\",\"Micro Focus International PLC_02803D.txt\",\"Segro PLC_030122.txt\",\"Scottish - Southern Energy Plc_035985.txt\",\"Smiths Group_035958.txt\",\"Intertek Group_029309.txt\",\"Carnival PLC_028002.txt\",\"British Land Co. PLC- The_035967.txt\",\"Centrica PLC_035920.txt\",\"Compass Group PLC_035981.txt\",\"Paddy Power Betfair PLC_029791.txt\",\"Internat. Cons. Airl. Group SA_035946.txt\",\"Land Securities Group PLC_035991.txt\",\"Antofagasta PLC_028149.txt\",\"Smiths Group_035958.txt\",\"Segro PLC_030122.txt\",\"CRH PLC_028592.txt\",\"Compass Group PLC_035981.txt\",\"Paddy Power Betfair PLC_029791.txt\",\"Coca-Cola HBC AG_0280F6.txt\",\"Lloyds Banking Group PLC_035948.txt\",\"Royal Dutch Shell B_035968.txt\",\"Micro Focus International PLC_02803D.txt\",\"Paddy Power Betfair PLC_029791.txt\",\"GlaxoSmithKline PLC_035911.txt\",1,\"National Grid PLC_035983.txt\",\"Rio Tinto PLC_035988.txt\",\"British American Tobacco PLC_035924.txt\",\"Melrose Industries Plc._030553.txt\",\"D S Smith PLC_030126.txt\",\"Segro PLC_030122.txt\",\"Aviva PLC_035907.txt\",\"Paddy Power Betfair PLC_029791.txt\",\"Scottish - Southern Energy Plc_035985.txt\",\"Rio Tinto PLC_035988.txt\",\"Berkeley Group Holdings Plc_036347.txt\",\"London Stock Exchange LSE_029478.txt\",\"Experian PLC_036355.txt\",\"Vodafone Group PLC_035943.txt\",\"Segro PLC_030122.txt\",\"British Land Co. PLC- The_035967.txt\",\"Persimmon PLC_029896.txt\",\"Rolls Royce Holdings PLC_035902.txt\",\"Internat. Cons. Airl. Group SA_035946.txt\",\"TUI AG_02821N.txt\",\"Reckitt Benckiser Group_035906.txt\",\"Smiths Group_035958.txt\",\"Internat. Cons. Airl. Group SA_035946.txt\",\"Quilter Plc_0282I8.txt\",\"Vodafone Group PLC_035943.txt\",\"Antofagasta PLC_028149.txt\",\"Micro Focus International PLC_02803D.txt\",\"BT Group PLC_036000.txt\",\"Smiths Group_035958.txt\",\"Imperial Brands Plc_035932.txt\",\"British Land Co. PLC- The_035967.txt\",\"Severn Trent PLC_035941.txt\",\"TUI AG_02821N.txt\",\"Johnson Matthey_035962.txt\",\"Melrose Industries Plc._030553.txt\",\"Imperial Brands Plc_035932.txt\",\"GlaxoSmithKline PLC_035911.txt\",\"Croda International_028589.txt\",\"Barclays PLC_035976.txt\",\"Rolls Royce Holdings PLC_035902.txt\",\"Rolls Royce Holdings PLC_035902.txt\",\"British American Tobacco PLC_035924.txt\",\"BT Group PLC_036000.txt\",\"Standard Life Aberdeen Plc_036365.txt\",\"Internat. Cons. Airl. Group SA_035946.txt\",\"Persimmon PLC_029896.txt\",\"WPP PLC_035947.txt\",\"Standard Life Aberdeen Plc_036365.txt\",\"CRH PLC_028592.txt\",\"National Grid PLC_035983.txt\",\"Land Securities Group PLC_035991.txt\",\"Berkeley Group Holdings Plc_036347.txt\",\"British Land Co. PLC- The_035967.txt\",\"Quilter Plc_0282I8.txt\",\"Smiths Group_035958.txt\",\"D S Smith PLC_030126.txt\",\"Legal - General Group PLC_035990.txt\",\"Coca-Cola HBC AG_0280F6.txt\",\"Land Securities Group PLC_035991.txt\",\"British Land Co. PLC- The_035967.txt\",\"Vodafone Group PLC_035943.txt\",\"Land Securities Group PLC_035991.txt\",\"United Utilities Group PLC_036341.txt\",\"Marks - Spencer Group PLC_035972.txt\",\"Legal - General Group PLC_035990.txt\",\"Admiral Group_036346.txt\",\"Admiral Group_036346.txt\",\"Compass Group PLC_035981.txt\",\"British Land Co. PLC- The_035967.txt\",\"Royal Dutch Shell A_036335.txt\",\"InterContinental Hotels Group_028005.txt\",\"Internat. Cons. Airl. Group SA_035946.txt\",\"Legal - General Group PLC_035990.txt\",\"Royal Bank of Scotland PLC_035987.txt\",\"British Land Co. PLC- The_035967.txt\",\"United Utilities Group PLC_036341.txt\",\"Antofagasta PLC_028149.txt\",\"Internat. Cons. Airl. Group SA_035946.txt\",\"Standard Life Aberdeen Plc_036365.txt\",\"Astrazeneca PLC_035998.txt\",\"Smiths Group_035958.txt\",\"Standard Life Aberdeen Plc_036365.txt\",\"Land Securities Group PLC_035991.txt\",\"Barclays PLC_035976.txt\",\"Standard Life Aberdeen Plc_036365.txt\",\"BT Group PLC_036000.txt\",\"Segro PLC_030122.txt\",\"Legal - General Group PLC_035990.txt\",\"United Utilities Group PLC_036341.txt\",\"Standard Life Aberdeen Plc_036365.txt\",\"CRH PLC_028592.txt\",\"Vodafone Group PLC_035943.txt\",\"Lloyds Banking Group PLC_035948.txt\",\"Quilter Plc_0282I8.txt\",\"Imperial Brands Plc_035932.txt\",\"Legal - General Group PLC_035990.txt\",\"Vodafone Group PLC_035943.txt\",\"Kingfisher PLC_035992.txt\",\"Antofagasta PLC_028149.txt\",\"Morrison Supermarkets plc_035940.txt\",\"GVC Holdings PLC_0280YJ.txt\",\"National Grid PLC_035983.txt\",\"Persimmon PLC_029896.txt\",\"D S Smith PLC_030126.txt\",\"D S Smith PLC_030126.txt\",\"Imperial Brands Plc_035932.txt\",\"GlaxoSmithKline PLC_035911.txt\",\"Persimmon PLC_029896.txt\",\"Land Securities Group PLC_035991.txt\",\"Centrica PLC_035920.txt\",\"Antofagasta PLC_028149.txt\",\"Astrazeneca PLC_035998.txt\",\"Royal Dutch Shell A_036335.txt\",\"Compass Group PLC_035981.txt\",\"CRH PLC_028592.txt\",\"Carnival PLC_028002.txt\",\"Rolls Royce Holdings PLC_035902.txt\",\"National Grid PLC_035983.txt\",\"Internat. Cons. Airl. Group SA_035946.txt\",\"Intertek Group_029309.txt\",\"Legal - General Group PLC_035990.txt\",\"Land Securities Group PLC_035991.txt\",\"Intertek Group_029309.txt\",\"Coca-Cola HBC AG_0280F6.txt\",\"Land Securities Group PLC_035991.txt\",\"RSA Insurance Group PLC_035921.txt\",\"Just-Eat PLC_0281HA.txt\",\"Coca-Cola HBC AG_0280F6.txt\",\"Scottish - Southern Energy Plc_035985.txt\",\"Persimmon PLC_029896.txt\",\"Lloyds Banking Group PLC_035948.txt\",\"Royal Mail Group Plc_0280WH.txt\",\"Internat. Cons. Airl. Group SA_035946.txt\",\"Scottish - Southern Energy Plc_035985.txt\",\"Quilter Plc_0282I8.txt\",\"BT Group PLC_036000.txt\",\"Experian PLC_036355.txt\",\"Johnson Matthey_035962.txt\",\"Antofagasta PLC_028149.txt\",\"Paddy Power Betfair PLC_029791.txt\",\"Smith - Nephew PLC_035910.txt\",\"Barclays PLC_035976.txt\",\"Severn Trent PLC_035941.txt\",\"Imperial Brands Plc_035932.txt\",\"Internat. Cons. Airl. Group SA_035946.txt\",\"Scottish - Southern Energy Plc_035985.txt\",\"CRH PLC_028592.txt\",\"British Land Co. PLC- The_035967.txt\",\"Royal Bank of Scotland PLC_035987.txt\",\"Astrazeneca PLC_035998.txt\",\"Unilever PLC_035922.txt\",\"London Stock Exchange LSE_029478.txt\",\"Johnson Matthey_035962.txt\",\"Land Securities Group PLC_035991.txt\",\"Paddy Power Betfair PLC_029791.txt\",\"RSA Insurance Group PLC_035921.txt\",\"Carnival PLC_028002.txt\",\"Johnson Matthey_035962.txt\",\"Severn Trent PLC_035941.txt\",\"Astrazeneca PLC_035998.txt\",\"Ferguson Plc._035956.txt\",\"D S Smith PLC_030126.txt\",\"3i Group PLC_035999.txt\",\"United Utilities Group PLC_036341.txt\",\"Imperial Brands Plc_035932.txt\",\"United Utilities Group PLC_036341.txt\",\"Persimmon PLC_029896.txt\",\"Melrose Industries Plc._030553.txt\",\"Segro PLC_030122.txt\",\"Legal - General Group PLC_035990.txt\",\"Royal Dutch Shell B_035968.txt\",\"Land Securities Group PLC_035991.txt\",\"Internat. Cons. Airl. Group SA_035946.txt\",\"Internat. Cons. Airl. Group SA_035946.txt\",\"Antofagasta PLC_028149.txt\",\"Rolls Royce Holdings PLC_035902.txt\",\"Experian PLC_036355.txt\",\"Coca-Cola HBC AG_0280F6.txt\",\"BT Group PLC_036000.txt\",\"Johnson Matthey_035962.txt\",\"Aviva PLC_035907.txt\",\"BT Group PLC_036000.txt\",\"Lloyds Banking Group PLC_035948.txt\",\"Halma_029131.txt\",\"Diageo PLC_035994.txt\",\"Paddy Power Betfair PLC_029791.txt\",\"BT Group PLC_036000.txt\",\"Experian PLC_036355.txt\",\"Land Securities Group PLC_035991.txt\",\"TUI AG_02821N.txt\",\"Internat. Cons. Airl. Group SA_035946.txt\",\"Experian PLC_036355.txt\",\"RELX PLC_035970.txt\",\"Legal - General Group PLC_035990.txt\",\"Persimmon PLC_029896.txt\",\"Scottish - Southern Energy Plc_035985.txt\",\"Antofagasta PLC_028149.txt\",\"ITV_035984.txt\",\"Standard Life Aberdeen Plc_036365.txt\",\"Severn Trent PLC_035941.txt\",\"Internat. Cons. Airl. Group SA_035946.txt\",\"Barclays PLC_035976.txt\",\"Johnson Matthey_035962.txt\",\"GlaxoSmithKline PLC_035911.txt\",\"Imperial Brands Plc_035932.txt\",\"CRH PLC_028592.txt\",\"Severn Trent PLC_035941.txt\",\"Standard Chartered PLC_035959.txt\",\"Vodafone Group PLC_035943.txt\",\"Melrose Industries Plc._030553.txt\",\"Smiths Group_035958.txt\",\"D S Smith PLC_030126.txt\",\"Intertek Group_029309.txt\",\"Diageo PLC_035994.txt\",\"RELX PLC_035970.txt\",\"Barclays PLC_035976.txt\",\"Standard Life Aberdeen Plc_036365.txt\",\"Astrazeneca PLC_035998.txt\",\"Croda International_028589.txt\",\"Coca-Cola HBC AG_0280F6.txt\",\"Standard Life Aberdeen Plc_036365.txt\",\"GlaxoSmithKline PLC_035911.txt\",\"Paddy Power Betfair PLC_029791.txt\",\"Rolls Royce Holdings PLC_035902.txt\",\"Johnson Matthey_035962.txt\",\"British American Tobacco PLC_035924.txt\",\"Melrose Industries Plc._030553.txt\",\"Internat. Cons. Airl. Group SA_035946.txt\",\"Smiths Group_035958.txt\",\"Melrose Industries Plc._030553.txt\",\"Lloyds Banking Group PLC_035948.txt\",\"Internat. Cons. Airl. Group SA_035946.txt\",\"Melrose Industries Plc._030553.txt\",\"Royal Bank of Scotland PLC_035987.txt\",\"London Stock Exchange LSE_029478.txt\",\"National Grid PLC_035983.txt\",\"Berkeley Group Holdings Plc_036347.txt\",\"Royal Bank of Scotland PLC_035987.txt\",\"RELX PLC_035970.txt\",\"Persimmon PLC_029896.txt\",\"Johnson Matthey_035962.txt\",\"British American Tobacco PLC_035924.txt\",\"Paddy Power Betfair PLC_029791.txt\",\"Internat. Cons. Airl. Group SA_035946.txt\",\"Internat. Cons. Airl. Group SA_035946.txt\",\"Antofagasta PLC_028149.txt\",\"Standard Life Aberdeen Plc_036365.txt\",\"D S Smith PLC_030126.txt\",\"Land Securities Group PLC_035991.txt\",\"Johnson Matthey_035962.txt\",\"Experian PLC_036355.txt\",\"Berkeley Group Holdings Plc_036347.txt\",\"Imperial Brands Plc_035932.txt\",\"Coca-Cola HBC AG_0280F6.txt\",\"Imperial Brands Plc_035932.txt\",\"Melrose Industries Plc._030553.txt\",\"Antofagasta PLC_028149.txt\",\"Internat. Cons. Airl. Group SA_035946.txt\",\"Legal - General Group PLC_035990.txt\",\"Melrose Industries Plc._030553.txt\",\"Intertek Group_029309.txt\",\"Antofagasta PLC_028149.txt\",\"Melrose Industries Plc._030553.txt\",\"Standard Life Aberdeen Plc_036365.txt\",\"Land Securities Group PLC_035991.txt\",\"Scottish - Southern Energy Plc_035985.txt\",\"Persimmon PLC_029896.txt\",\"Johnson Matthey_035962.txt\",\"Antofagasta PLC_028149.txt\",\"Persimmon PLC_029896.txt\",\"Legal - General Group PLC_035990.txt\",\"Antofagasta PLC_028149.txt\",\"BT Group PLC_036000.txt\",\"RELX PLC_035970.txt\",\"GlaxoSmithKline PLC_035911.txt\",\"Vodafone Group PLC_035943.txt\",\"Land Securities Group PLC_035991.txt\",\"Severn Trent PLC_035941.txt\",\"Reckitt Benckiser Group_035906.txt\",\"D S Smith PLC_030126.txt\",\"RELX PLC_035970.txt\",\"Internat. Cons. Airl. Group SA_035946.txt\",\"Barclays PLC_035976.txt\",\"Rio Tinto PLC_035988.txt\",\"BT Group PLC_036000.txt\",\"Standard Life Aberdeen Plc_036365.txt\",\"Marks - Spencer Group PLC_035972.txt\",\"Astrazeneca PLC_035998.txt\",\"Next PLC_035951.txt\",\"Internat. Cons. Airl. Group SA_035946.txt\",\"Rentokil Initial_035944.txt\",\"Compass Group PLC_035981.txt\",\"Paddy Power Betfair PLC_029791.txt\",\"Diageo PLC_035994.txt\",\"Quilter Plc_0282I8.txt\",\"Compass Group PLC_035981.txt\",\"Aviva PLC_035907.txt\",\"Johnson Matthey_035962.txt\",\"Scottish - Southern Energy Plc_035985.txt\",\"Scottish Mortgage Investment Trust plc_030137.txt\",\"GlaxoSmithKline PLC_035911.txt\",\"Scottish - Southern Energy Plc_035985.txt\",\"Paddy Power Betfair PLC_029791.txt\",\"Scottish Mortgage Investment Trust plc_030137.txt\",\"Rolls Royce Holdings PLC_035902.txt\",\"GlaxoSmithKline PLC_035911.txt\",\"TUI AG_02821N.txt\",\"Standard Life Aberdeen Plc_036365.txt\",\"Severn Trent PLC_035941.txt\",1,\"Royal Dutch Shell B_035968.txt\",\"Imperial Brands Plc_035932.txt\",\"Antofagasta PLC_028149.txt\",\"Diageo PLC_035994.txt\",\"Land Securities Group PLC_035991.txt\",\"Prudential PLC_035971.txt\",\"TUI AG_02821N.txt\",\"Internat. Cons. Airl. Group SA_035946.txt\",\"Persimmon PLC_029896.txt\",\"Marks - Spencer Group PLC_035972.txt\",\"RSA Insurance Group PLC_035921.txt\",\"Standard Life Aberdeen Plc_036365.txt\",\"Associated British Foods PLC_035919.txt\",\"D S Smith PLC_030126.txt\",\"Aviva PLC_035907.txt\",\"Imperial Brands Plc_035932.txt\",\"St. Jamess Place PLC_030192.txt\",\"Johnson Matthey_035962.txt\",\"Legal - General Group PLC_035990.txt\",\"British Land Co. PLC- The_035967.txt\",\"Experian PLC_036355.txt\",\"BT Group PLC_036000.txt\",\"Centrica PLC_035920.txt\",\"Compass Group PLC_035981.txt\",\"Coca-Cola HBC AG_0280F6.txt\",\"Berkeley Group Holdings Plc_036347.txt\",\"Micro Focus International PLC_02803D.txt\",\"St. Jamess Place PLC_030192.txt\",\"British Land Co. PLC- The_035967.txt\",\"TUI AG_02821N.txt\",\"CRH PLC_028592.txt\",\"Paddy Power Betfair PLC_029791.txt\",\"Antofagasta PLC_028149.txt\",\"GlaxoSmithKline PLC_035911.txt\",\"British Land Co. PLC- The_035967.txt\",\"Coca-Cola HBC AG_0280F6.txt\",\"Experian PLC_036355.txt\",\"Coca-Cola HBC AG_0280F6.txt\",\"Land Securities Group PLC_035991.txt\",\"Morrison Supermarkets plc_035940.txt\",\"Compass Group PLC_035981.txt\",\"National Grid PLC_035983.txt\",\"Scottish Mortgage Investment Trust plc_030137.txt\",\"Experian PLC_036355.txt\",\"London Stock Exchange LSE_029478.txt\",\"Diageo PLC_035994.txt\",\"Scottish - Southern Energy Plc_035985.txt\",\"Aviva PLC_035907.txt\",\"Smiths Group_035958.txt\",\"Royal Dutch Shell B_035968.txt\",\"British American Tobacco PLC_035924.txt\",\"Smiths Group_035958.txt\",\"Legal - General Group PLC_035990.txt\",\"Land Securities Group PLC_035991.txt\",\"British Land Co. PLC- The_035967.txt\",\"BT Group PLC_036000.txt\",1,\"London Stock Exchange LSE_029478.txt\",\"British Land Co. PLC- The_035967.txt\",\"Experian PLC_036355.txt\",\"Micro Focus International PLC_02803D.txt\",\"Royal Dutch Shell A_036335.txt\",\"D S Smith PLC_030126.txt\",\"Paddy Power Betfair PLC_029791.txt\",\"RELX PLC_035970.txt\",\"Smiths Group_035958.txt\",\"Rio Tinto PLC_035988.txt\",\"D S Smith PLC_030126.txt\",\"Reckitt Benckiser Group_035906.txt\",\"Coca-Cola HBC AG_0280F6.txt\",\"Severn Trent PLC_035941.txt\",\"Land Securities Group PLC_035991.txt\",\"Compass Group PLC_035981.txt\",\"National Grid PLC_035983.txt\",\"Intertek Group_029309.txt\",\"Diageo PLC_035994.txt\",\"Compass Group PLC_035981.txt\",\"Johnson Matthey_035962.txt\",\"British Land Co. PLC- The_035967.txt\",\"Quilter Plc_0282I8.txt\",\"Melrose Industries Plc._030553.txt\",\"Barclays PLC_035976.txt\",\"Vodafone Group PLC_035943.txt\",\"Melrose Industries Plc._030553.txt\",\"Coca-Cola HBC AG_0280F6.txt\",\"Melrose Industries Plc._030553.txt\",\"Antofagasta PLC_028149.txt\",\"Quilter Plc_0282I8.txt\",\"Quilter Plc_0282I8.txt\",\"Melrose Industries Plc._030553.txt\",\"Scottish - Southern Energy Plc_035985.txt\",\"Legal - General Group PLC_035990.txt\",\"Experian PLC_036355.txt\",\"Aviva PLC_035907.txt\",\"Antofagasta PLC_028149.txt\",1,\"Aviva PLC_035907.txt\",\"Antofagasta PLC_028149.txt\",\"Rolls Royce Holdings PLC_035902.txt\",\"Johnson Matthey_035962.txt\",\"BT Group PLC_036000.txt\",\"BT Group PLC_036000.txt\",\"Internat. Cons. Airl. Group SA_035946.txt\",\"British American Tobacco PLC_035924.txt\",1,\"Barclays PLC_035976.txt\",\"TUI AG_02821N.txt\",\"Severn Trent PLC_035941.txt\",\"Legal - General Group PLC_035990.txt\",\"Diageo PLC_035994.txt\",\"Micro Focus International PLC_02803D.txt\",\"British Land Co. PLC- The_035967.txt\",\"TUI AG_02821N.txt\",\"Internat. Cons. Airl. Group SA_035946.txt\",\"Legal - General Group PLC_035990.txt\",\"Quilter Plc_0282I8.txt\",\"BT Group PLC_036000.txt\",\"Carnival PLC_028002.txt\",\"Centrica PLC_035920.txt\",\"BT Group PLC_036000.txt\",\"TUI AG_02821N.txt\",\"Johnson Matthey_035962.txt\",\"Johnson Matthey_035962.txt\",\"RELX PLC_035970.txt\",\"Intertek Group_029309.txt\",\"Royal Dutch Shell B_035968.txt\",\"Antofagasta PLC_028149.txt\",\"British American Tobacco PLC_035924.txt\",\"National Grid PLC_035983.txt\",\"Legal - General Group PLC_035990.txt\",\"Halma_029131.txt\",\"Antofagasta PLC_028149.txt\",\"Experian PLC_036355.txt\",\"Legal - General Group PLC_035990.txt\",\"Diageo PLC_035994.txt\",\"RELX PLC_035970.txt\",\"Internat. Cons. Airl. Group SA_035946.txt\",\"Royal Dutch Shell B_035968.txt\",\"GlaxoSmithKline PLC_035911.txt\",\"CRH PLC_028592.txt\",\"Associated British Foods PLC_035919.txt\",\"Smith - Nephew PLC_035910.txt\",\"Morrison Supermarkets plc_035940.txt\",\"BT Group PLC_036000.txt\",\"BT Group PLC_036000.txt\",\"British Land Co. PLC- The_035967.txt\",\"Barclays PLC_035976.txt\",\"Experian PLC_036355.txt\",\"Intertek Group_029309.txt\",\"National Grid PLC_035983.txt\",\"National Grid PLC_035983.txt\",\"Rolls Royce Holdings PLC_035902.txt\",\"Experian PLC_036355.txt\",\"British Land Co. PLC- The_035967.txt\",\"Marks - Spencer Group PLC_035972.txt\",\"Standard Life Aberdeen Plc_036365.txt\",\"RELX PLC_035970.txt\",\"Paddy Power Betfair PLC_029791.txt\",\"British Land Co. PLC- The_035967.txt\",\"Melrose Industries Plc._030553.txt\",\"Rolls Royce Holdings PLC_035902.txt\",\"CRH PLC_028592.txt\",\"BT Group PLC_036000.txt\",\"BT Group PLC_036000.txt\",\"Land Securities Group PLC_035991.txt\",\"InterContinental Hotels Group_028005.txt\",\"Antofagasta PLC_028149.txt\",\"Land Securities Group PLC_035991.txt\",\"British Land Co. PLC- The_035967.txt\",\"Legal - General Group PLC_035990.txt\",\"Rolls Royce Holdings PLC_035902.txt\",\"Melrose Industries Plc._030553.txt\",\"Melrose Industries Plc._030553.txt\",\"Micro Focus International PLC_02803D.txt\",\"Royal Dutch Shell B_035968.txt\",\"Antofagasta PLC_028149.txt\",\"Quilter Plc_0282I8.txt\",\"Severn Trent PLC_035941.txt\",\"Experian PLC_036355.txt\",\"Royal Dutch Shell B_035968.txt\",\"Reckitt Benckiser Group_035906.txt\",\"Legal - General Group PLC_035990.txt\",\"Barclays PLC_035976.txt\",\"Croda International_028589.txt\",\"Legal - General Group PLC_035990.txt\",\"Reckitt Benckiser Group_035906.txt\",\"Scottish - Southern Energy Plc_035985.txt\",\"Lloyds Banking Group PLC_035948.txt\",\"Royal Dutch Shell B_035968.txt\",\"RSA Insurance Group PLC_035921.txt\",\"CRH PLC_028592.txt\",\"Imperial Brands Plc_035932.txt\",\"3i Group PLC_035999.txt\",\"Lloyds Banking Group PLC_035948.txt\",\"D S Smith PLC_030126.txt\",\"Astrazeneca PLC_035998.txt\",\"Carnival PLC_028002.txt\",\"Intertek Group_029309.txt\",\"Aviva PLC_035907.txt\",\"Legal - General Group PLC_035990.txt\",\"Legal - General Group PLC_035990.txt\",\"Marks - Spencer Group PLC_035972.txt\",\"D S Smith PLC_030126.txt\",\"Internat. Cons. Airl. Group SA_035946.txt\",\"Scottish - Southern Energy Plc_035985.txt\",\"Barclays PLC_035976.txt\",\"Reckitt Benckiser Group_035906.txt\",\"Royal Dutch Shell A_036335.txt\",\"Imperial Brands Plc_035932.txt\",\"Melrose Industries Plc._030553.txt\",\"Antofagasta PLC_028149.txt\",\"Experian PLC_036355.txt\",\"D S Smith PLC_030126.txt\",\"Legal - General Group PLC_035990.txt\",\"Vodafone Group PLC_035943.txt\",\"Land Securities Group PLC_035991.txt\",\"Marks - Spencer Group PLC_035972.txt\",\"Scottish - Southern Energy Plc_035985.txt\",\"Rolls Royce Holdings PLC_035902.txt\",\"British Land Co. PLC- The_035967.txt\",\"RELX PLC_035970.txt\",\"Experian PLC_036355.txt\",\"Legal - General Group PLC_035990.txt\",\"Johnson Matthey_035962.txt\",\"Johnson Matthey_035962.txt\",\"Coca-Cola HBC AG_0280F6.txt\",\"Standard Life Aberdeen Plc_036365.txt\",\"Barclays PLC_035976.txt\",\"CRH PLC_028592.txt\",\"Imperial Brands Plc_035932.txt\",\"Royal Dutch Shell B_035968.txt\",\"Johnson Matthey_035962.txt\",\"Carnival PLC_028002.txt\",\"Standard Life Aberdeen Plc_036365.txt\",\"Johnson Matthey_035962.txt\",\"British Land Co. PLC- The_035967.txt\",\"BT Group PLC_036000.txt\",\"Next PLC_035951.txt\",\"Aviva PLC_035907.txt\",\"Internat. Cons. Airl. Group SA_035946.txt\",\"Coca-Cola HBC AG_0280F6.txt\",\"Quilter Plc_0282I8.txt\",\"TUI AG_02821N.txt\",\"Quilter Plc_0282I8.txt\",\"Paddy Power Betfair PLC_029791.txt\",\"TUI AG_02821N.txt\",\"Smiths Group_035958.txt\",\"3i Group PLC_035999.txt\",\"BT Group PLC_036000.txt\",\"Internat. Cons. Airl. Group SA_035946.txt\",\"Compass Group PLC_035981.txt\",\"Scottish - Southern Energy Plc_035985.txt\",\"British Land Co. PLC- The_035967.txt\",\"Land Securities Group PLC_035991.txt\",\"Astrazeneca PLC_035998.txt\",\"CRH PLC_028592.txt\",\"D S Smith PLC_030126.txt\",\"Land Securities Group PLC_035991.txt\",\"Compass Group PLC_035981.txt\",\"Land Securities Group PLC_035991.txt\",\"Antofagasta PLC_028149.txt\",\"National Grid PLC_035983.txt\",\"British Land Co. PLC- The_035967.txt\",\"Melrose Industries Plc._030553.txt\",\"Imperial Brands Plc_035932.txt\",\"National Grid PLC_035983.txt\",\"BT Group PLC_036000.txt\",\"Barclays PLC_035976.txt\",\"Antofagasta PLC_028149.txt\",\"Melrose Industries Plc._030553.txt\",\"TUI AG_02821N.txt\",\"RELX PLC_035970.txt\",\"Internat. Cons. Airl. Group SA_035946.txt\",1,\"D S Smith PLC_030126.txt\",\"Antofagasta PLC_028149.txt\",\"Persimmon PLC_029896.txt\",\"Royal Dutch Shell B_035968.txt\",\"Vodafone Group PLC_035943.txt\",\"Experian PLC_036355.txt\",\"Compass Group PLC_035981.txt\",\"Legal - General Group PLC_035990.txt\",\"Scottish - Southern Energy Plc_035985.txt\",\"Melrose Industries Plc._030553.txt\",\"RELX PLC_035970.txt\",\"D S Smith PLC_030126.txt\",\"Experian PLC_036355.txt\",\"Compass Group PLC_035981.txt\",\"Persimmon PLC_029896.txt\",\"Experian PLC_036355.txt\",\"National Grid PLC_035983.txt\",\"Persimmon PLC_029896.txt\",\"Paddy Power Betfair PLC_029791.txt\",\"Internat. Cons. Airl. Group SA_035946.txt\",\"Compass Group PLC_035981.txt\",\"D S Smith PLC_030126.txt\",\"TUI AG_02821N.txt\",\"Carnival PLC_028002.txt\",\"BT Group PLC_036000.txt\",\"Internat. Cons. Airl. Group SA_035946.txt\",\"Segro PLC_030122.txt\",\"Persimmon PLC_029896.txt\",\"Melrose Industries Plc._030553.txt\",\"Antofagasta PLC_028149.txt\",\"CRH PLC_028592.txt\",\"Vodafone Group PLC_035943.txt\",\"Johnson Matthey_035962.txt\",\"Intertek Group_029309.txt\",\"Royal Dutch Shell A_036335.txt\",\"Standard Life Aberdeen Plc_036365.txt\",\"Segro PLC_030122.txt\",\"Johnson Matthey_035962.txt\",\"Experian PLC_036355.txt\",\"National Grid PLC_035983.txt\",\"CRH PLC_028592.txt\",\"National Grid PLC_035983.txt\",\"Internat. Cons. Airl. Group SA_035946.txt\",1,\"Experian PLC_036355.txt\",\"RELX PLC_035970.txt\",\"Standard Life Aberdeen Plc_036365.txt\",\"Marks - Spencer Group PLC_035972.txt\",\"RELX PLC_035970.txt\",\"Rolls Royce Holdings PLC_035902.txt\",\"Standard Life Aberdeen Plc_036365.txt\",\"Micro Focus International PLC_02803D.txt\",\"United Utilities Group PLC_036341.txt\",\"Compass Group PLC_035981.txt\",\"Croda International_028589.txt\",\"British Land Co. PLC- The_035967.txt\",\"Standard Life Aberdeen Plc_036365.txt\",\"RELX PLC_035970.txt\",\"D S Smith PLC_030126.txt\",\"Barclays PLC_035976.txt\",\"D S Smith PLC_030126.txt\",\"BT Group PLC_036000.txt\",\"Experian PLC_036355.txt\",\"Centrica PLC_035920.txt\",\"Persimmon PLC_029896.txt\",\"Barclays PLC_035976.txt\",\"Astrazeneca PLC_035998.txt\",\"Persimmon PLC_029896.txt\",\"Centrica PLC_035920.txt\",\"Antofagasta PLC_028149.txt\",\"Experian PLC_036355.txt\",\"Johnson Matthey_035962.txt\",\"Compass Group PLC_035981.txt\",\"Antofagasta PLC_028149.txt\",\"Experian PLC_036355.txt\",\"Admiral Group_036346.txt\",\"Experian PLC_036355.txt\",\"RELX PLC_035970.txt\",\"RELX PLC_035970.txt\",\"CRH PLC_028592.txt\",\"British American Tobacco PLC_035924.txt\",\"Halma_029131.txt\",\"Internat. Cons. Airl. Group SA_035946.txt\",\"Vodafone Group PLC_035943.txt\",\"D S Smith PLC_030126.txt\",\"Persimmon PLC_029896.txt\",\"Rolls Royce Holdings PLC_035902.txt\",\"Persimmon PLC_029896.txt\",\"Legal - General Group PLC_035990.txt\",\"BT Group PLC_036000.txt\",\"Melrose Industries Plc._030553.txt\",\"Persimmon PLC_029896.txt\",\"RELX PLC_035970.txt\",\"Land Securities Group PLC_035991.txt\",\"Paddy Power Betfair PLC_029791.txt\",\"RELX PLC_035970.txt\",\"Micro Focus International PLC_02803D.txt\",\"RSA Insurance Group PLC_035921.txt\",\"Centrica PLC_035920.txt\",\"Carnival PLC_028002.txt\",\"Royal Dutch Shell B_035968.txt\",\"TUI AG_02821N.txt\",\"Admiral Group_036346.txt\",\"Next PLC_035951.txt\",\"Royal Dutch Shell B_035968.txt\",\"Severn Trent PLC_035941.txt\",\"Melrose Industries Plc._030553.txt\",\"TUI AG_02821N.txt\",\"Severn Trent PLC_035941.txt\",\"Centrica PLC_035920.txt\",\"Centrica PLC_035920.txt\",\"Coca-Cola HBC AG_0280F6.txt\",\"Melrose Industries Plc._030553.txt\",\"GlaxoSmithKline PLC_035911.txt\",\"Antofagasta PLC_028149.txt\",1,\"Persimmon PLC_029896.txt\",\"Legal - General Group PLC_035990.txt\",\"Standard Life Aberdeen Plc_036365.txt\",\"Standard Life Aberdeen Plc_036365.txt\",\"Micro Focus International PLC_02803D.txt\",\"Legal - General Group PLC_035990.txt\",\"British Land Co. PLC- The_035967.txt\",\"Internat. Cons. Airl. Group SA_035946.txt\",\"Royal Dutch Shell B_035968.txt\",\"Persimmon PLC_029896.txt\",\"RSA Insurance Group PLC_035921.txt\",\"Severn Trent PLC_035941.txt\",\"Intertek Group_029309.txt\",\"Coca-Cola HBC AG_0280F6.txt\",\"Internat. Cons. Airl. Group SA_035946.txt\",\"Compass Group PLC_035981.txt\",\"D S Smith PLC_030126.txt\",\"GlaxoSmithKline PLC_035911.txt\",\"Legal - General Group PLC_035990.txt\",\"RSA Insurance Group PLC_035921.txt\",\"Imperial Brands Plc_035932.txt\",\"TUI AG_02821N.txt\",\"Standard Life Aberdeen Plc_036365.txt\",\"Carnival PLC_028002.txt\",\"Imperial Brands Plc_035932.txt\",\"Antofagasta PLC_028149.txt\",\"Micro Focus International PLC_02803D.txt\",\"D S Smith PLC_030126.txt\",\"Internat. Cons. Airl. Group SA_035946.txt\",\"Experian PLC_036355.txt\",\"Smiths Group_035958.txt\",\"Rolls Royce Holdings PLC_035902.txt\",\"Persimmon PLC_029896.txt\",\"Reckitt Benckiser Group_035906.txt\",\"Standard Life Aberdeen Plc_036365.txt\",\"Compass Group PLC_035981.txt\",\"Compass Group PLC_035981.txt\",\"D S Smith PLC_030126.txt\",\"Marks - Spencer Group PLC_035972.txt\",\"BT Group PLC_036000.txt\",\"D S Smith PLC_030126.txt\",\"Johnson Matthey_035962.txt\",\"Internat. Cons. Airl. Group SA_035946.txt\",\"Legal - General Group PLC_035990.txt\",\"Compass Group PLC_035981.txt\",\"Micro Focus International PLC_02803D.txt\",\"Compass Group PLC_035981.txt\",\"Antofagasta PLC_028149.txt\",\"Centrica PLC_035920.txt\",\"Land Securities Group PLC_035991.txt\",\"Internat. Cons. Airl. Group SA_035946.txt\",\"Astrazeneca PLC_035998.txt\",\"Experian PLC_036355.txt\",\"Paddy Power Betfair PLC_029791.txt\",\"Internat. Cons. Airl. Group SA_035946.txt\",\"Scottish - Southern Energy Plc_035985.txt\",\"BT Group PLC_036000.txt\",\"Legal - General Group PLC_035990.txt\",\"Legal - General Group PLC_035990.txt\",\"Barclays PLC_035976.txt\",\"Micro Focus International PLC_02803D.txt\",\"National Grid PLC_035983.txt\",\"Diageo PLC_035994.txt\",\"D S Smith PLC_030126.txt\",\"Experian PLC_036355.txt\",\"Royal Dutch Shell B_035968.txt\",\"Paddy Power Betfair PLC_029791.txt\",\"British Land Co. PLC- The_035967.txt\",\"Barclays PLC_035976.txt\",\"Segro PLC_030122.txt\",\"RELX PLC_035970.txt\",\"Legal - General Group PLC_035990.txt\",\"National Grid PLC_035983.txt\",\"Persimmon PLC_029896.txt\",\"Legal - General Group PLC_035990.txt\",\"D S Smith PLC_030126.txt\",\"RSA Insurance Group PLC_035921.txt\",\"Marks - Spencer Group PLC_035972.txt\",\"Compass Group PLC_035981.txt\",\"Antofagasta PLC_028149.txt\",\"Persimmon PLC_029896.txt\",\"Micro Focus International PLC_02803D.txt\",\"Johnson Matthey_035962.txt\",\"Marks - Spencer Group PLC_035972.txt\",\"D S Smith PLC_030126.txt\",\"BT Group PLC_036000.txt\",\"Paddy Power Betfair PLC_029791.txt\",\"Legal - General Group PLC_035990.txt\",\"RELX PLC_035970.txt\",\"D S Smith PLC_030126.txt\",\"Rolls Royce Holdings PLC_035902.txt\",\"Antofagasta PLC_028149.txt\",\"United Utilities Group PLC_036341.txt\",\"Segro PLC_030122.txt\",\"Land Securities Group PLC_035991.txt\",\"CRH PLC_028592.txt\",\"Antofagasta PLC_028149.txt\",\"Intertek Group_029309.txt\",\"Severn Trent PLC_035941.txt\",\"Persimmon PLC_029896.txt\",\"Quilter Plc_0282I8.txt\",\"Intertek Group_029309.txt\",\"Internat. Cons. Airl. Group SA_035946.txt\",\"Intertek Group_029309.txt\",\"Admiral Group_036346.txt\",\"Astrazeneca PLC_035998.txt\",\"Royal Dutch Shell B_035968.txt\",\"Intertek Group_029309.txt\",\"Severn Trent PLC_035941.txt\",\"Lloyds Banking Group PLC_035948.txt\",\"BT Group PLC_036000.txt\",\"Micro Focus International PLC_02803D.txt\",\"Royal Dutch Shell B_035968.txt\",\"Internat. Cons. Airl. Group SA_035946.txt\",\"Compass Group PLC_035981.txt\",\"Coca-Cola HBC AG_0280F6.txt\",\"Standard Life Aberdeen Plc_036365.txt\",\"RSA Insurance Group PLC_035921.txt\",\"British American Tobacco PLC_035924.txt\",\"Land Securities Group PLC_035991.txt\",\"Land Securities Group PLC_035991.txt\",\"Admiral Group_036346.txt\",\"Legal - General Group PLC_035990.txt\",\"Compass Group PLC_035981.txt\",\"Micro Focus International PLC_02803D.txt\",\"Vodafone Group PLC_035943.txt\",\"Persimmon PLC_029896.txt\",\"Experian PLC_036355.txt\",\"Marks - Spencer Group PLC_035972.txt\",\"Internat. Cons. Airl. Group SA_035946.txt\",\"Lloyds Banking Group PLC_035948.txt\",\"Severn Trent PLC_035941.txt\",\"Internat. Cons. Airl. Group SA_035946.txt\",\"Intertek Group_029309.txt\",\"National Grid PLC_035983.txt\",\"BT Group PLC_036000.txt\",\"Smiths Group_035958.txt\",\"Barclays PLC_035976.txt\",\"BT Group PLC_036000.txt\",\"Internat. Cons. Airl. Group SA_035946.txt\",\"Severn Trent PLC_035941.txt\",\"Experian PLC_036355.txt\",\"Antofagasta PLC_028149.txt\",\"Persimmon PLC_029896.txt\",\"CRH PLC_028592.txt\",\"Compass Group PLC_035981.txt\",\"Legal - General Group PLC_035990.txt\",\"Centrica PLC_035920.txt\",\"Micro Focus International PLC_02803D.txt\",\"Land Securities Group PLC_035991.txt\",\"British Land Co. PLC- The_035967.txt\",\"Royal Dutch Shell B_035968.txt\",\"Royal Dutch Shell B_035968.txt\",\"Barclays PLC_035976.txt\",\"Legal - General Group PLC_035990.txt\",\"RSA Insurance Group PLC_035921.txt\",\"Micro Focus International PLC_02803D.txt\",\"Admiral Group_036346.txt\",\"Reckitt Benckiser Group_035906.txt\",\"Astrazeneca PLC_035998.txt\",\"D S Smith PLC_030126.txt\",\"Paddy Power Betfair PLC_029791.txt\",\"Marks - Spencer Group PLC_035972.txt\",\"BT Group PLC_036000.txt\",\"Paddy Power Betfair PLC_029791.txt\",\"Micro Focus International PLC_02803D.txt\",\"D S Smith PLC_030126.txt\",\"Legal - General Group PLC_035990.txt\",\"Paddy Power Betfair PLC_029791.txt\",\"Internat. Cons. Airl. Group SA_035946.txt\",\"Persimmon PLC_029896.txt\",\"Barclays PLC_035976.txt\",\"ITV_035984.txt\",\"Legal - General Group PLC_035990.txt\",\"Marks - Spencer Group PLC_035972.txt\",\"British Land Co. PLC- The_035967.txt\",\"D S Smith PLC_030126.txt\",\"Paddy Power Betfair PLC_029791.txt\",\"British Land Co. PLC- The_035967.txt\",\"Persimmon PLC_029896.txt\",\"Antofagasta PLC_028149.txt\",\"Land Securities Group PLC_035991.txt\",\"Standard Life Aberdeen Plc_036365.txt\",\"British Land Co. PLC- The_035967.txt\",\"Barclays PLC_035976.txt\",\"Antofagasta PLC_028149.txt\",\"Intertek Group_029309.txt\",\"Severn Trent PLC_035941.txt\",\"RELX PLC_035970.txt\",\"Royal Dutch Shell B_035968.txt\",\"National Grid PLC_035983.txt\",\"Quilter Plc_0282I8.txt\",\"CRH PLC_028592.txt\",\"Internat. Cons. Airl. Group SA_035946.txt\",\"RELX PLC_035970.txt\",\"Severn Trent PLC_035941.txt\",\"Antofagasta PLC_028149.txt\",\"Intertek Group_029309.txt\",\"BT Group PLC_036000.txt\",\"Internat. Cons. Airl. Group SA_035946.txt\",\"Intertek Group_029309.txt\",\"Compass Group PLC_035981.txt\",\"TUI AG_02821N.txt\",\"Imperial Brands Plc_035932.txt\",\"RSA Insurance Group PLC_035921.txt\",\"Persimmon PLC_029896.txt\",\"Coca-Cola HBC AG_0280F6.txt\",\"Segro PLC_030122.txt\",\"National Grid PLC_035983.txt\",\"Scottish - Southern Energy Plc_035985.txt\",\"Internat. Cons. Airl. Group SA_035946.txt\",\"Coca-Cola HBC AG_0280F6.txt\",\"Persimmon PLC_029896.txt\",\"TUI AG_02821N.txt\",\"Severn Trent PLC_035941.txt\",\"National Grid PLC_035983.txt\",\"D S Smith PLC_030126.txt\",\"Persimmon PLC_029896.txt\",\"Legal - General Group PLC_035990.txt\",\"Imperial Brands Plc_035932.txt\",\"D S Smith PLC_030126.txt\",\"Royal Dutch Shell B_035968.txt\",\"Persimmon PLC_029896.txt\",\"Coca-Cola HBC AG_0280F6.txt\",\"Quilter Plc_0282I8.txt\",\"BT Group PLC_036000.txt\",\"Compass Group PLC_035981.txt\",\"Antofagasta PLC_028149.txt\",\"Legal - General Group PLC_035990.txt\",\"Coca-Cola HBC AG_0280F6.txt\",\"Compass Group PLC_035981.txt\",\"Compass Group PLC_035981.txt\",\"Imperial Brands Plc_035932.txt\",\"British American Tobacco PLC_035924.txt\",\"Land Securities Group PLC_035991.txt\",\"Rolls Royce Holdings PLC_035902.txt\",\"Compass Group PLC_035981.txt\",\"Micro Focus International PLC_02803D.txt\",\"Rio Tinto PLC_035988.txt\",\"National Grid PLC_035983.txt\",\"Intertek Group_029309.txt\",\"Segro PLC_030122.txt\",\"Standard Life Aberdeen Plc_036365.txt\",\"Severn Trent PLC_035941.txt\",\"Land Securities Group PLC_035991.txt\",\"Marks - Spencer Group PLC_035972.txt\",\"Morrison Supermarkets plc_035940.txt\",\"National Grid PLC_035983.txt\",\"Micro Focus International PLC_02803D.txt\",\"Land Securities Group PLC_035991.txt\",\"CRH PLC_028592.txt\",\"InterContinental Hotels Group_028005.txt\",\"United Utilities Group PLC_036341.txt\",\"GlaxoSmithKline PLC_035911.txt\",\"Johnson Matthey_035962.txt\",\"British Land Co. PLC- The_035967.txt\",\"Internat. Cons. Airl. Group SA_035946.txt\",\"3i Group PLC_035999.txt\",\"Severn Trent PLC_035941.txt\",\"Compass Group PLC_035981.txt\",\"Experian PLC_036355.txt\",\"Marks - Spencer Group PLC_035972.txt\",\"Royal Dutch Shell B_035968.txt\",\"Severn Trent PLC_035941.txt\",\"Legal - General Group PLC_035990.txt\",\"Experian PLC_036355.txt\",\"Johnson Matthey_035962.txt\",\"Compass Group PLC_035981.txt\",\"Marks - Spencer Group PLC_035972.txt\",\"Quilter Plc_0282I8.txt\",\"D S Smith PLC_030126.txt\",\"D S Smith PLC_030126.txt\",\"British Land Co. PLC- The_035967.txt\",\"Internat. Cons. Airl. Group SA_035946.txt\",\"D S Smith PLC_030126.txt\",\"Antofagasta PLC_028149.txt\",\"Experian PLC_036355.txt\",\"Micro Focus International PLC_02803D.txt\",\"Standard Life Aberdeen Plc_036365.txt\",\"D S Smith PLC_030126.txt\",\"Standard Life Aberdeen Plc_036365.txt\",\"Intertek Group_029309.txt\",\"Persimmon PLC_029896.txt\",\"Experian PLC_036355.txt\",\"British Land Co. PLC- The_035967.txt\",\"D S Smith PLC_030126.txt\",\"Internat. Cons. Airl. Group SA_035946.txt\",\"ITV_035984.txt\",\"Intertek Group_029309.txt\",\"Legal - General Group PLC_035990.txt\",\"Paddy Power Betfair PLC_029791.txt\",\"Persimmon PLC_029896.txt\",\"Diageo PLC_035994.txt\",\"Internat. Cons. Airl. Group SA_035946.txt\",\"British Land Co. PLC- The_035967.txt\",\"British Land Co. PLC- The_035967.txt\",\"Micro Focus International PLC_02803D.txt\",\"Legal - General Group PLC_035990.txt\",\"Coca-Cola HBC AG_0280F6.txt\",\"British Land Co. PLC- The_035967.txt\",\"Segro PLC_030122.txt\",\"Royal Dutch Shell B_035968.txt\",\"British American Tobacco PLC_035924.txt\",\"Croda International_028589.txt\",\"Compass Group PLC_035981.txt\",\"Segro PLC_030122.txt\",\"D S Smith PLC_030126.txt\",\"Smiths Group_035958.txt\",\"Legal - General Group PLC_035990.txt\",\"Compass Group PLC_035981.txt\",\"Antofagasta PLC_028149.txt\",\"Marks - Spencer Group PLC_035972.txt\",\"Compass Group PLC_035981.txt\",\"Imperial Brands Plc_035932.txt\",\"Coca-Cola HBC AG_0280F6.txt\",\"D S Smith PLC_030126.txt\",\"Lloyds Banking Group PLC_035948.txt\",\"Compass Group PLC_035981.txt\",\"Admiral Group_036346.txt\",\"Legal - General Group PLC_035990.txt\",\"Legal - General Group PLC_035990.txt\",\"Aviva PLC_035907.txt\",\"BT Group PLC_036000.txt\",\"Legal - General Group PLC_035990.txt\",\"British Land Co. PLC- The_035967.txt\",\"D S Smith PLC_030126.txt\",\"D S Smith PLC_030126.txt\",1,\"RELX PLC_035970.txt\",\"Internat. Cons. Airl. Group SA_035946.txt\",\"Land Securities Group PLC_035991.txt\",\"Standard Life Aberdeen Plc_036365.txt\",\"Severn Trent PLC_035941.txt\",\"BT Group PLC_036000.txt\",\"Legal - General Group PLC_035990.txt\",\"Quilter Plc_0282I8.txt\",\"Compass Group PLC_035981.txt\",\"Centrica PLC_035920.txt\",\"Legal - General Group PLC_035990.txt\",\"Severn Trent PLC_035941.txt\",\"Persimmon PLC_029896.txt\",\"D S Smith PLC_030126.txt\",\"Persimmon PLC_029896.txt\",\"Severn Trent PLC_035941.txt\",\"BT Group PLC_036000.txt\",\"Quilter Plc_0282I8.txt\",\"Imperial Brands Plc_035932.txt\",\"Antofagasta PLC_028149.txt\",\"BT Group PLC_036000.txt\",\"Croda International_028589.txt\",\"Antofagasta PLC_028149.txt\",\"Persimmon PLC_029896.txt\",\"Land Securities Group PLC_035991.txt\",\"Compass Group PLC_035981.txt\",\"British Land Co. PLC- The_035967.txt\",\"ITV_035984.txt\",\"Scottish Mortgage Investment Trust plc_030137.txt\",\"Persimmon PLC_029896.txt\",\"British Land Co. PLC- The_035967.txt\",\"Barclays PLC_035976.txt\",\"Coca-Cola HBC AG_0280F6.txt\",\"Imperial Brands Plc_035932.txt\",\"Compass Group PLC_035981.txt\",\"Barclays PLC_035976.txt\",\"Compass Group PLC_035981.txt\",\"D S Smith PLC_030126.txt\",\"Astrazeneca PLC_035998.txt\",\"Standard Life Aberdeen Plc_036365.txt\",\"Compass Group PLC_035981.txt\",\"Experian PLC_036355.txt\",\"D S Smith PLC_030126.txt\",\"Johnson Matthey_035962.txt\",\"Internat. Cons. Airl. Group SA_035946.txt\",\"Micro Focus International PLC_02803D.txt\",\"Micro Focus International PLC_02803D.txt\",\"Johnson Matthey_035962.txt\",\"Quilter Plc_0282I8.txt\",\"Segro PLC_030122.txt\",\"Rolls Royce Holdings PLC_035902.txt\",\"Persimmon PLC_029896.txt\",\"Compass Group PLC_035981.txt\",\"GlaxoSmithKline PLC_035911.txt\",\"United Utilities Group PLC_036341.txt\",\"Imperial Brands Plc_035932.txt\",\"RELX PLC_035970.txt\",\"Antofagasta PLC_028149.txt\",\"D S Smith PLC_030126.txt\",\"Royal Dutch Shell B_035968.txt\",\"Legal - General Group PLC_035990.txt\",\"D S Smith PLC_030126.txt\",\"Persimmon PLC_029896.txt\",\"Imperial Brands Plc_035932.txt\",\"Legal - General Group PLC_035990.txt\",\"D S Smith PLC_030126.txt\",\"Persimmon PLC_029896.txt\",\"Antofagasta PLC_028149.txt\",\"BT Group PLC_036000.txt\",\"Legal - General Group PLC_035990.txt\",\"Standard Life Aberdeen Plc_036365.txt\",\"Segro PLC_030122.txt\",\"Experian PLC_036355.txt\",\"Compass Group PLC_035981.txt\",\"Compass Group PLC_035981.txt\",\"Legal - General Group PLC_035990.txt\",\"Experian PLC_036355.txt\",\"Compass Group PLC_035981.txt\",\"Compass Group PLC_035981.txt\",\"Persimmon PLC_029896.txt\",\"Compass Group PLC_035981.txt\",\"Coca-Cola HBC AG_0280F6.txt\",\"British American Tobacco PLC_035924.txt\",\"D S Smith PLC_030126.txt\",\"RELX PLC_035970.txt\",\"Compass Group PLC_035981.txt\",\"Persimmon PLC_029896.txt\",\"D S Smith PLC_030126.txt\",\"Compass Group PLC_035981.txt\",\"Experian PLC_036355.txt\",\"TUI AG_02821N.txt\",\"Land Securities Group PLC_035991.txt\",\"Intertek Group_029309.txt\",\"Coca-Cola HBC AG_0280F6.txt\",\"Imperial Brands Plc_035932.txt\",\"British American Tobacco PLC_035924.txt\",\"Legal - General Group PLC_035990.txt\",\"Compass Group PLC_035981.txt\",\"D S Smith PLC_030126.txt\",\"Intertek Group_029309.txt\",\"BT Group PLC_036000.txt\",\"Johnson Matthey_035962.txt\",\"Severn Trent PLC_035941.txt\",\"Admiral Group_036346.txt\",1,\"Severn Trent PLC_035941.txt\",\"Experian PLC_036355.txt\",\"Segro PLC_030122.txt\",\"Land Securities Group PLC_035991.txt\",\"Severn Trent PLC_035941.txt\",\"Vodafone Group PLC_035943.txt\",\"BT Group PLC_036000.txt\",\"Persimmon PLC_029896.txt\",\"Compass Group PLC_035981.txt\",\"RELX PLC_035970.txt\",\"Internat. Cons. Airl. Group SA_035946.txt\",\"Scottish - Southern Energy Plc_035985.txt\",\"D S Smith PLC_030126.txt\",\"Legal - General Group PLC_035990.txt\",\"Legal - General Group PLC_035990.txt\",\"Legal - General Group PLC_035990.txt\",\"Johnson Matthey_035962.txt\"],\"rate_change\":{\"__ndarray__\":\"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\",\"dtype\":\"float64\",\"order\":\"little\",\"shape\":[3272]},\"timestamps\":[580,535,375,730,460,685,585,590,605,540,460,455,460,415,535,555,760,710,465,535,460,540,895,460,465,465,465,465,585,365,1195,605,465,1200,475,465,1495,540,605,510,670,500,380,555,225,45,340,460,460,465,465,605,675,390,1200,455,460,1265,940,460,275,975,1485,590,565,585,460,535,605,1200,1200,280,535,1195,640,470,675,485,395,670,510,1195,265,160,335,390,1025,580,220,1285,675,250,235,510,1200,1200,1320,535,685,675,445,505,580,985,1315,265,405,460,670,830,265,305,495,580,265,460,460,455,1310,735,460,1320,1075,485,485,675,1245,495,495,370,565,265,675,375,480,335,495,1485,1480,220,495,460,220,1485,410,570,675,565,505,980,360,1230,1315,375,465,585,1195,890,590,460,555,380,910,1480,500,460,540,470,600,460,835,680,225,470,985,1140,830,585,860,900,1075,1315,610,535,505,495,880,290,1315,575,415,530,390,460,525,595,620,265,485,225,700,1320,575,1200,765,295,285,560,610,315,985,265,380,825,190,460,545,460,565,825,445,90,675,455,1380,535,885,230,555,1195,675,1485,665,930,480,490,460,585,330,555,525,930,1460,485,555,460,345,460,540,360,375,700,505,680,640,185,460,370,460,1195,465,715,760,260,460,1310,390,1430,530,1200,980,610,455,220,250,25,505,460,1460,960,500,1195,680,220,700,920,535,700,950,470,1125,365,365,560,1180,385,225,690,745,465,690,405,750,490,455,980,1400,265,590,505,640,485,1195,930,1170,575,465,1195,580,410,600,230,560,700,265,230,460,825,1235,490,315,325,870,1185,405,445,1200,455,490,690,935,1055,395,385,1025,405,675,220,665,660,1200,1340,870,690,535,615,675,580,670,470,1025,1315,435,1485,510,65,1195,460,715,460,1075,535,920,1485,1320,1195,450,575,230,570,160,910,870,480,270,965,445,495,310,525,870,1250,455,675,505,560,610,985,705,455,505,305,870,565,870,1245,555,270,385,345,435,585,1165,670,375,265,185,490,350,865,455,185,870,305,785,830,1395,310,460,675,375,665,645,785,1365,605,930,265,465,205,505,990,250,505,570,590,395,455,390,1085,330,1220,295,1060,460,1325,1200,230,580,1200,440,575,675,530,480,585,1320,150,595,405,1400,1060,800,1320,555,340,505,925,910,485,305,530,490,1395,825,575,1195,65,490,495,1195,265,505,1200,735,500,1330,360,530,825,525,265,405,415,1195,1090,310,1485,515,305,1280,265,355,670,345,675,405,250,160,665,1340,1195,475,570,570,875,975,605,530,510,475,420,675,560,305,1310,820,1195,360,1275,665,485,530,1200,1140,610,595,490,1430,160,220,825,590,445,675,315,390,110,375,305,405,515,85,820,1265,220,350,1200,635,655,1275,145,1195,345,480,1540,20,1130,1195,605,470,220,565,440,1200,495,690,305,550,1195,1315,1525,725,310,1095,605,270,1130,385,185,1400,570,665,1005,1200,460,180,265,405,350,1250,1200,690,505,400,910,930,480,870,605,25,495,1025,800,760,545,450,715,1200,1315,870,390,200,805,55,1400,550,225,1520,335,475,375,395,1225,190,225,230,150,505,1195,620,90,920,455,405,615,385,315,710,465,820,1485,1310,930,330,145,520,85,460,585,790,635,545,390,470,265,415,375,660,145,415,615,220,245,590,385,565,735,460,1510,690,465,1000,225,375,1195,630,270,185,575,1195,385,605,1195,1115,585,265,460,475,870,5,385,590,1200,1280,420,1340,505,515,495,1195,1055,415,915,1125,1275,135,270,545,735,715,880,1245,530,555,1315,1200,295,465,870,1245,880,360,590,675,725,485,165,480,555,390,270,1270,1030,535,280,445,1195,825,930,485,665,935,450,375,1460,1275,1275,530,690,340,800,715,615,400,190,320,435,110,465,435,1310,895,615,585,610,1395,570,630,190,1315,560,225,1455,390,590,25,1265,1555,310,465,545,1195,395,270,725,1555,900,555,1330,570,55,310,990,445,460,460,145,150,585,145,545,800,1260,895,1395,110,590,460,405,505,470,445,1440,490,560,1170,1545,625,675,195,1310,225,675,205,30,195,560,1005,350,1320,745,385,220,285,1395,930,25,405,320,285,245,1315,1170,595,380,115,205,1275,415,660,460,660,830,725,565,970,275,265,1275,745,1225,555,385,115,175,410,965,1535,760,1370,830,1485,1200,440,230,55,670,510,1030,275,25,225,230,445,1195,650,440,1025,1395,1240,830,1400,195,285,835,1245,460,1130,1510,1510,405,375,145,25,455,840,190,105,590,320,720,145,625,335,725,1025,1080,1460,1225,935,270,645,1200,525,585,1135,605,985,230,100,1030,1105,565,1245,960,50,1195,745,1195,1535,155,940,1265,525,650,190,1435,385,145,1245,1320,480,560,810,880,1200,275,735,1220,825,565,230,1355,220,225,700,560,455,665,230,1145,735,310,1215,325,640,570,1215,670,270,750,290,1095,1280,825,680,220,60,515,285,820,240,705,735,770,140,870,1195,375,1320,480,670,565,510,265,285,145,305,460,1375,1520,990,825,380,585,410,230,145,1425,1315,1195,1365,390,945,1050,150,310,385,365,510,1315,1530,615,700,485,125,250,630,820,1230,75,800,485,210,1145,225,920,1035,1435,240,1095,1510,965,1460,305,40,265,1080,1010,1025,1330,1245,325,700,435,80,665,525,565,1315,1545,365,665,145,125,475,1400,315,420,965,100,175,1320,180,115,55,280,1185,1370,720,305,635,725,390,1165,375,265,565,270,780,535,1545,405,490,1445,815,50,250,100,40,275,1430,1480,1395,1075,1490,405,1220,1525,1225,1160,1400,640,845,550,385,775,1365,460,925,1080,270,910,325,700,560,220,330,1405,1105,690,1190,560,430,450,755,1330,770,700,385,1110,1280,380,960,1395,205,160,1025,1240,610,485,1025,220,610,145,1170,305,575,615,715,630,835,750,45,250,270,735,560,425,1210,345,40,1330,315,160,190,1030,870,745,1400,825,285,925,400,390,530,445,1195,480,985,415,380,1285,690,960,1125,150,1460,390,610,330,1325,595,1270,800,1085,610,1460,400,925,1195,405,1545,195,1485,250,910,1055,1035,820,60,1310,615,1200,805,675,320,560,605,955,380,690,1485,1025,110,870,1395,1355,1530,145,455,505,560,375,145,880,520,185,1255,820,1255,1370,800,385,1080,235,145,505,515,905,265,300,460,305,1395,515,735,870,825,825,770,1305,230,1395,980,1390,690,1330,825,375,270,1025,565,1370,45,1400,1245,1355,205,115,1455,605,880,1055,705,1150,505,1120,1275,975,620,935,910,450,1540,10,435,145,930,415,690,375,1195,1330,440,405,1275,1200,275,275,1315,965,1435,265,705,445,175,950,1465,430,1460,550,175,790,50,245,220,235,1550,380,120,960,630,975,205,1520,1245,980,1200,390,770,535,845,705,200,1245,220,520,180,1300,1135,55,1080,740,270,255,965,1400,100,270,1195,1130,505,965,145,1095,1020,265,1460,310,665,410,575,1255,1000,185,705,1310,300,1280,330,610,935,375,185,880,1465,505,230,800,1455,1365,165,970,1085,690,965,275,965,835,965,320,1035,1425,1325,975,195,330,890,160,730,1475,250,530,830,635,1035,285,825,690,200,1435,405,1050,305,1425,1320,120,1315,270,385,590,145,160,320,1430,1155,700,1255,770,1255,940,960,220,605,1020,205,530,1025,880,825,15,1365,555,870,640,250,420,955,415,360,1425,220,1085,385,1440,190,1315,1480,755,900,985,235,125,1105,1330,690,955,210,1500,825,465,1280,1460,910,705,705,125,1440,825,380,265,100,930,1025,110,280,225,725,1440,860,1505,270,720,905,525,115,185,1550,270,790,230,110,270,310,1545,990,1360,495,185,535,1245,515,985,750,1340,705,1460,1000,1455,1180,405,180,100,940,1195,820,400,770,1195,250,80,220,40,145,1030,1180,370,590,1060,265,1095,525,1265,40,350,615,980,220,230,440,1555,440,565,325,305,1405,320,940,665,400,310,400,910,980,1050,1000,1245,1355,640,1045,1005,725,1100,840,1330,140,745,955,1555,30,110,1485,1295,385,840,985,205,235,1305,880,690,690,1495,75,965,665,370,700,640,825,285,1305,95,720,1425,330,95,765,1355,745,1280,1340,1460,415,960,1025,255,305,1240,1290,795,700,205,325,640,445,1310,1360,385,570,1110,1275,690,355,1400,220,540,1540,190,805,1085,110,1080,1050,1515,1315,660,415,1350,1535,1055,275,870,1280,205,825,175,1260,1415,405,1335,1115,840,205,390,270,360,515,1245,400,70,495,285,1000,380,810,150,520,1540,930,940,265,150,690,1395,370,1025,815,1240,965,1065,395,140,1475,860,1215,700,995,985,150,1170,60,415,980,925,700,1170,325,145,920,90,845,130,910,140,675,315,790,1535,795,530,190,1485,585,1350,1245,1380,920,895,270,945,505,310,1330,1200,375,235,1200,765,1435,1000,210,1325,120,85,1100,540,1125,1520,1210,390,365,435,155,480,1305,385,870,1425,1180,1395,745,365,470,250,1330,315,1080,600,295,110,435,125,765,960,145,285,690,255,700,275,870,1425,1495,185,815,25,5,255,25,960,1505,640,705,515,180,835,1435,495,770,960,1455,150,1545,1545,165,1155,270,985,1160,1310,265,375,1020,830,820,910,370,1290,1070,1245,255,1195,285,1105,1460,560,1390,200,1245,1505,815,870,770,145,310,140,200,460,1340,375,1300,305,865,755,265,45,55,1465,960,10,615,1125,360,1025,840,795,1235,1435,665,185,830,1220,1480,900,1305,320,840,1105,1015,1490,1350,830,525,1140,1395,290,1405,170,1085,1460,435,1355,435,5,495,40,1305,775,1200,1145,1245,290,1035,60,940,1025,920,970,1400,1155,1525,1005,965,1435,245,275,10,985,1095,225,10,445,710,1555,1030,1135,280,785,900,595,5,1205,1095,1150,1500,1160,460,55,90,750,1245,1315,240,265,605,1490,1105,300,245,1055,700,145,75,1435,900,315,270,1145,800,615,1400,360,1075,1350,180,865,640,1025,390,1095,365,800,615,1235,150,1240,25,275,1300,125,1480,740,895,405,910,300,1145,150,1485,900,215,80,1035,920,1370,275,1050,145,1485,1335,1005,110,1285,25,1155,280,70,1315,1175,930,160,1330,1210,405,190,110,235,195,710,425,240,815,730,30,800,715,95,900,375,665,370,960,1060,345,30,505,1035,1295,200,1235,510,1330,1055,1245,480,240,255,1140,1545,405,230,700,1325,455,990,1095,305,1125,880,860,785,835,505,580,785,1510,1330,1485,240,1070,1245,1360,770,125,190,740,120,110,1235,25,155,60,600,505,195,1255,295,605,1155,745,1120,965,1300,205,1140,100,1390,775,1505,1075,1425,355,680,1455,560,1135,440,1090,30,1330,1030,975,1540,1305,415,955,1125,1555,570,605,1025,445,1450,295,960,1120,1105,1545,930,435,1180,170,880,1225,565,1170,825,1225,850,1170,205,1400,1015,25,20,870,1435,645,1355,215,430,1105,115,1255,1540,1315,1305,1330,880,1180,1350,745,420,1395,590,425,420,675,310,1535,990,190,705,325,160,1005,1150,335,1545,1170,640,890,815,240,800,980,185,930,1050,615,125,935,1280,875,1370,1400,1080,1290,85,175,550,1175,605,25,1270,305,1415,800,20,1520,375,185,1340,1330,1030,800,240,1070,815,1390,1430,680,1520,200,40,915,1215,190,985,1490,875,1285,1060,1170,375,610,125,665,1545,125,955,820,85,1285,1380,1050,840,180,1270,1275,1170,1090,560,1130,135,75,650,345,1000,1460,360,1465,25,1545,1245,880,920,870,840,1310,1135,325,400,235,1465,1120,190,1335,320,65,1315,1170,230,1125,1420,920,45,1245,960,175,400,855,755,335,265,130,1175,1535,145,1135,375,1130,1310,350,1370,310,1335,1240,535,1115,350,1170,80,1005,1545,1385,285,125,775,245,1230,965,705,265,25,90,210,1215,275,145,65,1110,545,710,225,505,270,1480,160,1455,565,1010,375,675,90,1435,1335,1175,815,1225,795,1360,375,1125,15,995,225,1545,865,40,1425,145,120,155,1055,1050,700,1290,1130,1200,1425,1335,1125,1040,545,1070,195,1180,1370,95,1280,90,955,250,125,1260,1025,1435,1555,240,640,1405,1315,320,125,160,1025,365,100,1545,980,765,1310,870,955,75,930,45,40,880,1420,1150,1115,750,1070,185,230,1480,405,1395,610,270,360,1160,190,1365,460,1485,65,555,920,1175,345,1055,985,585,180,1055,725,1090,925,1145,790,45,985,350,145,1545,150,360,1505,880,415,800,1010,190,1400,1315,865,1455,415,445,380,1275,75,915,155,670,390,745,1510,1095,1555,795,780,890,160,65,100,195,725,870,765,1255,1490,1355,420,725,1425,1135,120,975,1125,1305,1030,100,910,1345,1035,1215,1180,1340,860,510,755,870,920,425,305,1450,50,360,300,795,1450,775,770,940,875,10,1020,455,55,960,55,345,110,55,1280,65,1510,25,855,1315,1285,1105,380,955,785,745,360,1175,955,720,750,310,775,135,1435,910,160,615,1285,135,1460,550,245,440,1380,1025,420,825,670,1420,150,1345,970,305,1240,1035,1295,645,1250,1300,1215,1210,1155,775,1510,1510,1200,1080,825,1080,1075,1260,1330,1435,965,300,185,1130,1250,65,320,1460,800,460,70,1195,1035,265,1350,1515,770,640,30,855,265,240,980,920,990,1340,935,300,130,1380,445,1150,135,1010,380,40,770,380,155,1515,965,1285,1215,1435,1410,1290,1380,1195,90,1105,55,520,675,1375,145,185,1495,1515,690,360,1420,960,1420,1010,1275,755,10,340,1135,1525,250,1280,95,865,1280,605,665,295,820,120,665,825,1135,100,345,415,1330,620,160,855,725,1485,1035,785,1465,1135,315,1235,1460,1215,255,385,1400,1400,990,1460,1425,715,1215,1535,1115,50,90,340,1255,1555,205,950,1415,1420,330,255,940,315,1290,1265,1435,1335,1275,1050,1060,100,105,375,55,1540,630,705,1080,1420,180,1110,1330,1435,1035,120,10,665,250,855,1020,1285,510,250,40,200,80,735,745,1050,335,1435,1175,65,370,940,700,130,1405,1420,320,285,195,730,965,615,1065,420,1510,870,725,1080,780,1105,1000,175,520,40,310,590,1355,1555,1535,40,65,1420,180,935,30,360,205,435,175,1020,1440,15,375,85,165,660,795,40,1540,175,345,945,1555,645,965,1325,1105,1065,1320,920,1420,1290,1265,335,920,1510,505,1260,1155,120,995,1205,1500,1095,930,1445,880,1070,25,1435,1155,70,785,1435,1555,130,565,1280,1430,25,905,1495,55,1185,755,1230,285,25,1545,1050,250,640,770,930,1460,1305,175,1130,690,1370,55,695,725,720,800,340,1070,1550,690,65,85,10,1480,1335,1505,875,1470,1180,870,1530,1425,1215,965,205,1065,1540,865,705,65,385,105,235,1305,1065,75,995,1560,840,1385,245,795,825,35,1095,370,250,1445,1385,800,1010,810,185,1300,555,1335,130,1510,1050,130,710,825,115,775,1025,795,130,1045,1085,1475,35,670,1530,130,1300,1460,1150,1555,1095,845,345,1495,1255,1535,715,145,1055,340,540,1005,1425,1275,1330,1560,305,900,425,1070,860,1025,1235,80,740,1285,1485,1060,140,1500,1335,985,25,375,390,75,75,1420,1175,40,1085,1390,55,175,35,1285,170,210,265,25,1505,85,1120,1000,820,725,435,1255,1235,1420,755,160,1535,920,25,30,1540,1450,1435,1125,250,585,1175,1055,980,1505,110,765,690,355,175,255,1160,1120,1355,25,825,325,1035,1010,1360,55,565,25,110,965,130,230,125,900,1530,900,1355,290,900,30,1080,25,1080,1510,1435,1000,110,420,655,40,1315,505,860,935,775,1545,680,1300,1360,450,335,1200,1045,1060,955,1200,55,1045,1000,1095,1350,1490,1155,1490,185,750,85,1425,85,340,1030,1165,1465,1480,745,1135,60,135,435,635,1230,890,1330,1375,330,1145,1460,1125,1525,145,825,920,75,180,1500,1510,1315,225,1250,1435,1160,1380,1455,1245,795,700,140,1280,1530,1125,830,120,1000,1500,1535,1480,80,865,1405,1500,40,1240,910,840,65,75,130,1470,1400,675,1055,1180,630,1000,1460,800,1035,85,1455,100,1445,170,1455,985,40,1510,1135,1475,85,1300,1240,1335,1410,1010,755,995,1325,200,1455,845,1060,1160,785,125,1060,960,935,1115,1550,1035,1455,1515,975,1485,1535,840,5,765,1345,1175,1365,1460,1395,100,925,1345,1320,1465,1395,1525,790,775,1550,25,1205,1510,1120,1505,225,30,1115,1005,1390,1475,1010,700,20,1180,120,1380,930,1365,1505,80]},\"selected\":{\"id\":\"1003\"},\"selection_policy\":{\"id\":\"1045\"}},\"id\":\"1002\",\"type\":\"ColumnDataSource\"},{\"attributes\":{\"format\":\"%Y-%m-%d %H:%M:%S\"},\"id\":\"1030\",\"type\":\"DateFormatter\"},{\"attributes\":{\"client_comm_id\":\"bf0076e3e9da42978766bc0527c61aef\",\"comm_id\":\"8ffe0ecae0fd482c9841c9250f3b6a0c\",\"plot_id\":\"1040\"},\"id\":\"1050\",\"type\":\"panel.models.comm_manager.CommManager\"},{\"attributes\":{\"editor\":{\"id\":\"1021\"},\"field\":\"dir_rate_change\",\"formatter\":{\"id\":\"1020\"},\"title\":\"dir_rate_change\",\"width\":150},\"id\":\"1022\",\"type\":\"TableColumn\"},{\"attributes\":{},\"id\":\"1004\",\"type\":\"NumberFormatter\"},{\"attributes\":{},\"id\":\"1016\",\"type\":\"NumberEditor\"},{\"attributes\":{},\"id\":\"1031\",\"type\":\"DateEditor\"},{\"attributes\":{\"indices\":[]},\"id\":\"1003\",\"type\":\"Selection\"},{\"attributes\":{\"reload\":false},\"id\":\"1057\",\"type\":\"panel.models.location.Location\"},{\"attributes\":{},\"id\":\"1010\",\"type\":\"StringFormatter\"},{\"attributes\":{},\"id\":\"1035\",\"type\":\"NumberFormatter\"},{\"attributes\":{\"editor\":{\"id\":\"1031\"},\"field\":\"date\",\"formatter\":{\"id\":\"1030\"},\"title\":\"date\",\"width\":150},\"id\":\"1032\",\"type\":\"TableColumn\"},{\"attributes\":{},\"id\":\"1045\",\"type\":\"UnionRenderers\"},{\"attributes\":{},\"id\":\"1036\",\"type\":\"IntEditor\"},{\"attributes\":{\"source\":{\"id\":\"1002\"}},\"id\":\"1042\",\"type\":\"CDSView\"},{\"attributes\":{\"editor\":{\"id\":\"1036\"},\"field\":\"cluster label\",\"formatter\":{\"id\":\"1035\"},\"title\":\"cluster label\",\"width\":150},\"id\":\"1037\",\"type\":\"TableColumn\"},{\"attributes\":{\"editor\":{\"id\":\"1011\"},\"field\":\"timestamps\",\"formatter\":{\"id\":\"1010\"},\"title\":\"timestamps\",\"width\":150},\"id\":\"1012\",\"type\":\"TableColumn\"},{\"attributes\":{},\"id\":\"1011\",\"type\":\"StringEditor\"},{\"attributes\":{\"editor\":{\"id\":\"1016\"},\"field\":\"rate_change\",\"formatter\":{\"id\":\"1015\"},\"title\":\"rate_change\",\"width\":150},\"id\":\"1017\",\"type\":\"TableColumn\"},{\"attributes\":{\"format\":\"0,0.0[00000]\"},\"id\":\"1015\",\"type\":\"NumberFormatter\"},{\"attributes\":{},\"id\":\"1006\",\"type\":\"CellEditor\"}],\"root_ids\":[\"1040\",\"1050\",\"1057\"]},\"title\":\"Bokeh Application\",\"version\":\"2.3.3\"}};\n",
       "    var render_items = [{\"docid\":\"9936d053-b70b-4569-b356-d68beb59079c\",\"root_ids\":[\"1040\"],\"roots\":{\"1040\":\"cc854c40-59ff-4c92-9784-4347c60eb455\"}}];\n",
       "    root.Bokeh.embed.embed_items_notebook(docs_json, render_items);\n",
       "  }\n",
       "  if (root.Bokeh !== undefined && root.Bokeh.Panel !== undefined) {\n",
       "    embed_document(root);\n",
       "  } else {\n",
       "    var attempts = 0;\n",
       "    var timer = setInterval(function(root) {\n",
       "      if (root.Bokeh !== undefined && root.Bokeh.Panel !== undefined) {\n",
       "        clearInterval(timer);\n",
       "        embed_document(root);\n",
       "      } else if (document.readyState == \"complete\") {\n",
       "        attempts++;\n",
       "        if (attempts > 100) {\n",
       "          clearInterval(timer);\n",
       "          console.log(\"Bokeh: ERROR: Unable to run BokehJS code because BokehJS library is missing\");\n",
       "        }\n",
       "      }\n",
       "    }, 10, root)\n",
       "  }\n",
       "})(window);</script>"
      ],
      "text/plain": [
       "DataFrame(autosize_mode='fit_viewport', frozen_columns=0, height=300, sizing_mode='fixed', value=     timestamps  ..., width=600, widths=150)"
      ]
     },
     "metadata": {
      "application/vnd.holoviews_exec.v0+json": {
       "id": "1040"
      }
     },
     "output_type": "display_data"
    }
   ],
   "source": [
    "fig1 = pn.widgets.DataFrame(changes,\n",
    "                           height=300,\n",
    "                           widths=150,\n",
    "                           width=600,\n",
    "                           frozen_columns=0,\n",
    "                           autosize_mode='fit_viewport')\n",
    "\n",
    "display(fig1)"
   ]
  },
  {
   "cell_type": "markdown",
   "id": "b44c873b",
   "metadata": {},
   "source": [
    "#### Detected clusters"
   ]
  },
  {
   "cell_type": "code",
   "execution_count": 17,
   "id": "401bde38",
   "metadata": {},
   "outputs": [
    {
     "data": {},
     "metadata": {},
     "output_type": "display_data"
    },
    {
     "data": {
      "application/vnd.holoviews_exec.v0+json": "",
      "text/html": [
       "<div id='1122'>\n",
       "\n",
       "\n",
       "\n",
       "\n",
       "\n",
       "  <div class=\"bk-root\" id=\"eb5ca9a0-b657-4a66-96af-255da7c52b77\" data-root-id=\"1122\"></div>\n",
       "</div>\n",
       "<script type=\"application/javascript\">(function(root) {\n",
       "  function embed_document(root) {\n",
       "    var docs_json = {\"274361c3-a979-4281-ab2f-10e4c79c6e0b\":{\"defs\":[],\"roots\":{\"references\":[{\"attributes\":{},\"id\":\"1103\",\"type\":\"NumberEditor\"},{\"attributes\":{},\"id\":\"1093\",\"type\":\"NumberEditor\"},{\"attributes\":{},\"id\":\"1097\",\"type\":\"NumberFormatter\"},{\"attributes\":{\"format\":\"0,0.0[00000]\"},\"id\":\"1107\",\"type\":\"NumberFormatter\"},{\"attributes\":{\"editor\":{\"id\":\"1103\"},\"field\":\"cluster_abs_score\",\"formatter\":{\"id\":\"1102\"},\"title\":\"cluster_abs_score\",\"width\":150},\"id\":\"1104\",\"type\":\"TableColumn\"},{\"attributes\":{},\"id\":\"1108\",\"type\":\"NumberEditor\"},{\"attributes\":{},\"id\":\"1088\",\"type\":\"NumberEditor\"},{\"attributes\":{\"format\":\"0,0.0[00000]\"},\"id\":\"1092\",\"type\":\"NumberFormatter\"},{\"attributes\":{\"editor\":{\"id\":\"1088\"},\"field\":\"min_timestamp\",\"formatter\":{\"id\":\"1087\"},\"title\":\"min_timestamp\",\"width\":150},\"id\":\"1089\",\"type\":\"TableColumn\"},{\"attributes\":{\"format\":\"%Y-%m-%d %H:%M:%S\"},\"id\":\"1112\",\"type\":\"DateFormatter\"},{\"attributes\":{\"editor\":{\"id\":\"1108\"},\"field\":\"cluster_dir_score\",\"formatter\":{\"id\":\"1107\"},\"title\":\"cluster_dir_score\",\"width\":150},\"id\":\"1109\",\"type\":\"TableColumn\"},{\"attributes\":{},\"id\":\"1068\",\"type\":\"CellEditor\"},{\"attributes\":{},\"id\":\"1113\",\"type\":\"DateEditor\"},{\"attributes\":{},\"id\":\"1083\",\"type\":\"NumberEditor\"},{\"attributes\":{\"format\":\"%Y-%m-%d %H:%M:%S\"},\"id\":\"1117\",\"type\":\"DateFormatter\"},{\"attributes\":{\"format\":\"0,0.0[00000]\"},\"id\":\"1087\",\"type\":\"NumberFormatter\"},{\"attributes\":{\"editor\":{\"id\":\"1113\"},\"field\":\"min_dates\",\"formatter\":{\"id\":\"1112\"},\"title\":\"min_dates\",\"width\":150},\"id\":\"1114\",\"type\":\"TableColumn\"},{\"attributes\":{\"editor\":{\"id\":\"1083\"},\"field\":\"dir_rate_change\",\"formatter\":{\"id\":\"1082\"},\"title\":\"dir_rate_change\",\"width\":150},\"id\":\"1084\",\"type\":\"TableColumn\"},{\"attributes\":{},\"id\":\"1118\",\"type\":\"DateEditor\"},{\"attributes\":{\"editor\":{\"id\":\"1093\"},\"field\":\"max_timestamp\",\"formatter\":{\"id\":\"1092\"},\"title\":\"max_timestamp\",\"width\":150},\"id\":\"1094\",\"type\":\"TableColumn\"},{\"attributes\":{\"editor\":{\"id\":\"1118\"},\"field\":\"max_dates\",\"formatter\":{\"id\":\"1117\"},\"title\":\"max_dates\",\"width\":150},\"id\":\"1119\",\"type\":\"TableColumn\"},{\"attributes\":{\"editor\":{\"id\":\"1098\"},\"field\":\"counts\",\"formatter\":{\"id\":\"1097\"},\"title\":\"counts\",\"width\":150},\"id\":\"1099\",\"type\":\"TableColumn\"},{\"attributes\":{},\"id\":\"1066\",\"type\":\"NumberFormatter\"},{\"attributes\":{},\"id\":\"1078\",\"type\":\"NumberEditor\"},{\"attributes\":{\"source\":{\"id\":\"1064\"}},\"id\":\"1124\",\"type\":\"CDSView\"},{\"attributes\":{\"format\":\"0,0.0[00000]\"},\"id\":\"1082\",\"type\":\"NumberFormatter\"},{\"attributes\":{\"editor\":{\"id\":\"1078\"},\"field\":\"rate_change\",\"formatter\":{\"id\":\"1077\"},\"title\":\"rate_change\",\"width\":150},\"id\":\"1079\",\"type\":\"TableColumn\"},{\"attributes\":{\"autosize_mode\":\"fit_viewport\",\"columns\":[{\"id\":\"1069\"},{\"id\":\"1074\"},{\"id\":\"1079\"},{\"id\":\"1084\"},{\"id\":\"1089\"},{\"id\":\"1094\"},{\"id\":\"1099\"},{\"id\":\"1104\"},{\"id\":\"1109\"},{\"id\":\"1114\"},{\"id\":\"1119\"}],\"editable\":true,\"frozen_columns\":0,\"height\":300,\"index_position\":null,\"margin\":[5,10,5,10],\"name\":\"\",\"row_height\":40,\"sizing_mode\":\"fixed\",\"source\":{\"id\":\"1064\"},\"view\":{\"id\":\"1124\"}},\"id\":\"1122\",\"type\":\"DataTable\"},{\"attributes\":{\"format\":\"0,0.0[00000]\"},\"id\":\"1102\",\"type\":\"NumberFormatter\"},{\"attributes\":{\"client_comm_id\":\"83c4cebc054e4adea95f2367ac73270e\",\"comm_id\":\"73eff9a091344db6b9c879887e2e0bee\",\"plot_id\":\"1122\"},\"id\":\"1132\",\"type\":\"panel.models.comm_manager.CommManager\"},{\"attributes\":{\"format\":\"0,0.0[00000]\"},\"id\":\"1077\",\"type\":\"NumberFormatter\"},{\"attributes\":{\"editor\":{\"id\":\"1068\"},\"field\":\"index\",\"formatter\":{\"id\":\"1066\"},\"title\":\"index\",\"width\":150},\"id\":\"1069\",\"type\":\"TableColumn\"},{\"attributes\":{},\"id\":\"1073\",\"type\":\"IntEditor\"},{\"attributes\":{\"data\":{\"cluster label\":[2,10,9,11,24,0,16,1,5,32,3,6,27,34,35,78,8,4,17,57,100,38,73,21,20,84,37,72,23,15,26,53,59,41,7,55,60,13,31,64,30,61,12,14,29,33,51,67,75,66,86,49,42,93,88,85,62,22,25,58,46,44,39,47,92,19,50,81,54,97,123,36,68,89,52,69,45,40,113,82,98,102,56,74,87,91,94,106,65,96,76,43,133,63,18,70,103,130,110,128,80,107,119,127,121,48,132,105,77,28,112,83,116,114,122,79,109,108,104,95,111,129,124,71,136,137,117,99,135,118,120,126,125,90,101,138,131,115,141,144,140,134,139,142,143],\"cluster_abs_score\":{\"__ndarray__\":\"rU1xTj2VJUDsp2l1f2oWQKv9ajoKwxVAaILOFxRIFEDOvv5n4hUSQLPk6r9n+xFAt392wbQCEUB055sRbEENQE71zYf+FgxAHGvFzd2aC0AN2LTvq3AJQM7ukVjxMQhAqNzK8ED3BkC9m3F1cvkFQK7vGCgo4gVAxgDzlvMjBUBzahlEVRkFQOK1S0DAlARAE4OwQBhfBEDnmFhVqVIEQFDAudrsFQRAjk7rHT6fA0BRM4OUivECQBaW6Gu16gJA7UkOs6XbAkCDd21jeYUCQOnf30BJDwJATCjT9cz9AUBa/gWuBagBQKdhgySubQFAu6FEOvNhAUBD6ByPCdcAQAZHbD270QBAE48oxljQAEDZeBQPjTAAQHWhcVrVGwBALRCgd3bG/T+6EBF25pj9PzgPOuMPgf0/CieGTF1Y/D+QTptQaPb7PycxznUZ8fs/AmKelhSV+z8rhc05cGb7P10It8ISZfs/RhIADi8Q+z/7d45Sh3z6P6OHqCUAdvo/ImpBnZCM+T+mYFP0MYX5P3qg1fu4Bfk/026WJWLz+D/ihBhvYcj4P5/jhfCYePg/eo01GXlo+D8mvjiCDfP3Pyp4fcb03fc/z4bAP3jP9z+pWJei+mb3P5zctVlqUfc/RoiAUbTt9j8s+CvN3Yv2P+uFve8YZPY/VkIULrBY9j9w/ilC4VD2P0Qgbk8RzfU/8h1/JTsn9T87aj36uSL1P26tW7Sv5vQ/9ddHwBnP9D8lCtx68Wn0P66k9LqfLvQ/KLZLyer98z8VoYC4/qHzP0sFgFO2k/M/zbuDVxhw8z9j63au2bjyPzuaNYxUjvI/WvQW4Ndi8j9tBQ4rgVfyP6fK+q3sMvI/KDmBldbk8T9vYK+ZC67xP5FGi8odUPE/LgNbYN4f8T+sVKtFow7xPxYxU9ur7vA/0k6IDHzF8D+OkE6r957wP3LMQfoClvA/xEtwFaQo8D8ek7cNHBzvP9LJLYC9DO8/KSkawPCD7j8Qnevf7PntP7IC5+n2vO0/nI9Gqt1l7T9/dKrUHwTtPwPnC4FS7Ow/Q6nB3vuq7D98Bngr4qrsP0dRwRAlfew//TRvkbR57D9uw2/STBvsP9bkMu9uhes/Jp+P7Y456z+jp9MnMJjqP5QgcEtoXuo/cLv2Y/YF6j92ufXgwoDpP57o84JyV+k/jp8xDqYM6T/T3qs6jbLoP5WOVP6BDeg/R54jet765z9Fa57hMNfnP3AXCFEvvuc/+rML8NR25z8yzYwgxCrnPxrVx1QQo+Y/b5F3CoCA5j93Uf6kx33mPy3m80AuIOY//ogw1rwa5j985XMBSevlPxRoK4I5SeU/gA40Ha8R5T+Kblxn7/fkPy7blblV8OQ/itR8ociq5D8/+QIU6ZnkP3vi0h0pieQ/E9D9V8Vr5D+zho/Rol7kP9j1zhw0/+M//Iwfj3/T4T/PNc+nSWfhP6PSIHZu7+A/JVxs3KOB4D8+m+bvxlHgP0pTReo4rt8/KrFgrXCX3z8nLiQAKt/cP9QP3FDfxNw/EJXiTLeV3D8=\",\"dtype\":\"float64\",\"order\":\"little\",\"shape\":[145]},\"cluster_dir_score\":{\"__ndarray__\":\"rU1xTj2VJcDsp2l1f2oWwKv9ajoKwxXAaILOFxRIFMA+4+vSa7kRwJu9UOpnew/AU5xmfwhbEECcRlTf0GcLwE71zYf+FgxAeNpsswGsCkBBJahLLBcHQM7ukVjxMQjAqNzK8ED3BsDgA1UjNBr6PxB9ao035QNAxgDzlvMjBcBzahlEVRkFwPhyhznQ1AFAdHg9zX3yAsCGt1U9TfUCQKRTdNRThQPAVUU0gaF01z9RM4OUivECQC8A3CD+ZwHA5Zgu5kUU+D+6cySathEAwOnf30BJDwLATCjT9cz9AcBa/gWuBagBwJOHNa0S8/e/u6FEOvNhAUB9F15yBBn+PwZHbD270QDAE48oxljQAEAsdyWoNy/6P3WhcVrVGwDALRCgd3bG/T96V0Uh+Ef3PzgPOuMPgf2/Pol5cawi+z8/sQ3knE37P3p9nnotFPU/bhJlcmd26b8dwJvEQPb5v66bd+i/4PW/Faq+E17V8j/7d45Sh3z6vxghoZORsPg/ImpBnZCM+b9JShTBISChP9bSVnOwAPO/1wG5WwMz9z/ihBhvYcj4P5/jhfCYePg/eo01GXlo+L8MIYTmYHz2Pyp4fcb03fe/BvtMJ3AX7b+pWJei+mb3vyB2Vw/pGPU/sI+K8reE8L9TtE6+wfbrP09lS7FIFPQ/VkIULrBY9r8mpzH21irwvyOCfVTr8+m/8h1/JTsn9b+NPrryBCnDPwtaUtZCQ9W/9ddHwBnP9L8lCtx68Wn0P66k9LqfLvQ/KLZLyer98z8K+hhambbev0sFgFO2k/M/zbuDVxhw8z9j63au2bjyPzuaNYxUjvK/WvQW4Ndi8j9YjtC2QSbWP7Eym99PzO+/3XyaGSKt6z/tGxb5rqvWv5FGi8odUPE/LgNbYN4f8T+sVKtFow7xvxYxU9ur7vA/0k6IDHzF8D/+BC+5DWzkP6g9BnrQYe4/xEtwFaQo8D/6C8+mfpLrP9LJLYC9DO+/r7qEZw834D9iz9nTEFnrv7IC5+n2vO0/nI9Gqt1l7b/t/vumrMXnvwPnC4FS7Ow/EN1SkA1b6D8MFWhuxSrSP/3FRHlsduk/eGPRb3HO4b9uw2/STBvsP+a+PXadFNI/VKJC3tlX2j/nHiCoLSrpP5QgcEtoXuq/cLv2Y/YF6j9FybOh9qTmPz3CdjAP+uA/jp8xDqYM6T8PSJWjcLLiP5WOVP6BDeg/R54jet765z9gmj7yqbfgP4pchonHs+M/M16cUJm03D9LI5W58RPVv4UohChB69E/b5F3CoCA5j9EPTTD7ryQPy3m80AuIOY/dc4Z8zZ34r985XMBSevlPxRoK4I5SeU/cnix34Sq4z8scvbUTK/gPy7blblV8OQ/itR8ociq5D9U2VIcOB2yP3vi0h0pieQ/E9D9V8Vr5D9SscV5nRXBv9j1zhw0/+M/mbYgijqYwj8fNyEmKUPJP/7bcLNLr9k/1iozOoEOtD8+m+bvxlHgP9Cwh5J6XqK/4gwHpxRl1z/Y58aezbWZP3ctXKNDH8E/EJXiTLeV3D8=\",\"dtype\":\"float64\",\"order\":\"little\",\"shape\":[145]},\"counts\":[49,40,20,34,35,16,26,30,20,28,17,17,22,26,24,27,15,16,20,28,31,15,25,19,20,25,22,22,13,18,24,22,20,24,17,18,19,12,16,24,13,18,11,15,19,17,13,26,19,19,17,13,12,22,18,21,10,15,16,17,16,11,13,15,19,14,16,15,15,15,23,11,17,16,10,17,12,10,18,14,16,15,11,14,14,13,15,17,12,12,13,11,18,10,10,14,14,15,12,15,13,16,14,13,14,12,15,10,10,11,13,13,13,10,12,10,10,13,11,10,13,12,11,11,11,11,12,12,11,11,12,10,11,10,10,11,11,10,11,12,10,10,10,11,10],\"dir_rate_change\":{\"__ndarray__\":\"Rb5fqqMwzL/wH+5dzO7Bv+/KiPvUaNG/rWvRf6kWw79HCsnWfzTAv5u9UOpne8+/F9QbiUUhxD9RS8B2iTu9v3L315/LeMY/ZWd8qG97vj95jOn7dLvFP5Wz49qXxca/Y0N8I9KzwL/FKb4VIBCwPxX8jbz0hro/LXwpLioOub97YF8EbIHGv/hyhznQ1ME/U1piSMlQvr/iGqtqoaq1P5E9HRWIJrS/BVvRifAEmT/3ItuzaT+4P/6hPG3UUL2/hK2LHmtDsz+7LRqSjZG0v/ZcLqTHRLq/+q5hq1grur++TMyuGrvFv4N4aLbXSbW/pNewTUQttz9yhaEkpuO1Pz0LepUr6bq/GRQ2CCFrtj+T2bkW6aS4P1505mdCo7y/Czavf+oSuT+jdFwsoAq/PzgPOuMPgb2/1LD7oB0Xsj9OHhzbTM3APzQaGzSavLI/8zsyU6iEsr+niAwnVrG7v3jGSbZrbLK/qjZ39MG5sT+HXWsLokzAv4B3PFMpY64/HeCiGNiDtb8PmEoPzddcPyR7FfSH4rG/CVG8+o2NvD+XWBBKloXAP+gZSiMSzLE/bCgTwTKytb+DbpXszyGxP+4sMQX3F8O/XKXaGO8Hr7+pWJei+ma3v9MUFrQ127M/sI+K8reEsL8OJtxbXla0P/9oNdqAtrg/Or43QhHWt79bar9orTqrv7qU2PIMqa2/8h1/JTsntb+FDy1HBXCEPwxg4Cglrpa/sDvmmT0ytr8HXO+q4GasP0PYY+EWW70/cauw+dzQsj8K+hhambaev95uZlK9Ur8/0L8/NGJLsj/ZOUmTd/a4P/gpvEaHsL2/wrxpVdxXsD/S6xIaS1CZP7Eym99PzK+/uQ3ptHmFrT9PFBBY3Hygv4EHVp5GybM/WXFDtyKSsz+Zj+bLUv60v9OrRz+mD7I/T4XxcdqRrz/9W+n2vDqrP8XTrqY1QbQ/Z9NiGkDjsz9w8Qpicw20P2WzKACMmau/S8Q6P7LxqT/opRRD2uC1v0FvX/ND/rA/onZxqn7MsL/b/j/UYlupvwKasgA3SLM/ZoV6Irn6qT82BkWvBlyWP/3FRHlsdqk/iSimNqZZpL+62n+B4EuxP77+IYfYqZQ/OGwslOaPoT/D7cwqqNeqP93mjG9TGLW/jS+S6ZHRtD9hksgv+XewPyQqkgD/5KQ/YMRQm33Urj//RFXJAAOnP0SlQ5gBPrM/Xyjaoij5rz8zKmRQdr+qP91gPQ8Mhq8/bpyH9jaqoT8neQdrpaievzunBnSbq5w/sMZrqtixqz9b/JpZPlFWP9t4DnVnF7A/wf321fLbqr9v2b+N3uGvP6mubRol9q4/7fVBKrE4qj/lQvMbET+mP3HKH8jZdK4/mgaHdq8Prj/FIRl79SZ4P8lOQn66bbA/7UXOxQe0rT+D6NXCyFWLv1qJsce5/q8/JDi7DvgLiz//yqO+Y1+SP8t8jY88jKQ/2mxK4F4sfT+oeTOVXsKlP+Ya2VD3Y22/tXDSuEO3oj8TU9JLcZFkP8TNbjOo54g/2hCCPSzepj8=\",\"dtype\":\"float64\",\"order\":\"little\",\"shape\":[145]},\"index\":[0,1,2,3,4,5,6,7,8,9,10,11,12,13,14,15,16,17,18,19,20,21,22,23,24,25,26,27,28,29,30,31,32,33,34,35,36,37,38,39,40,41,42,43,44,45,46,47,48,49,50,51,52,53,54,55,56,57,58,59,60,61,62,63,64,65,66,67,68,69,70,71,72,73,74,75,76,77,78,79,80,81,82,83,84,85,86,87,88,89,90,91,92,93,94,95,96,97,98,99,100,101,102,103,104,105,106,107,108,109,110,111,112,113,114,115,116,117,118,119,120,121,122,123,124,125,126,127,128,129,130,131,132,133,134,135,136,137,138,139,140,141,142,143,144],\"max_dates\":{\"__ndarray__\":\"AACAQPfMcUIAAEA9KhhzQgAAwAg4z3FCAACABWsac0IAAMC+GHVxQgAAQPzC7nFCAABA49gtckIAAED0qaZxQgAAwO9NDnJCAADASj7hcUIAAMDOSgVyQgAAQHi2ynFCAACAtNFgcUIAAEADPU5zQgAAwKUutHFCAAAAZbeFckIAAEAdxvdxQgAAAJeLB3JCAAAATWytcUIAAMBacHFyQgAAwPgFP3FCAABAurzccUIAAAA8mzRyQgAAwK1H/HFCAADAm9eac0IAAACHWXdxQgAAwAAfh3FCAADAhCurcUIAAMApO9hxQgAAwHwSY3FCAADApI/LckIAAIDMHDlyQgAAAEVTZXFCAADAD7Iuc0IAAEA2sLhxQgAAgOUG+nFCAADAUlcpckIAAAAbmCtyQgAAwOc0xnFCAACAspOPc0IAAIDLfVBzQgAAAMjAoHJCAAAAE3/jcUIAAIC86qhxQgAAAGZWbnFCAADAYom5ckIAAAA0guxxQgAAwDLzCHFCAACAT4p0c0IAAMA6DFFxQgAAAMlfiXFCAAAAuI4QckIAAIBh+tVxQgAAAFz/VHNCAABAh0lyc0IAAMBBhrByQgAAAPJ72nFCAACAaRMeckIAAIBRyEVxQgAAAANNU3FCAACAm+efcUIAAAB2iP5xQgAAADv8S3NCAAAAp72XckIAAIBxLGZyQgAAQE+aeXFCAACA9TiKckIAAECAzxJyQgAAwN8bfnFCAABAwTY8c0IAAEDJT4RzQgAAACOxc3JCAACAeUWuckIAAMBbD1pxQgAAwGtB6nFCAACANz+cckIAAICaSLdyQgAAQEbiSHJCAADA/uC1c0IAAEBXs8FxQgAAAH9AL3FCAADAtWBEckIAAECRoItxQgAAwNZjTXJCAADAlF07ckIAAADBRkFxQgAAgIl3PnNCAABA5HcWcUIAAMBCJZlxQgAAgJIvb3JCAAAAVOYMc0IAAIDTlphzQgAAgIu1D3FCAAAA6mKScUIAAIBYQqVyQgAAwEmf+HJCAABAmBrrckIAAMDXAjZxQgAAgFnhjXFCAADAOM5/c0IAAEBWFNlyQgAAAIUbpnNCAACAP1jkckIAAADAp1hyQgAAgO6+KnFCAACAFjyTckIAAEA1EdByQgAAgN3tsXFCAADAISKQcUIAAMBRuEBzQgAAQI9iunNCAADAdPkacUIAAECqikxxQgAAQMuNVXFCAADAKJzvckIAAECQAaNyQgAAAG3QzXJCAACAu0vAckIAAIByy05xQgAAgP7wunFCAABA6lKNc0IAAACO09ZyQgAAQEVDYHNCAACA5GcRc0IAAECgMzNzQgAAwHK7SXNCAABAbl+xc0IAAMCV/CNxQgAAQLEErHJCAACAszJ4ckIAAEDaIP1yQgAAgNXUaXFCAABAXi0hc0IAAIAeVdtyQgAAgDags3NCAACAD8IzcUIAAEAFex9xQgAAAPszC3FCAABAJEBXc0IAAIBwjX1zQgAAQKnrY3JCAABAiOhackIAAMC82qNzQgAAAKBDOHFCAABAHCcPc0I=\",\"dtype\":\"float64\",\"order\":\"little\",\"shape\":[145]},\"max_timestamp\":{\"__ndarray__\":\"AAAAAADAfEAAAAAAAKySQAAAAAAAEH1AAAAAAADAkkAAAAAAAJBwQAAAAAAAuIBAAAAAAAAYhUAAAAAAAHB3QAAAAAAA6IJAAAAAAACQf0AAAAAAAEiCQAAAAAAAcHxAAAAAAACAa0AAAAAAAIyUQAAAAAAAUHlAAAAAAAAwi0AAAAAAAFiBQAAAAAAAcIJAAAAAAABgeEAAAAAAAMiJQAAAAAAAIGJAAAAAAADwfkAAAAAAAJCFQAAAAAAAqIFAAAAAAAA0l0AAAAAAAOBwQAAAAAAAEHNAAAAAAAAQeEAAAAAAAFB+QAAAAAAAIGxAAAAAAAAEkEAAAAAAAOCFQAAAAAAAwGxAAAAAAAB0k0AAAAAAAPB5QAAAAAAAgIFAAAAAAADIhEAAAAAAAPCEQAAAAAAA0HtAAAAAAADQlkAAAAAAAKCUQAAAAAAAEI1AAAAAAADgf0AAAAAAAMB3QAAAAAAAQG9AAAAAAADIjkAAAAAAAJCAQAAAAAAAADlAAAAAAADglUAAAAAAACBnQAAAAAAAYHNAAAAAAAAQg0AAAAAAAAB+QAAAAAAAyJRAAAAAAADMlUAAAAAAACiOQAAAAAAAoH5AAAAAAAAAhEAAAAAAAABkQAAAAAAAwGdAAAAAAACAdkAAAAAAANCBQAAAAAAAeJRAAAAAAABwjEAAAAAAAACJQAAAAAAAMHFAAAAAAACAi0AAAAAAADiDQAAAAAAA0HFAAAAAAADsk0AAAAAAAGyWQAAAAAAA8IlAAAAAAAAAjkAAAAAAAKBpQAAAAAAAaIBAAAAAAADAjEAAAAAAAKCOQAAAAAAA+IZAAAAAAAAkmEAAAAAAADB7QAAAAAAAgFtAAAAAAACohkAAAAAAALBzQAAAAAAASIdAAAAAAAAIhkAAAAAAAMBiQAAAAAAAAJRAAAAAAACAS0AAAAAAAJB1QAAAAAAAoIlAAAAAAABIkkAAAAAAACCXQAAAAAAAAERAAAAAAACgdEAAAAAAAGCNQAAAAAAAlJFAAAAAAAAckUAAAAAAAEBfQAAAAAAAAHRAAAAAAABElkAAAAAAAHyQQAAAAAAAmJdAAAAAAADgkEAAAAAAABCIQAAAAAAAAFlAAAAAAAAgjEAAAAAAACyQQAAAAAAAAHlAAAAAAABQdEAAAAAAABSUQAAAAAAATJhAAAAAAABAUEAAAAAAAOBlQAAAAAAAYGhAAAAAAABEkUAAAAAAADiNQAAAAAAAGJBAAAAAAABAj0AAAAAAAIBmQAAAAAAAQHpAAAAAAAC8lkAAAAAAAGiQQAAAAAAALJVAAAAAAABwkkAAAAAAAJyTQAAAAAAAZJRAAAAAAAD8l0AAAAAAAEBVQAAAAAAA2I1AAAAAAABAikAAAAAAALyRQAAAAAAAAG5AAAAAAAD8kkAAAAAAAJCQQAAAAAAAEJhAAAAAAAAAXkAAAAAAAMBSQAAAAAAAAD5AAAAAAADclEAAAAAAADCWQAAAAAAA2IhAAAAAAAA4iEAAAAAAAISXQAAAAAAAQGBAAAAAAABckkA=\",\"dtype\":\"float64\",\"order\":\"little\",\"shape\":[145]},\"min_dates\":{\"__ndarray__\":\"AACAQPfMcUIAAEA9KhhzQgAAwAg4z3FCAACABWsac0IAAMC+GHVxQgAAQPzC7nFCAABA49gtckIAAED0qaZxQgAAwO9NDnJCAADASj7hcUIAAMDOSgVyQgAAQHi2ynFCAACAtNFgcUIAAEADPU5zQgAAwKUutHFCAAAAZbeFckIAAEAdxvdxQgAAAJeLB3JCAAAATWytcUIAAMBacHFyQgAAwPgFP3FCAABAurzccUIAAAA8mzRyQgAAwK1H/HFCAADAm9eac0IAAACHWXdxQgAAwAAfh3FCAADAhCurcUIAAMApO9hxQgAAwHwSY3FCAADApI/LckIAAIDMHDlyQgAAAEVTZXFCAADAD7Iuc0IAAEA2sLhxQgAAgOUG+nFCAADAUlcpckIAAAAbmCtyQgAAwOc0xnFCAACAspOPc0IAAIDLfVBzQgAAAMjAoHJCAAAAE3/jcUIAAIC86qhxQgAAAGZWbnFCAADAYom5ckIAAAA0guxxQgAAwDLzCHFCAACAT4p0c0IAAMA6DFFxQgAAAMlfiXFCAAAAuI4QckIAAIBh+tVxQgAAAFz/VHNCAABAh0lyc0IAAMBBhrByQgAAAPJ72nFCAACAaRMeckIAAIBRyEVxQgAAAANNU3FCAACAm+efcUIAAAB2iP5xQgAAADv8S3NCAAAAp72XckIAAIBxLGZyQgAAQE+aeXFCAACA9TiKckIAAECAzxJyQgAAwN8bfnFCAABAwTY8c0IAAEDJT4RzQgAAACOxc3JCAACAeUWuckIAAMBbD1pxQgAAwGtB6nFCAACANz+cckIAAICaSLdyQgAAQEbiSHJCAADA/uC1c0IAAEBXs8FxQgAAAH9AL3FCAADAtWBEckIAAECRoItxQgAAwNZjTXJCAADAlF07ckIAAADBRkFxQgAAgIl3PnNCAABA5HcWcUIAAMBCJZlxQgAAgJIvb3JCAAAAVOYMc0IAAIDTlphzQgAAgIu1D3FCAAAA6mKScUIAAIBYQqVyQgAAwEmf+HJCAABAmBrrckIAAMDXAjZxQgAAgFnhjXFCAADAOM5/c0IAAEBWFNlyQgAAAIUbpnNCAACAP1jkckIAAADAp1hyQgAAgO6+KnFCAACAFjyTckIAAEA1EdByQgAAgN3tsXFCAADAISKQcUIAAMBRuEBzQgAAQI9iunNCAADAdPkacUIAAECqikxxQgAAQMuNVXFCAADAKJzvckIAAECQAaNyQgAAAG3QzXJCAACAu0vAckIAAIByy05xQgAAgP7wunFCAABA6lKNc0IAAACO09ZyQgAAQEVDYHNCAACA5GcRc0IAAECgMzNzQgAAwHK7SXNCAABAbl+xc0IAAMCV/CNxQgAAQLEErHJCAACAszJ4ckIAAEDaIP1yQgAAgNXUaXFCAABAXi0hc0IAAIAeVdtyQgAAgDags3NCAACAD8IzcUIAAEAFex9xQgAAAPszC3FCAABAJEBXc0IAAIBwjX1zQgAAQKnrY3JCAABAiOhackIAAMC82qNzQgAAAKBDOHFCAABAHCcPc0I=\",\"dtype\":\"float64\",\"order\":\"little\",\"shape\":[145]},\"min_timestamp\":{\"__ndarray__\":\"AAAAAADAfEAAAAAAAKySQAAAAAAAEH1AAAAAAADAkkAAAAAAAJBwQAAAAAAAuIBAAAAAAAAYhUAAAAAAAHB3QAAAAAAA6IJAAAAAAACQf0AAAAAAAEiCQAAAAAAAcHxAAAAAAACAa0AAAAAAAIyUQAAAAAAAUHlAAAAAAAAwi0AAAAAAAFiBQAAAAAAAcIJAAAAAAABgeEAAAAAAAMiJQAAAAAAAIGJAAAAAAADwfkAAAAAAAJCFQAAAAAAAqIFAAAAAAAA0l0AAAAAAAOBwQAAAAAAAEHNAAAAAAAAQeEAAAAAAAFB+QAAAAAAAIGxAAAAAAAAEkEAAAAAAAOCFQAAAAAAAwGxAAAAAAAB0k0AAAAAAAPB5QAAAAAAAgIFAAAAAAADIhEAAAAAAAPCEQAAAAAAA0HtAAAAAAADQlkAAAAAAAKCUQAAAAAAAEI1AAAAAAADgf0AAAAAAAMB3QAAAAAAAQG9AAAAAAADIjkAAAAAAAJCAQAAAAAAAADlAAAAAAADglUAAAAAAACBnQAAAAAAAYHNAAAAAAAAQg0AAAAAAAAB+QAAAAAAAyJRAAAAAAADMlUAAAAAAACiOQAAAAAAAoH5AAAAAAAAAhEAAAAAAAABkQAAAAAAAwGdAAAAAAACAdkAAAAAAANCBQAAAAAAAeJRAAAAAAABwjEAAAAAAAACJQAAAAAAAMHFAAAAAAACAi0AAAAAAADiDQAAAAAAA0HFAAAAAAADsk0AAAAAAAGyWQAAAAAAA8IlAAAAAAAAAjkAAAAAAAKBpQAAAAAAAaIBAAAAAAADAjEAAAAAAAKCOQAAAAAAA+IZAAAAAAAAkmEAAAAAAADB7QAAAAAAAgFtAAAAAAACohkAAAAAAALBzQAAAAAAASIdAAAAAAAAIhkAAAAAAAMBiQAAAAAAAAJRAAAAAAACAS0AAAAAAAJB1QAAAAAAAoIlAAAAAAABIkkAAAAAAACCXQAAAAAAAAERAAAAAAACgdEAAAAAAAGCNQAAAAAAAlJFAAAAAAAAckUAAAAAAAEBfQAAAAAAAAHRAAAAAAABElkAAAAAAAHyQQAAAAAAAmJdAAAAAAADgkEAAAAAAABCIQAAAAAAAAFlAAAAAAAAgjEAAAAAAACyQQAAAAAAAAHlAAAAAAABQdEAAAAAAABSUQAAAAAAATJhAAAAAAABAUEAAAAAAAOBlQAAAAAAAYGhAAAAAAABEkUAAAAAAADiNQAAAAAAAGJBAAAAAAABAj0AAAAAAAIBmQAAAAAAAQHpAAAAAAAC8lkAAAAAAAGiQQAAAAAAALJVAAAAAAABwkkAAAAAAAJyTQAAAAAAAZJRAAAAAAAD8l0AAAAAAAEBVQAAAAAAA2I1AAAAAAABAikAAAAAAALyRQAAAAAAAAG5AAAAAAAD8kkAAAAAAAJCQQAAAAAAAEJhAAAAAAAAAXkAAAAAAAMBSQAAAAAAAAD5AAAAAAADclEAAAAAAADCWQAAAAAAA2IhAAAAAAAA4iEAAAAAAAISXQAAAAAAAQGBAAAAAAABckkA=\",\"dtype\":\"float64\",\"order\":\"little\",\"shape\":[145]},\"rate_change\":{\"__ndarray__\":\"Rb5fqqMwzD/wH+5dzO7BP+/KiPvUaNE/rWvRf6kWwz/aFKeDCYnAP7Pk6r9n+9E/VxNDZKPvxD/R5T+KtzS/P3L315/LeMY/11VPNGuMvz+UB33DkvHHP5Wz49qXxcY/Y0N8I9KzwD9f04uQoAu7P5M/IeCKLb0/LXwpLioOuT97YF8EbIHGP+K1S0DAlMQ/D5zzZhNMwD8IQWUY5jm3P3ylXDTLu7Q/ZO3pHyDuxD/3ItuzaT+4Pwp2DhQk3L8/SHawUTwsvj8tzNNBFrW3P/ZcLqTHRLo/+q5hq1gruj++TMyuGrvFPymR6UDg+74/pNewTUQttz+nl1iKmX64Pz0LepUr6bo/GRQ2CCFrtj8+p0T+gXm+P1505mdCo7w/Czavf+oSuT8nC7ZORLvDPzgPOuMPgb0/XG9ZiJPlsj/Pkl+ALDXBPz8PKYVP1rg/pLuhylQPxD+UFrlOETq9PwsH0PS+Ebc/FfPhwaR4uT+HXWsLokzAP8c/BaGdSLA/HeCiGNiDtT9+G3xUo321Pyi1blbqjLc/esORGmW1vj+XWBBKloXAP+gZSiMSzLE/bCgTwTKytT8pI6U+Rz+yP+4sMQX3F8M/IeVVmdVluT+pWJei+ma3P2aTFPpF8rU/RoiAUbTttj8gQDeVuGXAP0kHOJ3jjrs/Or43QhHWtz/YrYGj2MqyP+AkEO1c6rg/8h1/JTsntT8MLewKcYu2P2QftxVmS7Y/sDvmmT0ytj8HXO+q4GasP0PYY+EWW70/cauw+dzQsj8VoYC4/qGzP95uZlK9Ur8/0L8/NGJLsj/ZOUmTd/a4P/gpvEaHsL0/wrxpVdxXsD/GKll6Sva0P6fK+q3sMrI/Gl8SOToWsz/nF/+wVre5P4EHVp5GybM/WXFDtyKSsz+Zj+bLUv60P9OrRz+mD7I/T4XxcdqRrz8TFr45Sim2P5gQrU1ZHbY/Z9NiGkDjsz8tJRFnFKC2P2WzKACMmas/IVR7Zo1puD9AF1bmI/u3P0FvX/ND/rA/onZxqn7MsD//NxwnVfOuPwKasgA3SLM/JU6K3D+Urj9M8IRpPKSxP0dRwRAlfaw/I9XRwItFsD+62n+B4EuxP9CXFX/sc68/GWoKSV8msj+Mbow7EV6sP93mjG9TGLU/jS+S6ZHRtD+cb5ujMIyyP0we8e+MMK8/YMRQm33Urj9miNMgmmWuP0SlQ5gBPrM/Xyjaoij5rz8EiUuBjRKzP/NF00CM/rI/b6K/EwbhrD/Hw9rRSNmwP67dnxANHLI/sMZrqtixqz9JF1MxCv2tP9t4DnVnF7A/XEwjEHITsD9v2b+N3uGvP6mubRol9q4/VRPwJpQXrD8NPns0P/WrP3HKH8jZdK4/mgaHdq8Prj//9gNw4XerP8lOQn66bbA/7UXOxQe0rT8p0nJ0tUuwP1qJsce5/q8/V+Qt0NDtqT+hwqEia1CpPwVRAb2wGKs/k7T6tGICqD+oeTOVXsKlP9V1N4gtWKk/IvTmvfNFqT8fWINm7hinP5poFFJF7KQ/2hCCPSzepj8=\",\"dtype\":\"float64\",\"order\":\"little\",\"shape\":[145]}},\"selected\":{\"id\":\"1065\"},\"selection_policy\":{\"id\":\"1127\"}},\"id\":\"1064\",\"type\":\"ColumnDataSource\"},{\"attributes\":{\"indices\":[]},\"id\":\"1065\",\"type\":\"Selection\"},{\"attributes\":{\"editor\":{\"id\":\"1073\"},\"field\":\"cluster label\",\"formatter\":{\"id\":\"1072\"},\"title\":\"cluster label\",\"width\":150},\"id\":\"1074\",\"type\":\"TableColumn\"},{\"attributes\":{},\"id\":\"1072\",\"type\":\"NumberFormatter\"},{\"attributes\":{},\"id\":\"1127\",\"type\":\"UnionRenderers\"},{\"attributes\":{},\"id\":\"1098\",\"type\":\"IntEditor\"}],\"root_ids\":[\"1122\",\"1132\"]},\"title\":\"Bokeh Application\",\"version\":\"2.3.3\"}};\n",
       "    var render_items = [{\"docid\":\"274361c3-a979-4281-ab2f-10e4c79c6e0b\",\"root_ids\":[\"1122\"],\"roots\":{\"1122\":\"eb5ca9a0-b657-4a66-96af-255da7c52b77\"}}];\n",
       "    root.Bokeh.embed.embed_items_notebook(docs_json, render_items);\n",
       "  }\n",
       "  if (root.Bokeh !== undefined && root.Bokeh.Panel !== undefined) {\n",
       "    embed_document(root);\n",
       "  } else {\n",
       "    var attempts = 0;\n",
       "    var timer = setInterval(function(root) {\n",
       "      if (root.Bokeh !== undefined && root.Bokeh.Panel !== undefined) {\n",
       "        clearInterval(timer);\n",
       "        embed_document(root);\n",
       "      } else if (document.readyState == \"complete\") {\n",
       "        attempts++;\n",
       "        if (attempts > 100) {\n",
       "          clearInterval(timer);\n",
       "          console.log(\"Bokeh: ERROR: Unable to run BokehJS code because BokehJS library is missing\");\n",
       "        }\n",
       "      }\n",
       "    }, 10, root)\n",
       "  }\n",
       "})(window);</script>"
      ],
      "text/plain": [
       "DataFrame(autosize_mode='fit_viewport', frozen_columns=0, height=300, sizing_mode='fixed', value=     cluster l..., width=600, widths=150)"
      ]
     },
     "metadata": {
      "application/vnd.holoviews_exec.v0+json": {
       "id": "1122"
      }
     },
     "output_type": "display_data"
    }
   ],
   "source": [
    "fig2 = pn.widgets.DataFrame(clusters,\n",
    "                            height=300,\n",
    "                            widths=150,\n",
    "                            width=600,\n",
    "                            frozen_columns=0,\n",
    "                            autosize_mode='fit_viewport')\n",
    "\n",
    "display(fig2)"
   ]
  },
  {
   "cell_type": "code",
   "execution_count": null,
   "id": "cadc2308",
   "metadata": {},
   "outputs": [],
   "source": []
  }
 ],
 "metadata": {
  "kernelspec": {
   "display_name": "Geo (Python 3.8)",
   "language": "python",
   "name": "geo"
  },
  "language_info": {
   "codemirror_mode": {
    "name": "ipython",
    "version": 3
   },
   "file_extension": ".py",
   "mimetype": "text/x-python",
   "name": "python",
   "nbconvert_exporter": "python",
   "pygments_lexer": "ipython3",
   "version": "3.8.8"
  }
 },
 "nbformat": 4,
 "nbformat_minor": 5
}
