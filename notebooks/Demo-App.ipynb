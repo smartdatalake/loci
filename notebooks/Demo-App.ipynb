{
 "cells": [
  {
   "cell_type": "markdown",
   "metadata": {},
   "source": [
    "# LOCI Demo Application"
   ]
  },
  {
   "cell_type": "code",
   "execution_count": 17,
   "metadata": {},
   "outputs": [
    {
     "name": "stdout",
     "output_type": "stream",
     "text": [
      "The autoreload extension is already loaded. To reload it, use:\n",
      "  %reload_ext autoreload\n"
     ]
    }
   ],
   "source": [
    "from __future__ import print_function\n",
    "import ipywidgets as widgets\n",
    "from IPython.display import display\n",
    "\n",
    "import warnings\n",
    "warnings.filterwarnings('ignore')\n",
    "\n",
    "import sys\n",
    "sys.path.append('..')\n",
    "\n",
    "%load_ext autoreload\n",
    "%autoreload 2\n",
    "\n",
    "import loci as lc\n",
    "from loci import io\n",
    "from loci import analytics\n",
    "from loci import clustering\n",
    "from loci import plots\n",
    "\n",
    "import geopandas as gpd\n",
    "import folium\n",
    "from folium import plugins\n",
    "from shapely.geometry import Polygon"
   ]
  },
  {
   "cell_type": "code",
   "execution_count": 2,
   "metadata": {},
   "outputs": [],
   "source": [
    "## Load data"
   ]
  },
  {
   "cell_type": "code",
   "execution_count": 19,
   "metadata": {},
   "outputs": [],
   "source": [
    "gdf = None\n",
    "kwds_freq = None\n",
    "description_style = {'description_width': 'initial'}"
   ]
  },
  {
   "cell_type": "code",
   "execution_count": 20,
   "metadata": {},
   "outputs": [],
   "source": [
    "### WIDGETS FOR 'LOAD DATA' ###\n",
    "\n",
    "w_input_file = widgets.Text(value='', description='Input file:', style=description_style, placeholder='osmpois-greece.csv')\n",
    "w_col_sep = widgets.Text(value='', description='Column separator:', style=description_style, placeholder=';')\n",
    "w_col_id = widgets.Text(value='', description='ID column:', style=description_style, placeholder='id')\n",
    "w_col_name = widgets.Text(value='', description='Name column:', style=description_style, placeholder='name')\n",
    "w_col_lon = widgets.Text(value='', description='Longitude column:', style=description_style, placeholder='lon')\n",
    "w_col_lat = widgets.Text(value='', description='Latitude column:', style=description_style, placeholder='lat')\n",
    "w_col_kwds = widgets.Text(value='', description='Keywords column:', style=description_style, placeholder='kwds')\n",
    "w_kwds_sep = widgets.Text(value='', description='Keywords separator:', style=description_style, placeholder=',')\n",
    "w_source_crs = widgets.Text(value='', description='Source CRS:', style=description_style, placeholder='EPSG:4326')\n",
    "w_target_crs = widgets.Text(value='', description='Target CRS:', style=description_style, placeholder='EPSG:4326')\n",
    "w_min_lon = widgets.Text(value='', description='Min lon:', style=description_style, placeholder='23.48')\n",
    "w_max_lon = widgets.Text(value='', description='Max lon:', style=description_style, placeholder='23.98')\n",
    "w_min_lat = widgets.Text(value='', description='Min lat:', style=description_style, placeholder='37.83')\n",
    "w_max_lat = widgets.Text(value='', description='Max lat:', style=description_style, placeholder='38.08')\n",
    "w_button_load_data = widgets.Button(description='Load', style=description_style)\n",
    "w_out_load_data = widgets.Output()\n",
    "ui_load_data = widgets.VBox([w_input_file, w_col_sep, w_col_id, w_col_name, w_col_lon, w_col_lat, w_col_kwds, w_kwds_sep, w_source_crs, w_target_crs, w_min_lon, w_max_lon, w_min_lat, w_max_lat, w_button_load_data, w_out_load_data])"
   ]
  },
  {
   "cell_type": "code",
   "execution_count": 21,
   "metadata": {},
   "outputs": [],
   "source": [
    "### FUNCTIONS FOR 'LOAD DATA' ###\n",
    "\n",
    "def load_data(btn):\n",
    "    \n",
    "    global gdf\n",
    "    global kwds_freq\n",
    "    \n",
    "    gdf = lc.io.read_csv(input_file=w_input_file.value,\n",
    "                         sep=w_col_sep.value,\n",
    "                         col_id=w_col_id.value,\n",
    "                         col_name=w_col_name.value,\n",
    "                         col_lon=w_col_lon.value,\n",
    "                         col_lat=w_col_lat.value,\n",
    "                         col_kwds=w_col_kwds.value,\n",
    "                         kwds_sep=w_kwds_sep.value,\n",
    "                         source_crs=w_source_crs.value,\n",
    "                         target_crs=w_target_crs.value)\n",
    "    \n",
    "    if w_min_lon.value != '' and w_max_lon.value != '' and w_min_lat.value != '' and w_max_lat.value != '':\n",
    "        gdf = lc.io.crop(gdf, float(w_min_lon.value), float(w_min_lat.value), float(w_max_lon.value), float(w_max_lat.value))\n",
    "    \n",
    "    with w_out_load_data:\n",
    "        w_out_load_data.clear_output()\n",
    "        display(gdf)\n",
    "    \n",
    "    kwds_freq = lc.analytics.kwds_freq(gdf)\n",
    "    kwds_list = [('ALL (' + str(len(gdf.index)) + ')', '---')]\n",
    "    kwds_list = kwds_list + [((k + ' (' + str(v) + ')'), k) for k, v in kwds_freq.items()]\n",
    "    w_points_kwd_selection.options = kwds_list\n",
    "    w_heatmap_kwd_selection.options = kwds_list\n",
    "    w_clusters_kwd_selection.options = kwds_list\n",
    "    \n",
    "    w_points_sample_size.max = len(gdf.index)\n",
    "    w_points_sample_size.value = round(0.1 * len(gdf.index))\n",
    "    w_points_sample_size.min = 1\n",
    "    w_points_sample_size.step = 1\n",
    "    \n",
    "    w_heatmap_sample_size.max = len(gdf.index)\n",
    "    w_heatmap_sample_size.value = round(0.1 * len(gdf.index))\n",
    "    w_heatmap_sample_size.min = 1\n",
    "    w_heatmap_sample_size.step = 1\n",
    "    \n",
    "    w_clusters_sample_size.max = len(gdf.index)\n",
    "    w_clusters_sample_size.value = round(0.1 * len(gdf.index))\n",
    "    w_clusters_sample_size.min = 1\n",
    "    w_clusters_sample_size.step = 1\n",
    "        \n",
    "\n",
    "w_button_load_data.on_click(load_data)"
   ]
  },
  {
   "cell_type": "code",
   "execution_count": 36,
   "metadata": {},
   "outputs": [],
   "source": [
    "### WIDGETS FOR 'MAP: POINTS' ###\n",
    "\n",
    "w_points_kwd_selection = widgets.Dropdown(options=[], description='Select keyword:', style=description_style)\n",
    "w_points_sample_size = widgets.IntSlider(value=0, min=0, max=0, step=0, description='Sample size:', style=description_style)\n",
    "w_show_bbox = widgets.Checkbox(value=False, description='Show bbox', style=description_style)\n",
    "w_button_show_points = widgets.Button(description='Show Points')\n",
    "w_map_points = widgets.Output(layout={'width': '50%'})\n",
    "ui_map_points = widgets.VBox([w_points_kwd_selection, w_points_sample_size, w_show_bbox, w_button_show_points, w_map_points])"
   ]
  },
  {
   "cell_type": "code",
   "execution_count": 37,
   "metadata": {},
   "outputs": [],
   "source": [
    "### FUNCTIONS FOR 'MAP: POINTS' ###\n",
    "\n",
    "def show_map_points(btn):\n",
    "    \n",
    "    global gdf\n",
    "    \n",
    "    if gdf is not None:\n",
    "        sample_size = w_points_sample_size.value\n",
    "        kwd = w_points_kwd_selection.value\n",
    "        \n",
    "        if kwd == '---':\n",
    "            kwd = None\n",
    "        \n",
    "        show_bbox = w_show_bbox.value\n",
    "        m = lc.plots.map_points(gdf, sample_size=sample_size, kwd=kwd, show_bbox=show_bbox)\n",
    "\n",
    "        with w_map_points:\n",
    "            w_map_points.clear_output()\n",
    "            display(m)\n",
    "    else:\n",
    "        with w_map_points:\n",
    "            print('No dataset is loaded.')\n",
    "\n",
    "            \n",
    "w_button_show_points.on_click(show_map_points)\n",
    "\n",
    "\n",
    "def update_w_points_sample_size(*args):\n",
    "    kwd = w_points_kwd_selection.value\n",
    "    if kwd == '---':\n",
    "        new_size = len(gdf.index)\n",
    "    else:\n",
    "        new_size = kwds_freq[kwd]\n",
    "    w_points_sample_size.max = new_size\n",
    "    w_points_sample_size.value = round(0.1 * new_size)\n",
    "    w_points_sample_size.min = 1\n",
    "    w_points_sample_size.step = 1\n",
    "\n",
    "\n",
    "w_points_kwd_selection.observe(update_w_points_sample_size, 'value')"
   ]
  },
  {
   "cell_type": "code",
   "execution_count": 31,
   "metadata": {},
   "outputs": [],
   "source": [
    "### WIDGETS FOR 'MAP: HEATMAP' ###\n",
    "\n",
    "w_heatmap_kwd_selection = widgets.Dropdown(options=[], description='Select keyword:', style=description_style)\n",
    "w_heatmap_sample_size = widgets.IntSlider(value=0, min=0, max=0, step=0, description='Sample size:', style=description_style)\n",
    "w_heatmap_radius = widgets.IntSlider(value=10, min=1, max=50, step=1, description='Radius:', style=description_style)\n",
    "w_button_show_heatmap = widgets.Button(description='Show Heatmap')\n",
    "w_map_heatmap = widgets.Output(layout={'width': '50%'})\n",
    "ui_map_heatmap = widgets.VBox([w_heatmap_kwd_selection, w_heatmap_sample_size, w_heatmap_radius, w_button_show_heatmap, w_map_heatmap])"
   ]
  },
  {
   "cell_type": "code",
   "execution_count": 32,
   "metadata": {},
   "outputs": [],
   "source": [
    "### FUNCTIONS FOR 'MAP: HEATMAP' ###\n",
    "\n",
    "def show_map_heatmap(btn):\n",
    "    \n",
    "    global gdf\n",
    "    \n",
    "    if gdf is not None:\n",
    "        sample_size = w_heatmap_sample_size.value\n",
    "        kwd = w_heatmap_kwd_selection.value\n",
    "        \n",
    "        if kwd == '---':\n",
    "            kwd = None\n",
    "        \n",
    "        radius = w_heatmap_radius.value\n",
    "        \n",
    "        m = lc.plots.heatmap(gdf, sample_size=sample_size, kwd=kwd, radius=radius)\n",
    "\n",
    "        with w_map_heatmap:\n",
    "            w_map_heatmap.clear_output()\n",
    "            display(m)\n",
    "    else:\n",
    "        with w_map_heatmap:\n",
    "            print('No dataset is loaded.')\n",
    "\n",
    "            \n",
    "w_button_show_heatmap.on_click(show_map_heatmap)\n",
    "\n",
    "\n",
    "def update_w_heatmap_sample_size(*args):\n",
    "    kwd = w_heatmap_kwd_selection.value\n",
    "    if kwd == '---':\n",
    "        new_size = len(gdf.index)\n",
    "    else:\n",
    "        new_size = kwds_freq[kwd]\n",
    "    w_heatmap_sample_size.max = new_size\n",
    "    w_heatmap_sample_size.value = round(0.1 * new_size)\n",
    "    w_heatmap_sample_size.min = 1\n",
    "    w_heatmap_sample_size.step = 1\n",
    "\n",
    "\n",
    "w_heatmap_kwd_selection.observe(update_w_heatmap_sample_size, 'value')"
   ]
  },
  {
   "cell_type": "code",
   "execution_count": 33,
   "metadata": {},
   "outputs": [],
   "source": [
    "### WIDGETS FOR 'MAP: CLUSTERS' ###\n",
    "\n",
    "w_clusters_kwd_selection = widgets.Dropdown(options=[], description='Select keyword:', style=description_style)\n",
    "w_clusters_sample_size = widgets.IntSlider(value=0, min=0, max=0, step=0, description='Sample size:', style=description_style)\n",
    "w_clusters_alg = widgets.Dropdown(options=['DBSCAN', 'HDBSCAN'], description='Select algorithm:', style=description_style)\n",
    "w_clusters_min_pts = widgets.IntText(value=100, min=1, step=1, description='Min Size: ', style=description_style)\n",
    "w_clusters_eps = widgets.BoundedFloatText(value=0.001, min=0.001, step=0.001, description='Radius: ', style=description_style)\n",
    "w_button_show_clusters = widgets.Button(description='Show Clusters')\n",
    "w_map_clusters = widgets.Output(layout={'width': '50%'})\n",
    "ui_map_clusters = widgets.VBox([w_clusters_kwd_selection, w_clusters_sample_size, w_clusters_alg, w_clusters_min_pts, w_clusters_eps, w_button_show_clusters, w_map_clusters])"
   ]
  },
  {
   "cell_type": "code",
   "execution_count": 34,
   "metadata": {},
   "outputs": [],
   "source": [
    "### FUNCTIONS FOR 'MAP: CLUSTERS' ###\n",
    "\n",
    "def show_map_clusters(btn):\n",
    "    \n",
    "    global gdf\n",
    "    \n",
    "    if gdf is not None:\n",
    "        sample_size = w_clusters_sample_size.value\n",
    "        kwd = w_clusters_kwd_selection.value\n",
    "        \n",
    "        if kwd == '---':\n",
    "            kwd = None\n",
    "        \n",
    "        min_pts = w_clusters_min_pts.value\n",
    "        eps = w_clusters_eps.value\n",
    "        alg = w_clusters_alg.value\n",
    "        pois_in_clusters, eps_per_cluster = lc.clustering.compute_clusters(gdf,\n",
    "                                                                   alg=alg,\n",
    "                                                                   min_pts=min_pts,\n",
    "                                                                   eps=eps,\n",
    "                                                                   sample_size=sample_size,\n",
    "                                                                   kwd=kwd,\n",
    "                                                                   n_jobs=-1)\n",
    "        cluster_borders = lc.clustering.cluster_shapes(pois_in_clusters, 3, eps_per_cluster)\n",
    "        if len(cluster_borders.index) < 2:\n",
    "            return\n",
    "        m = lc.plots.map_choropleth(cluster_borders, id_field='cluster_id', value_field='size')\n",
    "\n",
    "        with w_map_clusters:\n",
    "            w_map_clusters.clear_output()\n",
    "            display(m)\n",
    "    else:\n",
    "        with w_map_clusters:\n",
    "            print('No dataset is loaded.')\n",
    "\n",
    "            \n",
    "w_button_show_clusters.on_click(show_map_clusters)\n",
    "\n",
    "\n",
    "def update_w_clusters_sample_size(*args):\n",
    "    kwd = w_clusters_kwd_selection.value\n",
    "    if kwd == '---':\n",
    "        new_size = len(gdf.index)\n",
    "    else:\n",
    "        new_size = kwds_freq[kwd]\n",
    "    w_clusters_sample_size.max = new_size\n",
    "    w_clusters_sample_size.value = round(0.1 * new_size)\n",
    "    w_clusters_sample_size.min = 1\n",
    "    w_clusters_sample_size.step = 1\n",
    "\n",
    "\n",
    "w_clusters_kwd_selection.observe(update_w_clusters_sample_size, 'value')"
   ]
  },
  {
   "cell_type": "code",
   "execution_count": 38,
   "metadata": {},
   "outputs": [
    {
     "data": {
      "application/vnd.jupyter.widget-view+json": {
       "model_id": "ad8dbbcf0e194a6783b53c0e9eaf73e7",
       "version_major": 2,
       "version_minor": 0
      },
      "text/plain": [
       "Tab(children=(VBox(children=(HBox(children=(Dropdown(description='Select dataset:', options=('osmpois-greece',…"
      ]
     },
     "metadata": {},
     "output_type": "display_data"
    },
    {
     "name": "stderr",
     "output_type": "stream",
     "text": [
      "b'Skipping line 10992: expected 5 fields, saw 6\\nSkipping line 16566: expected 5 fields, saw 6\\nSkipping line 16572: expected 5 fields, saw 6\\nSkipping line 26531: expected 5 fields, saw 6\\nSkipping line 26728: expected 5 fields, saw 6\\nSkipping line 48488: expected 5 fields, saw 6\\nSkipping line 50775: expected 5 fields, saw 6\\nSkipping line 55950: expected 5 fields, saw 6\\nSkipping line 57927: expected 5 fields, saw 6\\nSkipping line 63067: expected 5 fields, saw 6\\nSkipping line 63465: expected 5 fields, saw 6\\nSkipping line 64134: expected 5 fields, saw 6\\nSkipping line 72032: expected 5 fields, saw 6\\nSkipping line 81613: expected 5 fields, saw 6\\n'\n"
     ]
    }
   ],
   "source": [
    "### TABS ###\n",
    "\n",
    "tab_explore = widgets.Tab()\n",
    "tab_explore.children = [ui_map_points, ui_map_heatmap, ui_map_clusters]\n",
    "tab_explore.set_title(0, 'Points')\n",
    "tab_explore.set_title(1, 'Heatmap')\n",
    "tab_explore.set_title(2, 'Clusters')\n",
    "\n",
    "tab_main = widgets.Tab()\n",
    "tab_main.children = [ui_load_data, tab_explore]\n",
    "tab_main.set_title(0, 'Load')\n",
    "tab_main.set_title(1, 'Explore')\n",
    "display(tab_main)"
   ]
  }
 ],
 "metadata": {
  "kernelspec": {
   "display_name": "Geo (Python 3.8)",
   "language": "python",
   "name": "geo"
  },
  "language_info": {
   "codemirror_mode": {
    "name": "ipython",
    "version": 3
   },
   "file_extension": ".py",
   "mimetype": "text/x-python",
   "name": "python",
   "nbconvert_exporter": "python",
   "pygments_lexer": "ipython3",
   "version": "3.8.8"
  }
 },
 "nbformat": 4,
 "nbformat_minor": 4
}
