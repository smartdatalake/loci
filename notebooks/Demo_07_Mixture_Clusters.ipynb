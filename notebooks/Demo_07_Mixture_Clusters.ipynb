{
 "cells": [
  {
   "cell_type": "markdown",
   "id": "2f2a35f3",
   "metadata": {},
   "source": [
    "## Demo 7: Mixture Clusters\n",
    "### Discover regions with high/low diversity in the types of POIs therein"
   ]
  },
  {
   "cell_type": "code",
   "execution_count": null,
   "id": "444a847b",
   "metadata": {},
   "outputs": [],
   "source": [
    "import warnings\n",
    "warnings.filterwarnings('ignore')\n",
    "\n",
    "import sys\n",
    "sys.path.append('..')\n",
    "\n",
    "%load_ext autoreload\n",
    "%autoreload 2\n",
    "\n",
    "import math\n",
    "from shapely.geometry import Polygon\n",
    "\n",
    "import loci as lc\n",
    "from loci import io\n",
    "from loci import mbrs"
   ]
  },
  {
   "cell_type": "markdown",
   "id": "e24f3416",
   "metadata": {},
   "source": [
    "### Read data (using LOCI I/O methods)"
   ]
  },
  {
   "cell_type": "code",
   "execution_count": null,
   "id": "893adc6e",
   "metadata": {},
   "outputs": [],
   "source": [
    "# Bounding box around Athens\n",
    "min_lon = 23.55\n",
    "max_lon = 24\n",
    "min_lat = 37.8\n",
    "max_lat = 38.15\n",
    "\n",
    "bound = Polygon([(min_lon, min_lat),\n",
    "                       (min_lon, max_lat),\n",
    "                       (max_lon, max_lat),\n",
    "                       (max_lon, min_lat),\n",
    "                       (min_lon, min_lat)])"
   ]
  },
  {
   "cell_type": "code",
   "execution_count": null,
   "id": "489530bd",
   "metadata": {},
   "outputs": [],
   "source": [
    "remote_file = 'http://download.slipo.eu/results/osm-to-csv/europe/europe_greece-pois.osm.csv.zip'\n",
    "pois = lc.io.import_osmwrangle(remote_file, bound=bound, target_crs='EPSG:4326')\n",
    "pois.head()"
   ]
  },
  {
   "cell_type": "code",
   "execution_count": null,
   "id": "d405c891",
   "metadata": {},
   "outputs": [],
   "source": [
    "types, colors = lc.mbrs.get_types(pois)"
   ]
  },
  {
   "cell_type": "markdown",
   "id": "fb498153",
   "metadata": {},
   "source": [
    "### Set parameters for execution"
   ]
  },
  {
   "cell_type": "code",
   "execution_count": null,
   "id": "2c46f09f",
   "metadata": {},
   "outputs": [],
   "source": [
    "params = {\n",
    "    'variables': {\n",
    "        'eps': {\n",
    "            'current': 0.002\n",
    "        },\n",
    "        'max_size': {\n",
    "            'current': 100\n",
    "        },\n",
    "        'size_weight': {\n",
    "            'current': 0.1\n",
    "        },\n",
    "        'time_budget': {\n",
    "            'current': 30\n",
    "        }\n",
    "    },\n",
    "    'methods': {\n",
    "        'current': 'ExpHybrid'\n",
    "    },\n",
    "    'entropy_mode': { \n",
    "        'current': 'high'  #'low'\n",
    "    },\n",
    "    'settings': {\n",
    "        'top_k': 10,\n",
    "        'max_se': math.log(len(types)),\n",
    "        'seeds_ratio': 0.05,\n",
    "        'overlap_threshold': 0.2,\n",
    "        'use_grid': False\n",
    "    }\n",
    "}\n",
    "params"
   ]
  },
  {
   "cell_type": "markdown",
   "id": "d2ba5164",
   "metadata": {},
   "source": [
    "### Pre-process (run only ONCE if parameter eps is unchanged)"
   ]
  },
  {
   "cell_type": "code",
   "execution_count": null,
   "id": "583c15e5",
   "metadata": {},
   "outputs": [],
   "source": [
    "eps = params['variables']['eps']['current']\n",
    "if (params['settings']['use_grid'] == True):\n",
    "    # Create a grid-based GeoDataFrame by aggregating the input points into square cells\n",
    "    prtree, gdf_grid = lc.mbrs.partition_data_in_grid(pois, eps)\n",
    "    # Create graph and R-tree index over this grid-based GeoDataFrame of cell centroids\n",
    "    # CAUTION: Adjacent cells at the corners of each cell must also be considered neighbors -> search with eps*srqt(2)\n",
    "    G, rtree = lc.mbrs.create_graph(gdf_grid, 1.001*math.sqrt(2)*eps) \n",
    "else:\n",
    "    # Create graph and R-tree index over the original input points\n",
    "    G, rtree = lc.mbrs.create_graph(pois, eps)"
   ]
  },
  {
   "cell_type": "markdown",
   "id": "6a382d08",
   "metadata": {},
   "source": [
    "### Run the specified detection method"
   ]
  },
  {
   "cell_type": "code",
   "execution_count": null,
   "id": "a9dd10db",
   "metadata": {
    "scrolled": false
   },
   "outputs": [],
   "source": [
    "if (params['settings']['use_grid'] == True):\n",
    "    topk_regions, updates = lc.mbrs.run(gdf_grid, G, rtree, types, params, eps)\n",
    "else:\n",
    "    topk_regions, updates = lc.mbrs.run(pois, G, rtree, types, params, eps)"
   ]
  },
  {
   "cell_type": "code",
   "execution_count": null,
   "id": "e3decbac",
   "metadata": {},
   "outputs": [],
   "source": [
    "# Report overall score and number of points in each of the top-k regions\n",
    "i = 1\n",
    "for region in topk_regions:\n",
    "    print(str(i), region[0], len(region[2][0].union(region[2][1])))  # rank, score, number of points\n",
    "    i += 1"
   ]
  },
  {
   "cell_type": "markdown",
   "id": "675104bc",
   "metadata": {},
   "source": [
    "### Display map with the detected top-k regions"
   ]
  },
  {
   "cell_type": "code",
   "execution_count": null,
   "id": "e0063745",
   "metadata": {},
   "outputs": [],
   "source": [
    "if (params['settings']['use_grid'] == True):\n",
    "    m = lc.mbrs.show_map_topk_grid_regions(pois, prtree, colors, gdf_grid, 1.001*eps, topk_regions)\n",
    "else:\n",
    "    m = lc.mbrs.show_map_topk_convex_regions(pois, colors, topk_regions)\n",
    "m"
   ]
  },
  {
   "cell_type": "code",
   "execution_count": null,
   "id": "fb63132a",
   "metadata": {},
   "outputs": [],
   "source": []
  }
 ],
 "metadata": {
  "kernelspec": {
   "display_name": "Geo (Python 3.8)",
   "language": "python",
   "name": "geo"
  },
  "language_info": {
   "codemirror_mode": {
    "name": "ipython",
    "version": 3
   },
   "file_extension": ".py",
   "mimetype": "text/x-python",
   "name": "python",
   "nbconvert_exporter": "python",
   "pygments_lexer": "ipython3",
   "version": "3.8.8"
  }
 },
 "nbformat": 4,
 "nbformat_minor": 5
}
