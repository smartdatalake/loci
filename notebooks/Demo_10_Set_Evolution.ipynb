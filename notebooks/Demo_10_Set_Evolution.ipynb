{
 "cells": [
  {
   "cell_type": "code",
   "execution_count": 1,
   "id": "1a85d2b0",
   "metadata": {},
   "outputs": [],
   "source": [
    "import sys\n",
    "sys.path.append('..')\n",
    "from loci.set_evolution import Change_Detector\n",
    "import pandas as pd"
   ]
  },
  {
   "cell_type": "markdown",
   "id": "09cebb8a",
   "metadata": {},
   "source": [
    "# Loading data"
   ]
  },
  {
   "cell_type": "code",
   "execution_count": 2,
   "id": "a84401bf",
   "metadata": {},
   "outputs": [
    {
     "data": {
      "text/html": [
       "<div>\n",
       "<style scoped>\n",
       "    .dataframe tbody tr th:only-of-type {\n",
       "        vertical-align: middle;\n",
       "    }\n",
       "\n",
       "    .dataframe tbody tr th {\n",
       "        vertical-align: top;\n",
       "    }\n",
       "\n",
       "    .dataframe thead th {\n",
       "        text-align: right;\n",
       "    }\n",
       "</style>\n",
       "<table border=\"1\" class=\"dataframe\">\n",
       "  <thead>\n",
       "    <tr style=\"text-align: right;\">\n",
       "      <th></th>\n",
       "      <th>SnapshotID</th>\n",
       "      <th>GroupID</th>\n",
       "      <th>MemberID</th>\n",
       "    </tr>\n",
       "  </thead>\n",
       "  <tbody>\n",
       "    <tr>\n",
       "      <th>0</th>\n",
       "      <td>0</td>\n",
       "      <td>10</td>\n",
       "      <td>0</td>\n",
       "    </tr>\n",
       "    <tr>\n",
       "      <th>1</th>\n",
       "      <td>0</td>\n",
       "      <td>4</td>\n",
       "      <td>1</td>\n",
       "    </tr>\n",
       "    <tr>\n",
       "      <th>2</th>\n",
       "      <td>0</td>\n",
       "      <td>7</td>\n",
       "      <td>2</td>\n",
       "    </tr>\n",
       "    <tr>\n",
       "      <th>3</th>\n",
       "      <td>0</td>\n",
       "      <td>2</td>\n",
       "      <td>3</td>\n",
       "    </tr>\n",
       "    <tr>\n",
       "      <th>4</th>\n",
       "      <td>0</td>\n",
       "      <td>10</td>\n",
       "      <td>4</td>\n",
       "    </tr>\n",
       "    <tr>\n",
       "      <th>5</th>\n",
       "      <td>0</td>\n",
       "      <td>2</td>\n",
       "      <td>5</td>\n",
       "    </tr>\n",
       "    <tr>\n",
       "      <th>6</th>\n",
       "      <td>0</td>\n",
       "      <td>1</td>\n",
       "      <td>6</td>\n",
       "    </tr>\n",
       "    <tr>\n",
       "      <th>7</th>\n",
       "      <td>0</td>\n",
       "      <td>6</td>\n",
       "      <td>7</td>\n",
       "    </tr>\n",
       "    <tr>\n",
       "      <th>8</th>\n",
       "      <td>0</td>\n",
       "      <td>13</td>\n",
       "      <td>8</td>\n",
       "    </tr>\n",
       "    <tr>\n",
       "      <th>9</th>\n",
       "      <td>0</td>\n",
       "      <td>9</td>\n",
       "      <td>9</td>\n",
       "    </tr>\n",
       "  </tbody>\n",
       "</table>\n",
       "</div>"
      ],
      "text/plain": [
       "   SnapshotID  GroupID  MemberID\n",
       "0           0       10         0\n",
       "1           0        4         1\n",
       "2           0        7         2\n",
       "3           0        2         3\n",
       "4           0       10         4\n",
       "5           0        2         5\n",
       "6           0        1         6\n",
       "7           0        6         7\n",
       "8           0       13         8\n",
       "9           0        9         9"
      ]
     },
     "execution_count": 2,
     "metadata": {},
     "output_type": "execute_result"
    }
   ],
   "source": [
    "df = pd.read_csv('../datasets/evolving_sets/data/data.csv', header=None, names=['SnapshotID', 'GroupID', 'MemberID'])\n",
    "df.head(10)"
   ]
  },
  {
   "cell_type": "code",
   "execution_count": 3,
   "id": "10a93afc",
   "metadata": {},
   "outputs": [],
   "source": [
    "df = df.T.reset_index(drop=True).T # column names should be 0, 1, 2\n",
    "cd = Change_Detector()\n",
    "cd.set_data(df, 'csv', False)"
   ]
  },
  {
   "cell_type": "markdown",
   "id": "62f3e380",
   "metadata": {},
   "source": [
    "# Snapshots"
   ]
  },
  {
   "cell_type": "markdown",
   "id": "b93ba2e5",
   "metadata": {},
   "source": [
    "## Snapshot Evolution"
   ]
  },
  {
   "cell_type": "markdown",
   "id": "76a09b28",
   "metadata": {},
   "source": [
    "To calculate the evolution of a snapshot:"
   ]
  },
  {
   "cell_type": "code",
   "execution_count": 4,
   "id": "c29946e6",
   "metadata": {},
   "outputs": [
    {
     "data": {
      "text/plain": [
       "[('0', '1', 0.05598146363070377),\n",
       " ('1', '2', 0.07940150719106773),\n",
       " ('2', '3', 0.08074803457462712),\n",
       " ('3', '4', 0.08322875895770858),\n",
       " ('4', '5', 0.0749175933031092),\n",
       " ('5', '6', 0.08433250181057377),\n",
       " ('6', '7', 0.05893585116127085),\n",
       " ('7', '8', 0.06887963211408361),\n",
       " ('8', '9', 0.06669142567217919)]"
      ]
     },
     "execution_count": 4,
     "metadata": {},
     "output_type": "execute_result"
    }
   ],
   "source": [
    "cd.get_snapshot_evolution()"
   ]
  },
  {
   "cell_type": "markdown",
   "id": "085f15a0",
   "metadata": {},
   "source": [
    "## Snapshot Similarity"
   ]
  },
  {
   "cell_type": "markdown",
   "id": "a9f8238d",
   "metadata": {},
   "source": [
    "To calculate the similarity between two snapshots:"
   ]
  },
  {
   "cell_type": "code",
   "execution_count": 5,
   "id": "b7d6295f",
   "metadata": {},
   "outputs": [
    {
     "data": {
      "text/plain": [
       "(0.05598146363070377,\n",
       " [('1', '6', 0.125),\n",
       "  ('4', '4', 0.14285714285714285),\n",
       "  ('12', '1', 0.13333333333333333),\n",
       "  ('2', '2', 0.125),\n",
       "  ('9', '5', 0.17647058823529413),\n",
       "  ('7', '3', 0.125),\n",
       "  ('0', '8', 0.125),\n",
       "  ('3', '0', 0.1111111111111111),\n",
       "  ('8', '7', 0.09090909090909091),\n",
       "  ('6', '9', 0.11764705882352941)])"
      ]
     },
     "execution_count": 5,
     "metadata": {},
     "output_type": "execute_result"
    }
   ],
   "source": [
    "snap1, snap2 = ('0', '1')\n",
    "cd.get_snapshot_similarity(snap1, snap2, True)"
   ]
  },
  {
   "cell_type": "markdown",
   "id": "89da9184",
   "metadata": {},
   "source": [
    "# Group"
   ]
  },
  {
   "cell_type": "markdown",
   "id": "3e15e25c",
   "metadata": {},
   "source": [
    "## Group Evolution"
   ]
  },
  {
   "cell_type": "markdown",
   "id": "d1fd3d6c",
   "metadata": {},
   "source": [
    "To calculate the evolution of a group:"
   ]
  },
  {
   "cell_type": "code",
   "execution_count": 6,
   "id": "9bc41fbb",
   "metadata": {},
   "outputs": [
    {
     "data": {
      "text/plain": [
       "(2, [('4', 0.25), ('1', 0.25), ('6', 0.25), ('8', 0.25)])"
      ]
     },
     "execution_count": 6,
     "metadata": {},
     "output_type": "execute_result"
    }
   ],
   "source": [
    "snap1, group1, snap2 = '0', '0', '1'\n",
    "cd.get_group_evolution(snap1, group1, snap2)"
   ]
  },
  {
   "cell_type": "markdown",
   "id": "c8067cc3",
   "metadata": {},
   "source": [
    "## Group Provenance"
   ]
  },
  {
   "cell_type": "markdown",
   "id": "bcc5deeb",
   "metadata": {},
   "source": [
    "To calculate the provenance of a group:"
   ]
  },
  {
   "cell_type": "code",
   "execution_count": 7,
   "id": "ba0c505e",
   "metadata": {},
   "outputs": [
    {
     "data": {
      "text/plain": [
       "(2,\n",
       " [('6', 0.21428571428571427),\n",
       "  ('3', 0.14285714285714285),\n",
       "  ('10', 0.14285714285714285),\n",
       "  ('13', 0.14285714285714285),\n",
       "  ('5', 0.07142857142857142),\n",
       "  ('8', 0.07142857142857142),\n",
       "  ('7', 0.07142857142857142),\n",
       "  ('2', 0.07142857142857142),\n",
       "  ('4', 0.07142857142857142)])"
      ]
     },
     "execution_count": 7,
     "metadata": {},
     "output_type": "execute_result"
    }
   ],
   "source": [
    "snap1, group1, snap2 = '1', '0', '0'\n",
    "cd.get_group_provenance(snap1, group1, snap2)"
   ]
  },
  {
   "cell_type": "markdown",
   "id": "304cae2d",
   "metadata": {},
   "source": [
    "## Group Similarity"
   ]
  },
  {
   "cell_type": "markdown",
   "id": "58736d65",
   "metadata": {},
   "source": [
    "To calculate the jaccard similarity of two groups:"
   ]
  },
  {
   "cell_type": "code",
   "execution_count": 8,
   "id": "6f3e8803",
   "metadata": {},
   "outputs": [
    {
     "data": {
      "text/plain": [
       "0.10526315789473684"
      ]
     },
     "execution_count": 8,
     "metadata": {},
     "output_type": "execute_result"
    }
   ],
   "source": [
    "snap1, group1, snap2, group2 = '0', '0', '1', '1'\n",
    "cd.get_group_similarity(snap1, group1, snap2, group2)"
   ]
  },
  {
   "cell_type": "markdown",
   "id": "108c2557",
   "metadata": {},
   "source": [
    "# Member"
   ]
  },
  {
   "cell_type": "markdown",
   "id": "a22f3080",
   "metadata": {},
   "source": [
    "## Member Evolution"
   ]
  },
  {
   "cell_type": "markdown",
   "id": "2b1a9e77",
   "metadata": {},
   "source": [
    "To calculate the evolution of a member:"
   ]
  },
  {
   "cell_type": "code",
   "execution_count": 9,
   "id": "2a039f14",
   "metadata": {},
   "outputs": [
    {
     "data": {
      "text/plain": [
       "[('0', '1', 0.1111111111111111),\n",
       " ('1', '2', 0.09523809523809523),\n",
       " ('2', '3', 0.0625),\n",
       " ('3', '4', 0.058823529411764705),\n",
       " ('4', '5', 0.1),\n",
       " ('5', '6', 0.07142857142857142),\n",
       " ('6', '7', 0.1),\n",
       " ('7', '8', 0.13333333333333333),\n",
       " ('8', '9', 0.23529411764705882)]"
      ]
     },
     "execution_count": 9,
     "metadata": {},
     "output_type": "execute_result"
    }
   ],
   "source": [
    "cd.get_member_evolution('0')"
   ]
  },
  {
   "cell_type": "markdown",
   "id": "917e02c5",
   "metadata": {},
   "source": [
    "## Member Rules"
   ]
  },
  {
   "cell_type": "markdown",
   "id": "43dfc519",
   "metadata": {},
   "source": [
    "To calculate rules from frequent subgroups mining:"
   ]
  },
  {
   "cell_type": "code",
   "execution_count": 10,
   "id": "547cd70d",
   "metadata": {},
   "outputs": [
    {
     "data": {
      "text/html": [
       "<div>\n",
       "<style scoped>\n",
       "    .dataframe tbody tr th:only-of-type {\n",
       "        vertical-align: middle;\n",
       "    }\n",
       "\n",
       "    .dataframe tbody tr th {\n",
       "        vertical-align: top;\n",
       "    }\n",
       "\n",
       "    .dataframe thead th {\n",
       "        text-align: right;\n",
       "    }\n",
       "</style>\n",
       "<table border=\"1\" class=\"dataframe\">\n",
       "  <thead>\n",
       "    <tr style=\"text-align: right;\">\n",
       "      <th></th>\n",
       "      <th>antecedents</th>\n",
       "      <th>consequents</th>\n",
       "      <th>antecedent support</th>\n",
       "      <th>consequent support</th>\n",
       "      <th>support</th>\n",
       "      <th>confidence</th>\n",
       "      <th>lift</th>\n",
       "      <th>leverage</th>\n",
       "      <th>conviction</th>\n",
       "    </tr>\n",
       "  </thead>\n",
       "  <tbody>\n",
       "    <tr>\n",
       "      <th>1</th>\n",
       "      <td>(0)</td>\n",
       "      <td>(68)</td>\n",
       "      <td>1.0</td>\n",
       "      <td>1.0</td>\n",
       "      <td>1.0</td>\n",
       "      <td>1.0</td>\n",
       "      <td>1.0</td>\n",
       "      <td>0.0</td>\n",
       "      <td>inf</td>\n",
       "    </tr>\n",
       "    <tr>\n",
       "      <th>2</th>\n",
       "      <td>(0)</td>\n",
       "      <td>(72)</td>\n",
       "      <td>1.0</td>\n",
       "      <td>1.0</td>\n",
       "      <td>1.0</td>\n",
       "      <td>1.0</td>\n",
       "      <td>1.0</td>\n",
       "      <td>0.0</td>\n",
       "      <td>inf</td>\n",
       "    </tr>\n",
       "    <tr>\n",
       "      <th>4</th>\n",
       "      <td>(0)</td>\n",
       "      <td>(48)</td>\n",
       "      <td>1.0</td>\n",
       "      <td>1.0</td>\n",
       "      <td>1.0</td>\n",
       "      <td>1.0</td>\n",
       "      <td>1.0</td>\n",
       "      <td>0.0</td>\n",
       "      <td>inf</td>\n",
       "    </tr>\n",
       "    <tr>\n",
       "      <th>7</th>\n",
       "      <td>(0)</td>\n",
       "      <td>(60)</td>\n",
       "      <td>1.0</td>\n",
       "      <td>1.0</td>\n",
       "      <td>1.0</td>\n",
       "      <td>1.0</td>\n",
       "      <td>1.0</td>\n",
       "      <td>0.0</td>\n",
       "      <td>inf</td>\n",
       "    </tr>\n",
       "    <tr>\n",
       "      <th>9</th>\n",
       "      <td>(0)</td>\n",
       "      <td>(32)</td>\n",
       "      <td>1.0</td>\n",
       "      <td>1.0</td>\n",
       "      <td>1.0</td>\n",
       "      <td>1.0</td>\n",
       "      <td>1.0</td>\n",
       "      <td>0.0</td>\n",
       "      <td>inf</td>\n",
       "    </tr>\n",
       "  </tbody>\n",
       "</table>\n",
       "</div>"
      ],
      "text/plain": [
       "  antecedents consequents  antecedent support  consequent support  support  \\\n",
       "1         (0)        (68)                 1.0                 1.0      1.0   \n",
       "2         (0)        (72)                 1.0                 1.0      1.0   \n",
       "4         (0)        (48)                 1.0                 1.0      1.0   \n",
       "7         (0)        (60)                 1.0                 1.0      1.0   \n",
       "9         (0)        (32)                 1.0                 1.0      1.0   \n",
       "\n",
       "   confidence  lift  leverage  conviction  \n",
       "1         1.0   1.0       0.0         inf  \n",
       "2         1.0   1.0       0.0         inf  \n",
       "4         1.0   1.0       0.0         inf  \n",
       "7         1.0   1.0       0.0         inf  \n",
       "9         1.0   1.0       0.0         inf  "
      ]
     },
     "execution_count": 10,
     "metadata": {},
     "output_type": "execute_result"
    }
   ],
   "source": [
    "df = cd.get_member_rules('0')\n",
    "df.head()"
   ]
  }
 ],
 "metadata": {
  "kernelspec": {
   "display_name": "Geo (Python 3.8)",
   "language": "python",
   "name": "geo"
  },
  "language_info": {
   "codemirror_mode": {
    "name": "ipython",
    "version": 3
   },
   "file_extension": ".py",
   "mimetype": "text/x-python",
   "name": "python",
   "nbconvert_exporter": "python",
   "pygments_lexer": "ipython3",
   "version": "3.8.8"
  }
 },
 "nbformat": 4,
 "nbformat_minor": 5
}
